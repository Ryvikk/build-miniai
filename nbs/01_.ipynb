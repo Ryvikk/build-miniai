{
 "cells": [
  {
   "cell_type": "code",
   "execution_count": 1,
   "id": "5e392693",
   "metadata": {},
   "outputs": [],
   "source": [
    "import os \n",
    "import pickle\n",
    "import gzip\n",
    "import time\n",
    "import shutil\n",
    "import matplotlib as mpl\n",
    "import matplotlib.pyplot as plt\n",
    "from pathlib import Path"
   ]
  },
  {
   "cell_type": "code",
   "execution_count": 2,
   "id": "ca359e2d",
   "metadata": {},
   "outputs": [
    {
     "data": {
      "text/html": [
       "<style>.container { width:100% !important; }</style>"
      ],
      "text/plain": [
       "<IPython.core.display.HTML object>"
      ]
     },
     "metadata": {},
     "output_type": "display_data"
    }
   ],
   "source": [
    "from IPython.display import display, HTML\n",
    "display(HTML(\"<style>.container { width:100% !important; }</style>\"))"
   ]
  },
  {
   "cell_type": "code",
   "execution_count": 3,
   "id": "89f2a204",
   "metadata": {},
   "outputs": [],
   "source": [
    "# torch.set_printoptions(precision=2, linewidth=140, sci_mode=False)"
   ]
  },
  {
   "cell_type": "code",
   "execution_count": 4,
   "id": "db17b7bb",
   "metadata": {},
   "outputs": [],
   "source": [
    "MNIST_URL='https://github.com/mnielsen/neural-networks-and-deep-learning/blob/master/data/mnist.pkl.gz?raw=true'\n",
    "path_data = Path('data')\n",
    "path_data.mkdir(exist_ok=True)\n",
    "path_gz = path_data/'mnist.pkl.gz'"
   ]
  },
  {
   "cell_type": "code",
   "execution_count": 5,
   "id": "bd7aa45b",
   "metadata": {},
   "outputs": [],
   "source": [
    "from urllib.request import urlretrieve"
   ]
  },
  {
   "cell_type": "code",
   "execution_count": 6,
   "id": "0276a3f6",
   "metadata": {},
   "outputs": [],
   "source": [
    "if not path_gz.exists(): urlretrieve(MNIST_URL, path_gz)"
   ]
  },
  {
   "cell_type": "code",
   "execution_count": 7,
   "id": "424ab787",
   "metadata": {},
   "outputs": [
    {
     "name": "stdout",
     "output_type": "stream",
     "text": [
      "total 16656\r\n",
      "-rw-r--r-- 1 ryvik ryvik 17051982 Jan 16 23:07 mnist.pkl.gz\r\n"
     ]
    }
   ],
   "source": [
    "!ls -l data"
   ]
  },
  {
   "cell_type": "code",
   "execution_count": 8,
   "id": "537ac7aa",
   "metadata": {},
   "outputs": [],
   "source": [
    "with gzip.open(path_gz, 'rb') as f:\n",
    "    mnist_data = pickle.load(f, encoding='latin-1')"
   ]
  },
  {
   "cell_type": "code",
   "execution_count": 9,
   "id": "2e500838",
   "metadata": {},
   "outputs": [
    {
     "data": {
      "text/plain": [
       "(tuple, 3)"
      ]
     },
     "execution_count": 9,
     "metadata": {},
     "output_type": "execute_result"
    }
   ],
   "source": [
    "# mnist_data is a tuple of tuples of nparrays, there are a training set a validation set an a test set.\n",
    "type(mnist_data), len(mnist_data)"
   ]
  },
  {
   "cell_type": "code",
   "execution_count": 10,
   "id": "969daad3",
   "metadata": {},
   "outputs": [],
   "source": [
    "((x_train, y_train), (x_valid, y_valid), _) = mnist_data"
   ]
  },
  {
   "cell_type": "code",
   "execution_count": 11,
   "id": "7cf04f42",
   "metadata": {},
   "outputs": [
    {
     "data": {
      "text/plain": [
       "((50000, 784), (10000, 784))"
      ]
     },
     "execution_count": 11,
     "metadata": {},
     "output_type": "execute_result"
    }
   ],
   "source": [
    "x_train.shape, x_valid.shape"
   ]
  },
  {
   "cell_type": "code",
   "execution_count": 12,
   "id": "7042bc13",
   "metadata": {},
   "outputs": [
    {
     "data": {
      "text/plain": [
       "(array([0.        , 0.        , 0.        , 0.19140625, 0.9296875 ,\n",
       "        0.98828125, 0.98828125, 0.98828125, 0.98828125, 0.98828125],\n",
       "       dtype=float32),\n",
       " 5)"
      ]
     },
     "execution_count": 12,
     "metadata": {},
     "output_type": "execute_result"
    }
   ],
   "source": [
    "x_train[0][200:210], y_train[0]"
   ]
  },
  {
   "cell_type": "code",
   "execution_count": 13,
   "id": "662b5a80",
   "metadata": {},
   "outputs": [],
   "source": [
    "# The data is of type numpy.array\n",
    "# As we cannot use np.arrays but just the std python library for now, we'll change the format to a list and work a way to transform this list into a list of lists\n",
    "# "
   ]
  },
  {
   "cell_type": "markdown",
   "id": "879ada08",
   "metadata": {},
   "source": [
    "## Change the shape of the data\n",
    "\n",
    "\n",
    "> .For now we cannot use numpy so we'll use lists <br  />\n",
    "> .The list won't have the right shape so a list of lists should be built"
   ]
  },
  {
   "cell_type": "code",
   "execution_count": 14,
   "id": "1f0d9c98",
   "metadata": {},
   "outputs": [
    {
     "data": {
      "text/plain": [
       "784"
      ]
     },
     "execution_count": 14,
     "metadata": {},
     "output_type": "execute_result"
    }
   ],
   "source": [
    "ex1 = list(x_train[0])\n",
    "len(ex1)"
   ]
  },
  {
   "cell_type": "markdown",
   "id": "b0a03a67",
   "metadata": {},
   "source": [
    "##### Tests with the yield concept\n",
    "\n",
    "> Question: is `yield` a concept similar to what happens in async programming since it allows the program to keep running while this part yields?\n",
    "\n",
    "Yes in a way, because a yield instruction will just allow to interrupt the thread or one of the threads ofa process in a predetermined manner. Here `yield` does not break the sync nature of the program because the rest of the instruction will occur in the predefined sequential way in the thread line by line. However in async programming only one thread is running and a loop takes care of the distribution of the different tasks that run concurrently and each task has instrutions to work or wait while other aspects of the code are dynamically being executed. <br  />\n",
    "\n",
    "*see: https://stackoverflow.com/questions/59557125/why-is-it-that-only-asynchronous-functions-can-yield-in-asynchronous-code*  "
   ]
  },
  {
   "cell_type": "code",
   "execution_count": 15,
   "id": "5333c7f5",
   "metadata": {},
   "outputs": [],
   "source": [
    "import random "
   ]
  },
  {
   "cell_type": "code",
   "execution_count": 16,
   "id": "fbabb70f",
   "metadata": {},
   "outputs": [],
   "source": [
    "test = []\n",
    "for i in range(100):\n",
    "    test.append(random.randint(0,100))"
   ]
  },
  {
   "cell_type": "code",
   "execution_count": 17,
   "id": "e8347303",
   "metadata": {
    "scrolled": true
   },
   "outputs": [
    {
     "data": {
      "text/plain": [
       "[100, 11, 65, 10, 37, 46, 28, 91, 27, 4]"
      ]
     },
     "execution_count": 17,
     "metadata": {},
     "output_type": "execute_result"
    }
   ],
   "source": [
    "test[:10]"
   ]
  },
  {
   "cell_type": "code",
   "execution_count": 18,
   "id": "62d8b1fe",
   "metadata": {},
   "outputs": [],
   "source": [
    "sx = 2  # make it a global variable and change it while the loop is running"
   ]
  },
  {
   "cell_type": "code",
   "execution_count": 19,
   "id": "25bcd537",
   "metadata": {},
   "outputs": [],
   "source": [
    "def chunkk(x):\n",
    "    global sx\n",
    "    for i, j in enumerate(range(0, len(x), sx)):\n",
    "        yield (i, j)\n",
    "        print(sx)\n",
    "        yield x[i*sx:(i+1)*sx]"
   ]
  },
  {
   "cell_type": "code",
   "execution_count": 20,
   "id": "ad47db3f",
   "metadata": {},
   "outputs": [
    {
     "data": {
      "text/plain": [
       "<generator object chunkk at 0x7fa0f04e7450>"
      ]
     },
     "execution_count": 20,
     "metadata": {},
     "output_type": "execute_result"
    }
   ],
   "source": [
    "chunkk(test)"
   ]
  },
  {
   "cell_type": "code",
   "execution_count": 21,
   "id": "eed4eac6",
   "metadata": {},
   "outputs": [
    {
     "name": "stdout",
     "output_type": "stream",
     "text": [
      "(0, 0)\n",
      "2\n",
      "[100, 11]\n"
     ]
    }
   ],
   "source": [
    "val_iter = iter(chunkk(test))\n",
    "print(next(val_iter))\n",
    "print(next(val_iter))"
   ]
  },
  {
   "cell_type": "code",
   "execution_count": 22,
   "id": "1f2396cc",
   "metadata": {},
   "outputs": [],
   "source": [
    "sx = 3"
   ]
  },
  {
   "cell_type": "code",
   "execution_count": 23,
   "id": "aacfe3b5",
   "metadata": {},
   "outputs": [
    {
     "name": "stdout",
     "output_type": "stream",
     "text": [
      "(1, 2)\n",
      "3\n",
      "[10, 37, 46]\n"
     ]
    }
   ],
   "source": [
    "print(next(val_iter))\n",
    "print(next(val_iter))"
   ]
  },
  {
   "cell_type": "markdown",
   "id": "7cc805cc",
   "metadata": {},
   "source": [
    "The for for loop has started with the previous value of sx so the i and j values depend on the first value of sx=2 <br/>\n",
    "However as we `yield`, it is possible for the program to execute the following instructions with the updated value of sx=3."
   ]
  },
  {
   "cell_type": "markdown",
   "id": "b00a2624",
   "metadata": {},
   "source": [
    "#### Build the list of lists"
   ]
  },
  {
   "cell_type": "code",
   "execution_count": 24,
   "id": "400fc55f",
   "metadata": {
    "scrolled": true
   },
   "outputs": [
    {
     "data": {
      "text/plain": [
       "784"
      ]
     },
     "execution_count": 24,
     "metadata": {},
     "output_type": "execute_result"
    }
   ],
   "source": [
    "ex1 = list(x_train[0])\n",
    "len(ex1)"
   ]
  },
  {
   "cell_type": "code",
   "execution_count": 25,
   "id": "411c0440",
   "metadata": {},
   "outputs": [],
   "source": [
    "# Build list of lists of size sz\n",
    "def chunks(x, sz):\n",
    "    for i in range(0, len(x), sz): \n",
    "        yield x[i:i+sz]"
   ]
  },
  {
   "cell_type": "code",
   "execution_count": 26,
   "id": "5fa8eab0",
   "metadata": {},
   "outputs": [],
   "source": [
    "val_iter = iter(chunks(ex1, 5))"
   ]
  },
  {
   "cell_type": "code",
   "execution_count": 27,
   "id": "42d13992",
   "metadata": {},
   "outputs": [
    {
     "data": {
      "text/plain": [
       "[0.0, 0.0, 0.0, 0.0, 0.0]"
      ]
     },
     "execution_count": 27,
     "metadata": {},
     "output_type": "execute_result"
    }
   ],
   "source": [
    "next(val_iter)"
   ]
  },
  {
   "cell_type": "code",
   "execution_count": 28,
   "id": "9e688d35",
   "metadata": {},
   "outputs": [
    {
     "data": {
      "text/plain": [
       "<matplotlib.image.AxesImage at 0x7fa0f0406e60>"
      ]
     },
     "execution_count": 28,
     "metadata": {},
     "output_type": "execute_result"
    },
    {
     "data": {
      "image/png": "[encoded data removed]",
      "text/plain": [
       "<Figure size 300x300 with 1 Axes>"
      ]
     },
     "metadata": {},
     "output_type": "display_data"
    }
   ],
   "source": [
    "mpl.rcParams['figure.figsize'] = (3,3)\n",
    "mpl.rcParams['image.cmap'] = 'gray'\n",
    "plt.imshow(list(chunks(ex1, 28)))"
   ]
  },
  {
   "cell_type": "markdown",
   "id": "6f905738",
   "metadata": {},
   "source": [
    "> Check the python `itertools` library, it helps to use iterators in a efficient way\n",
    "\n",
    "> we can replace the chunk function with the `islice` method for instance: `islice` will create an iterator and we can use another iterator to pop the desired number of values at each call"
   ]
  },
  {
   "cell_type": "code",
   "execution_count": 29,
   "id": "d8ae5782",
   "metadata": {},
   "outputs": [],
   "source": [
    "from itertools import islice"
   ]
  },
  {
   "cell_type": "code",
   "execution_count": 30,
   "id": "fb4e0acd",
   "metadata": {},
   "outputs": [],
   "source": [
    "it = iter(ex1)\n",
    "it_s = iter(ex1[200:210])"
   ]
  },
  {
   "cell_type": "code",
   "execution_count": 31,
   "id": "b3205429",
   "metadata": {
    "scrolled": true
   },
   "outputs": [
    {
     "data": {
      "text/plain": [
       "([0.0, 0.0, 0.0, 0.19140625, 0.9296875],\n",
       " [0.98828125, 0.98828125, 0.98828125, 0.98828125, 0.98828125])"
      ]
     },
     "execution_count": 31,
     "metadata": {},
     "output_type": "execute_result"
    }
   ],
   "source": [
    "list(islice(it_s, 5)), list(islice(it_s, 5))"
   ]
  },
  {
   "cell_type": "markdown",
   "id": "d1166716",
   "metadata": {},
   "source": [
    ">.Now we can create another iterator with a function to get all the islice iterator values -- see the docstring of iter() with shift+tab <br>\n",
    ".(We could also build an adequate class with the functions $__iter__$ and $__next__$ functions)"
   ]
  },
  {
   "cell_type": "code",
   "execution_count": 32,
   "id": "b35a7608",
   "metadata": {
    "scrolled": true
   },
   "outputs": [],
   "source": [
    "img = list(iter(lambda: list(islice(it, 28)), []))"
   ]
  },
  {
   "cell_type": "code",
   "execution_count": 33,
   "id": "c96a5019",
   "metadata": {},
   "outputs": [
    {
     "data": {
      "image/png": "[encoded data removed]",
      "text/plain": [
       "<Figure size 300x300 with 1 Axes>"
      ]
     },
     "metadata": {},
     "output_type": "display_data"
    }
   ],
   "source": [
    "plt.imshow(img);"
   ]
  },
  {
   "cell_type": "markdown",
   "id": "c7f05898",
   "metadata": {},
   "source": [
    "> Let's check the performance:\n",
    "\n",
    "    1. islice method\n",
    "    2. chunks function method"
   ]
  },
  {
   "cell_type": "code",
   "execution_count": 34,
   "id": "7badcad5",
   "metadata": {
    "scrolled": true
   },
   "outputs": [
    {
     "name": "stdout",
     "output_type": "stream",
     "text": [
      "13 µs ± 406 ns per loop (mean ± std. dev. of 7 runs, 100,000 loops each)\n"
     ]
    }
   ],
   "source": [
    "%%timeit\n",
    "it = iter(ex1)\n",
    "img = list(iter(lambda: list(islice(it, 28)), []))"
   ]
  },
  {
   "cell_type": "code",
   "execution_count": 35,
   "id": "14995542",
   "metadata": {},
   "outputs": [
    {
     "name": "stdout",
     "output_type": "stream",
     "text": [
      "256 ns ± 6.67 ns per loop (mean ± std. dev. of 7 runs, 1,000,000 loops each)\n"
     ]
    }
   ],
   "source": [
    "%%timeit\n",
    "it = iter(ex1)\n",
    "val_iter = iter(chunks(ex1, 28))"
   ]
  },
  {
   "cell_type": "markdown",
   "id": "fd437f34",
   "metadata": {},
   "source": [
    "#### Now let's build a representation of the list that allows us to use the [x,y] format instead of [x][y] "
   ]
  },
  {
   "cell_type": "code",
   "execution_count": 36,
   "id": "395b9227",
   "metadata": {
    "scrolled": true
   },
   "outputs": [
    {
     "data": {
      "text/plain": [
       "0.09375"
      ]
     },
     "execution_count": 36,
     "metadata": {},
     "output_type": "execute_result"
    }
   ],
   "source": [
    "img[20][10]"
   ]
  },
  {
   "cell_type": "code",
   "execution_count": 37,
   "id": "3c24772d",
   "metadata": {},
   "outputs": [],
   "source": [
    "class Matrix():\n",
    "    def __init__(self, xs): \n",
    "        self.xs = xs\n",
    "        self.shape = (len(xs),len(xs[0]))\n",
    "    def __getitem__(self, idx): return self.xs[idx[0]][idx[1]]\n",
    "    def __repr__(self): \n",
    "        for l in self.xs: print(str(l))\n",
    "    "
   ]
  },
  {
   "cell_type": "code",
   "execution_count": 38,
   "id": "8a6a4db2",
   "metadata": {},
   "outputs": [
    {
     "data": {
      "text/plain": [
       "(28, 28)"
      ]
     },
     "execution_count": 38,
     "metadata": {},
     "output_type": "execute_result"
    }
   ],
   "source": [
    "m_img = Matrix(img)\n",
    "m_img.shape"
   ]
  },
  {
   "cell_type": "code",
   "execution_count": 39,
   "id": "060d2fb7",
   "metadata": {
    "scrolled": true
   },
   "outputs": [
    {
     "data": {
      "text/plain": [
       "0.0703125"
      ]
     },
     "execution_count": 39,
     "metadata": {},
     "output_type": "execute_result"
    }
   ],
   "source": [
    "m_img[5,15]"
   ]
  },
  {
   "cell_type": "markdown",
   "id": "c3dbb24b",
   "metadata": {},
   "source": [
    "> Now that we can represent data in that form, we can use the pytorch tensor representation"
   ]
  },
  {
   "cell_type": "code",
   "execution_count": 40,
   "id": "4b5a83a7",
   "metadata": {},
   "outputs": [],
   "source": [
    "import torch\n",
    "from torch import tensor"
   ]
  },
  {
   "cell_type": "code",
   "execution_count": 41,
   "id": "62624819",
   "metadata": {},
   "outputs": [
    {
     "data": {
      "text/plain": [
       "tensor(0.0703)"
      ]
     },
     "execution_count": 41,
     "metadata": {},
     "output_type": "execute_result"
    }
   ],
   "source": [
    "t_img = tensor(img)\n",
    "t_img[5, 15]"
   ]
  },
  {
   "cell_type": "markdown",
   "id": "6f3ac0e3",
   "metadata": {},
   "source": [
    "> Let's transform all the data into torch tensors"
   ]
  },
  {
   "cell_type": "code",
   "execution_count": 42,
   "id": "e1c54316",
   "metadata": {},
   "outputs": [],
   "source": [
    "x_train, x_valid, y_train, y_valid = map(tensor, (x_train, x_valid, y_train, y_valid))"
   ]
  },
  {
   "cell_type": "code",
   "execution_count": 43,
   "id": "8468a095",
   "metadata": {},
   "outputs": [
    {
     "data": {
      "text/plain": [
       "torch.Size([50000, 784])"
      ]
     },
     "execution_count": 43,
     "metadata": {},
     "output_type": "execute_result"
    }
   ],
   "source": [
    "x_train.shape"
   ]
  },
  {
   "cell_type": "code",
   "execution_count": 44,
   "id": "6136a245",
   "metadata": {},
   "outputs": [],
   "source": [
    "imgs = x_train.reshape(-1, 28,28)"
   ]
  },
  {
   "cell_type": "code",
   "execution_count": 45,
   "id": "edbc45be",
   "metadata": {},
   "outputs": [
    {
     "data": {
      "text/plain": [
       "torch.Size([50000, 28, 28])"
      ]
     },
     "execution_count": 45,
     "metadata": {},
     "output_type": "execute_result"
    }
   ],
   "source": [
    "imgs.shape"
   ]
  },
  {
   "cell_type": "code",
   "execution_count": 46,
   "id": "c2c7fce6",
   "metadata": {},
   "outputs": [
    {
     "data": {
      "text/plain": [
       "<matplotlib.image.AxesImage at 0x7fa05e900e80>"
      ]
     },
     "execution_count": 46,
     "metadata": {},
     "output_type": "execute_result"
    },
    {
     "data": {
      "image/png": "[encoded data removed]",
      "text/plain": [
       "<Figure size 300x300 with 1 Axes>"
      ]
     },
     "metadata": {},
     "output_type": "display_data"
    }
   ],
   "source": [
    "plt.imshow(imgs[0])"
   ]
  },
  {
   "cell_type": "code",
   "execution_count": 47,
   "id": "029384c3",
   "metadata": {},
   "outputs": [
    {
     "data": {
      "text/plain": [
       "torch.Size([50000, 784])"
      ]
     },
     "execution_count": 47,
     "metadata": {},
     "output_type": "execute_result"
    }
   ],
   "source": [
    "x_train.shape"
   ]
  },
  {
   "cell_type": "markdown",
   "id": "6969d20c",
   "metadata": {},
   "source": [
    "#### Exploration of random number generators\n",
    "\n",
    "> We'll use the `os.fork()` method to create two separate processes to see how the random number generators behave in two forked processes. A quick check to understand how os.fork works can be found [here](https://stackoverflow.com/questions/33560802/pythonhow-os-fork-works).<br>\n",
    "> The explanations of the most voted and the validated answers clearly explain what's happening when `os.fork()` is called.<br>\n",
    "The code of the validated answer is copied in the following cell $\\downarrow$"
   ]
  },
  {
   "cell_type": "code",
   "execution_count": 48,
   "id": "9f1b353a",
   "metadata": {},
   "outputs": [],
   "source": [
    "# for i in range(2):\n",
    "#     print('**********%d***********' % i)\n",
    "#     print(time.time())\n",
    "#     pid = os.fork()\n",
    "#     if pid == 0:\n",
    "#         # We are in the child process.\n",
    "#         print(\"%d (child) just was created by %d.\" % (os.getpid(), os.getppid()))\n",
    "#         print()\n",
    "#     else:\n",
    "#         # We are in the parent process.\n",
    "#         print(\"%d (parent) just created %d.\" % (os.getpid(), pid))\n",
    "#         print()"
   ]
  },
  {
   "cell_type": "markdown",
   "id": "84db360d",
   "metadata": {},
   "source": [
    "> From the moment `os.fork()` is called, two identical processes run simultanmeously "
   ]
  },
  {
   "cell_type": "code",
   "execution_count": 49,
   "id": "26da141b",
   "metadata": {},
   "outputs": [
    {
     "name": "stdout",
     "output_type": "stream",
     "text": [
      "In elder - the value of uu is 7\n",
      "In disciple - the value of uu is 5\n"
     ]
    }
   ],
   "source": [
    "uu = 5\n",
    "if os.fork(): \n",
    "    uu = 7\n",
    "    print(f'In elder - the value of uu is {uu}')\n",
    "else:\n",
    "    print(f'In disciple - the value of uu is {uu}')\n",
    "    os._exit(os.EX_OK)"
   ]
  },
  {
   "cell_type": "markdown",
   "id": "2cce5544",
   "metadata": {},
   "source": [
    "> Using `os.fork()` will allow us to verify if the pseudo random number seed (and thus sequence) is reinitialized when a fork is created. <br>\n",
    "We first build a random number generator:"
   ]
  },
  {
   "cell_type": "code",
   "execution_count": 50,
   "id": "ffa4f5c9",
   "metadata": {},
   "outputs": [],
   "source": [
    "rnd_state = None\n",
    "def seed(a):\n",
    "    global rnd_state\n",
    "    a, x = divmod(a, 30268)\n",
    "    a, y = divmod(a, 30306)\n",
    "    a, z = divmod(a, 30322)\n",
    "    rnd_state = int(x)+1, int(y)+1, int(z)+1"
   ]
  },
  {
   "cell_type": "code",
   "execution_count": 51,
   "id": "0f73cb66",
   "metadata": {},
   "outputs": [
    {
     "data": {
      "text/plain": [
       "(19310, 3, 1)"
      ]
     },
     "execution_count": 51,
     "metadata": {},
     "output_type": "execute_result"
    }
   ],
   "source": [
    "seed(79845)\n",
    "rnd_state"
   ]
  },
  {
   "cell_type": "code",
   "execution_count": 52,
   "id": "50272e97",
   "metadata": {},
   "outputs": [],
   "source": [
    "def rand():\n",
    "    global rnd_state\n",
    "    x, y, z = rnd_state\n",
    "    x = (171 * x) % 30269\n",
    "    y = (172 * y) % 30307\n",
    "    z = (170 * z) % 30323\n",
    "    rnd_state = x,y,z\n",
    "    return (x/30269 + y/30307 + z/30323) % 1.0"
   ]
  },
  {
   "cell_type": "code",
   "execution_count": 53,
   "id": "db766e9c",
   "metadata": {},
   "outputs": [
    {
     "data": {
      "text/plain": [
       "(0.11146883875451012, 0.07259089120069717, 0.3884028450770509)"
      ]
     },
     "execution_count": 53,
     "metadata": {},
     "output_type": "execute_result"
    }
   ],
   "source": [
    "rand(),rand(),rand()"
   ]
  },
  {
   "cell_type": "markdown",
   "id": "99d118ef",
   "metadata": {},
   "source": [
    ">We can see in the following cell that the random number is the same in both processes for :\n",
    ">   - our generator \n",
    ">   - pytorch \n",
    ">   - numpy <br>\n",
    "\n",
    ">but not for the python standard library `random` module!"
   ]
  },
  {
   "cell_type": "code",
   "execution_count": 54,
   "id": "5c167a4f",
   "metadata": {},
   "outputs": [
    {
     "name": "stdout",
     "output_type": "stream",
     "text": [
      "In parent: 0.08502771771920781\n",
      "In child: 0.08502771771920781\n"
     ]
    }
   ],
   "source": [
    "if os.fork(): print(f'In parent: {rand()}')\n",
    "else:\n",
    "    print(f'In child: {rand()}')\n",
    "    os._exit(os.EX_OK)"
   ]
  },
  {
   "cell_type": "code",
   "execution_count": 55,
   "id": "e3bd8722",
   "metadata": {},
   "outputs": [
    {
     "name": "stdout",
     "output_type": "stream",
     "text": [
      "In parent: tensor([0.4803])\n",
      "In child: tensor([0.4803])\n"
     ]
    }
   ],
   "source": [
    "if os.fork(): print(f'In parent: {torch.rand(1)}')\n",
    "else:\n",
    "    print(f'In child: {torch.rand(1)}')\n",
    "    os._exit(os.EX_OK)"
   ]
  },
  {
   "cell_type": "code",
   "execution_count": 56,
   "id": "d20aafa2",
   "metadata": {},
   "outputs": [
    {
     "name": "stdout",
     "output_type": "stream",
     "text": [
      "In parent: [0.17033669]\n",
      "In child: [0.17033669]\n"
     ]
    }
   ],
   "source": [
    "import numpy as np\n",
    "if os.fork(): print(f'In parent: {np.random.rand(1)}')\n",
    "else:\n",
    "    print(f'In child: {np.random.rand(1)}')\n",
    "    os._exit(os.EX_OK)"
   ]
  },
  {
   "cell_type": "code",
   "execution_count": 57,
   "id": "02112637",
   "metadata": {},
   "outputs": [
    {
     "name": "stdout",
     "output_type": "stream",
     "text": [
      "In parent: 0.9338059025149558\n",
      "In child: 0.8093598507929066\n"
     ]
    }
   ],
   "source": [
    "from random import random\n",
    "if os.fork(): print(f'In parent: {random()}')\n",
    "else:\n",
    "    print(f'In child: {random()}')\n",
    "    os._exit(os.EX_OK)"
   ]
  },
  {
   "cell_type": "code",
   "execution_count": 79,
   "id": "8c3d50ad",
   "metadata": {
    "scrolled": true
   },
   "outputs": [
    {
     "name": "stdout",
     "output_type": "stream",
     "text": [
      "390 µs ± 47.9 µs per loop (mean ± std. dev. of 7 runs, 10 loops each)\n"
     ]
    }
   ],
   "source": [
    "%timeit -n 10 list(chunks([rand() for _ in range(784)], 10))"
   ]
  },
  {
   "cell_type": "code",
   "execution_count": 80,
   "id": "6c107047",
   "metadata": {},
   "outputs": [
    {
     "name": "stdout",
     "output_type": "stream",
     "text": [
      "The slowest run took 5.33 times longer than the fastest. This could mean that an intermediate result is being cached.\n",
      "67.7 µs ± 60.9 µs per loop (mean ± std. dev. of 7 runs, 10 loops each)\n"
     ]
    }
   ],
   "source": [
    "%timeit -n 10 torch.randn(784, 10)"
   ]
  },
  {
   "cell_type": "markdown",
   "id": "934e81f2",
   "metadata": {},
   "source": [
    "### Reproduce Matrix multiplication\n",
    ".We'll take the 5 first examples of the set and the flattened representation of the 28x28 pixels to 784<br>\n",
    ".The 5 first examples will be represented as a 5x784 tensor<br>\n",
    ".We can use the datasets as torch tensors since we converted them earlier with `x_train, x_valid, y_train, y_valid = map(tensor, (x_train, x_valid, y_train, y_valid))`"
   ]
  },
  {
   "cell_type": "code",
   "execution_count": 60,
   "id": "741bd4d2",
   "metadata": {},
   "outputs": [],
   "source": [
    "torch.manual_seed(1)\n",
    "weights = torch.randn(784, 10)\n",
    "bias = torch.zeros(10)"
   ]
  },
  {
   "cell_type": "code",
   "execution_count": 255,
   "id": "7bad8100",
   "metadata": {},
   "outputs": [
    {
     "data": {
      "text/plain": [
       "(torch.Size([5, 784]), torch.Size([784, 10]), 5, 784, 10)"
      ]
     },
     "execution_count": 255,
     "metadata": {},
     "output_type": "execute_result"
    }
   ],
   "source": [
    "m1 = x_train[:5]\n",
    "m2 = weights\n",
    "si, sk = m1.shape\n",
    "sk, sj = m2.shape\n",
    "m1.shape, m2.shape, si, sk, sj"
   ]
  },
  {
   "cell_type": "code",
   "execution_count": 90,
   "id": "1758d56f",
   "metadata": {},
   "outputs": [
    {
     "data": {
      "text/plain": [
       "torch.Size([5, 10])"
      ]
     },
     "execution_count": 90,
     "metadata": {},
     "output_type": "execute_result"
    }
   ],
   "source": [
    "m3 = torch.zeros(5, 10)\n",
    "m3.shape"
   ]
  },
  {
   "cell_type": "code",
   "execution_count": 63,
   "id": "6016fe76",
   "metadata": {},
   "outputs": [],
   "source": [
    "for i in range(si):\n",
    "    for j in range(sj):\n",
    "        for k in range(sk): \n",
    "            m3[i, j] += m1[i,k]*m2[k,j]"
   ]
  },
  {
   "cell_type": "code",
   "execution_count": 64,
   "id": "ba56d322",
   "metadata": {},
   "outputs": [],
   "source": [
    "torch.set_printoptions(precision=2, linewidth=140, sci_mode=False)"
   ]
  },
  {
   "cell_type": "code",
   "execution_count": 65,
   "id": "9fff69d0",
   "metadata": {},
   "outputs": [
    {
     "data": {
      "text/plain": [
       "(tensor([[  0.96,  -2.96,  -2.11,   0.27,   1.28,  -5.20, -10.31, -15.09, -17.69,   0.60],\n",
       "         [  6.89,  -0.34,   0.79, -14.74,   6.90,  -3.08, -15.04, -17.13, -25.36,  16.23],\n",
       "         [-10.18,   7.38,   4.13,   3.27,  13.88,  -5.15,  -7.14,  -6.73,  -6.79,  -1.58],\n",
       "         [  0.97,   2.39, -15.22,   7.73,  -8.19, -12.33,  -5.98,  -1.17,   7.05,  -1.42],\n",
       "         [  6.85,  14.07, -11.92,   2.34,   4.62,  -3.37,  -5.47,  -0.65, -30.56,   7.88]]),\n",
       " tensor([[  0.96,  -2.96,  -2.11,   0.27,   1.28,  -5.20, -10.31, -15.09, -17.69,   0.60],\n",
       "         [  6.89,  -0.34,   0.79, -14.74,   6.90,  -3.08, -15.04, -17.13, -25.36,  16.23],\n",
       "         [-10.18,   7.38,   4.13,   3.27,  13.88,  -5.15,  -7.14,  -6.73,  -6.79,  -1.58],\n",
       "         [  0.97,   2.39, -15.22,   7.73,  -8.19, -12.33,  -5.98,  -1.17,   7.05,  -1.42],\n",
       "         [  6.85,  14.07, -11.92,   2.34,   4.62,  -3.37,  -5.47,  -0.65, -30.56,   7.88]]))"
      ]
     },
     "execution_count": 65,
     "metadata": {},
     "output_type": "execute_result"
    }
   ],
   "source": [
    "m1@m2, m3"
   ]
  },
  {
   "cell_type": "code",
   "execution_count": 161,
   "id": "8bb35b85",
   "metadata": {},
   "outputs": [],
   "source": [
    "def matmul(m1, m2):\n",
    "    si, sk = m1.shape\n",
    "    sk, sj = m2.shape\n",
    "    m3 = torch.zeros(si, sj)\n",
    "    for i in range(si):\n",
    "        for j in range(sj):\n",
    "            for k in range(sk): \n",
    "                m3[i, j] += m1[i,k]*m2[k,j]\n",
    "    return m3"
   ]
  },
  {
   "cell_type": "code",
   "execution_count": 164,
   "id": "8bc17f24",
   "metadata": {
    "scrolled": true
   },
   "outputs": [
    {
     "name": "stdout",
     "output_type": "stream",
     "text": [
      "CPU times: user 611 ms, sys: 163 µs, total: 611 ms\n",
      "Wall time: 610 ms\n"
     ]
    }
   ],
   "source": [
    "%time _=matmul(m1, m2)"
   ]
  },
  {
   "cell_type": "markdown",
   "id": "e87563d5",
   "metadata": {},
   "source": [
    "> We can accelerate this by precompiling this funciton in C via `numba`<br>\n",
    "To use numba here we need to build a function that does not depend on `torch` arrays, but it works with `numpy`"
   ]
  },
  {
   "cell_type": "code",
   "execution_count": 174,
   "id": "fd772cb5",
   "metadata": {},
   "outputs": [],
   "source": [
    "from numba import njit\n",
    "import numpy as np"
   ]
  },
  {
   "cell_type": "markdown",
   "id": "a6a8c0a6",
   "metadata": {},
   "source": [
    "> try `njit` on the whole function: <br>\n",
    "*fastest result*"
   ]
  },
  {
   "cell_type": "code",
   "execution_count": 212,
   "id": "1773f699",
   "metadata": {},
   "outputs": [],
   "source": [
    "m3 = torch.zeros(5,10)\n",
    "@njit\n",
    "def matmul(m1, m2, m3):\n",
    "    si, sk = m1.shape\n",
    "    sk, sj = m2.shape\n",
    "#     m3 = np.zeros(si, sj)\n",
    "    for i in range(si):\n",
    "        for j in range(sj):\n",
    "            for k in range(sk): \n",
    "                m3[i, j] += m1[i,k]*m2[k,j]\n",
    "    return m3"
   ]
  },
  {
   "cell_type": "code",
   "execution_count": 213,
   "id": "9d11b27d",
   "metadata": {
    "scrolled": false
   },
   "outputs": [
    {
     "name": "stdout",
     "output_type": "stream",
     "text": [
      "CPU times: user 133 ms, sys: 48 µs, total: 133 ms\n",
      "Wall time: 132 ms\n"
     ]
    }
   ],
   "source": [
    "%time _=matmul(m1.numpy(), m2.numpy(), m3.numpy())"
   ]
  },
  {
   "cell_type": "code",
   "execution_count": 214,
   "id": "b9aadb0b",
   "metadata": {
    "scrolled": false
   },
   "outputs": [
    {
     "name": "stdout",
     "output_type": "stream",
     "text": [
      "CPU times: user 212 µs, sys: 0 ns, total: 212 µs\n",
      "Wall time: 252 µs\n"
     ]
    }
   ],
   "source": [
    "%time _=matmul(m1.numpy(), m2.numpy(), m3.numpy())"
   ]
  },
  {
   "cell_type": "markdown",
   "id": "c5ff245c",
   "metadata": {},
   "source": [
    "> try `njit` on the inner loop (dot product function):<br>\n",
    "*note that the first time we use the function, the execution time is longer because numba has to compile the code in C*\n"
   ]
  },
  {
   "cell_type": "code",
   "execution_count": 215,
   "id": "500d82c0",
   "metadata": {},
   "outputs": [],
   "source": [
    "@njit \n",
    "def dot(u,v):\n",
    "    res = 0.\n",
    "    for i in range(len(u)): res+=u[i]*v[i]\n",
    "    return res"
   ]
  },
  {
   "cell_type": "code",
   "execution_count": 216,
   "id": "bb20a42e",
   "metadata": {},
   "outputs": [
    {
     "name": "stdout",
     "output_type": "stream",
     "text": [
      "CPU times: user 70.6 ms, sys: 10 µs, total: 70.6 ms\n",
      "Wall time: 69.4 ms\n"
     ]
    },
    {
     "data": {
      "text/plain": [
       "38.0"
      ]
     },
     "execution_count": 216,
     "metadata": {},
     "output_type": "execute_result"
    }
   ],
   "source": [
    "%time dot(np.array([1,2,3]), np.array([5,6,7]))"
   ]
  },
  {
   "cell_type": "code",
   "execution_count": 217,
   "id": "3cd2ea9f",
   "metadata": {
    "scrolled": true
   },
   "outputs": [
    {
     "name": "stdout",
     "output_type": "stream",
     "text": [
      "CPU times: user 22 µs, sys: 0 ns, total: 22 µs\n",
      "Wall time: 24.8 µs\n"
     ]
    },
    {
     "data": {
      "text/plain": [
       "38.0"
      ]
     },
     "execution_count": 217,
     "metadata": {},
     "output_type": "execute_result"
    }
   ],
   "source": [
    "%time dot(np.array([1,2,3]), np.array([5,6,7]))"
   ]
  },
  {
   "cell_type": "markdown",
   "id": "1a10cae5",
   "metadata": {},
   "source": [
    "###### compare with later implementation\n",
    "*$\\downarrow$(compare the last result of the section below with later implementations)*"
   ]
  },
  {
   "cell_type": "markdown",
   "id": "66dcb9fa",
   "metadata": {},
   "source": [
    "> And the performance in `matmul`: <br>\n",
    "*compared to the previous njited matmul, the first execution is faster but the consecutive executions are slower*"
   ]
  },
  {
   "cell_type": "code",
   "execution_count": 256,
   "id": "469b9d43",
   "metadata": {},
   "outputs": [],
   "source": [
    "def matmul(m1, m2):\n",
    "    si, sk = m1.shape\n",
    "    sk, sj = m2.shape\n",
    "    m3 = torch.zeros(si, sj)\n",
    "    for i in range(si):\n",
    "        for j in range(sj):\n",
    "            m3[i,j] = dot(m1[i,:],m2[:,j])\n",
    "    return m3"
   ]
  },
  {
   "cell_type": "code",
   "execution_count": 219,
   "id": "4e473a8e",
   "metadata": {
    "scrolled": false
   },
   "outputs": [
    {
     "name": "stdout",
     "output_type": "stream",
     "text": [
      "CPU times: user 77.3 ms, sys: 141 µs, total: 77.5 ms\n",
      "Wall time: 76.8 ms\n"
     ]
    }
   ],
   "source": [
    "%time _=matmul(m1.numpy(), m2.numpy())"
   ]
  },
  {
   "cell_type": "code",
   "execution_count": 220,
   "id": "7bf1ec9f",
   "metadata": {
    "scrolled": true
   },
   "outputs": [
    {
     "name": "stdout",
     "output_type": "stream",
     "text": [
      "CPU times: user 3.45 ms, sys: 3 µs, total: 3.45 ms\n",
      "Wall time: 2.91 ms\n"
     ]
    }
   ],
   "source": [
    "%time _=matmul(m1.numpy(), m2.numpy())"
   ]
  },
  {
   "cell_type": "code",
   "execution_count": 261,
   "id": "e30def26",
   "metadata": {
    "scrolled": true
   },
   "outputs": [
    {
     "name": "stdout",
     "output_type": "stream",
     "text": [
      "438 µs ± 95.7 µs per loop (mean ± std. dev. of 7 runs, 50 loops each)\n"
     ]
    }
   ],
   "source": [
    "%timeit -n 50 matmul(m1.numpy(), m2.numpy())"
   ]
  },
  {
   "cell_type": "markdown",
   "id": "cf83043e",
   "metadata": {},
   "source": [
    "> try on the whole matmul function again but with the 'njited' dot function as well: <br>\n",
    "  *worst result*"
   ]
  },
  {
   "cell_type": "code",
   "execution_count": 221,
   "id": "3ff29850",
   "metadata": {},
   "outputs": [],
   "source": [
    "m3 = torch.zeros(5,10)\n",
    "@njit\n",
    "def matmul(m1, m2, m3):\n",
    "    si, sk = m1.shape\n",
    "    sk, sj = m2.shape\n",
    "#     m3 = np.zeros(si, sj)\n",
    "    for i in range(si):\n",
    "        for j in range(sj):\n",
    "            for k in range(sk): \n",
    "                m3[i, j] += dot(m1[i,:],m2[:,j])\n",
    "    return m3"
   ]
  },
  {
   "cell_type": "code",
   "execution_count": 222,
   "id": "4288aeeb",
   "metadata": {
    "scrolled": false
   },
   "outputs": [
    {
     "name": "stdout",
     "output_type": "stream",
     "text": [
      "CPU times: user 176 ms, sys: 111 µs, total: 176 ms\n",
      "Wall time: 175 ms\n"
     ]
    }
   ],
   "source": [
    "%time _=matmul(m1.numpy(), m2.numpy(), m3.numpy())"
   ]
  },
  {
   "cell_type": "code",
   "execution_count": 223,
   "id": "d3b41e9d",
   "metadata": {
    "scrolled": false
   },
   "outputs": [
    {
     "name": "stdout",
     "output_type": "stream",
     "text": [
      "CPU times: user 39.9 ms, sys: 0 ns, total: 39.9 ms\n",
      "Wall time: 39.5 ms\n"
     ]
    }
   ],
   "source": [
    "%time _=matmul(m1.numpy(), m2.numpy(), m3.numpy())"
   ]
  },
  {
   "cell_type": "markdown",
   "id": "6883eaf4",
   "metadata": {},
   "source": [
    "#### Elementwise operations"
   ]
  },
  {
   "cell_type": "code",
   "execution_count": 227,
   "id": "76fd3cff",
   "metadata": {},
   "outputs": [
    {
     "data": {
      "text/plain": [
       "(tensor([5, 3, 1]), tensor([2, 5, 9]))"
      ]
     },
     "execution_count": 227,
     "metadata": {},
     "output_type": "execute_result"
    }
   ],
   "source": [
    "u = tensor([5,3,1])\n",
    "v = tensor([2,5,9])\n",
    "u, v"
   ]
  },
  {
   "cell_type": "code",
   "execution_count": 262,
   "id": "ab3d6339",
   "metadata": {},
   "outputs": [
    {
     "data": {
      "text/plain": [
       "tensor([ 7,  8, 10])"
      ]
     },
     "execution_count": 262,
     "metadata": {},
     "output_type": "execute_result"
    }
   ],
   "source": [
    "u + v"
   ]
  },
  {
   "cell_type": "code",
   "execution_count": 231,
   "id": "b395c0e4",
   "metadata": {},
   "outputs": [
    {
     "data": {
      "text/plain": [
       "tensor(0.67)"
      ]
     },
     "execution_count": 231,
     "metadata": {},
     "output_type": "execute_result"
    }
   ],
   "source": [
    "(u<v).float().mean()"
   ]
  },
  {
   "cell_type": "code",
   "execution_count": 233,
   "id": "a0e817d1",
   "metadata": {},
   "outputs": [
    {
     "data": {
      "text/plain": [
       "tensor([[4, 4, 9],\n",
       "        [5, 4, 6],\n",
       "        [7, 9, 1]])"
      ]
     },
     "execution_count": 233,
     "metadata": {},
     "output_type": "execute_result"
    }
   ],
   "source": [
    "m = tensor([[4,4,9],[5,4,6],[7,9,1]])\n",
    "m"
   ]
  },
  {
   "cell_type": "code",
   "execution_count": 238,
   "id": "c205dc57",
   "metadata": {},
   "outputs": [
    {
     "data": {
      "text/plain": [
       "tensor(17.92)"
      ]
     },
     "execution_count": 238,
     "metadata": {},
     "output_type": "execute_result"
    }
   ],
   "source": [
    "(m**2).sum().sqrt()"
   ]
  },
  {
   "cell_type": "markdown",
   "id": "258ab968",
   "metadata": {},
   "source": [
    "> we can now use the sum operation to simplify one loop:"
   ]
  },
  {
   "cell_type": "code",
   "execution_count": 249,
   "id": "58a73319",
   "metadata": {},
   "outputs": [],
   "source": [
    "def matmul(m1, m2):\n",
    "    (si, sk), (sk, sj) = m1.shape, m2.shape\n",
    "    m3 = torch.zeros(si, sj)\n",
    "    for i in range(si):\n",
    "        for j in range(sj): m3[i, j] = (m1[i,:]*m2[:,j]).sum()\n",
    "    return m3"
   ]
  },
  {
   "cell_type": "code",
   "execution_count": 253,
   "id": "ce24df57",
   "metadata": {},
   "outputs": [
    {
     "name": "stdout",
     "output_type": "stream",
     "text": [
      "927 µs ± 56.7 µs per loop (mean ± std. dev. of 7 runs, 50 loops each)\n"
     ]
    }
   ],
   "source": [
    "%timeit -n 50 matmul(m1, m2)"
   ]
  },
  {
   "cell_type": "markdown",
   "id": "7d419c80",
   "metadata": {},
   "source": [
    "$\\uparrow$ the result above is good but not as good as the matmul function with the `njit` dot() function [see here](#compare-with-later-implementation)"
   ]
  },
  {
   "cell_type": "markdown",
   "id": "b98b636b",
   "metadata": {},
   "source": [
    ">sum over different dimensions"
   ]
  },
  {
   "cell_type": "code",
   "execution_count": 292,
   "id": "0d86168a",
   "metadata": {
    "scrolled": true
   },
   "outputs": [
    {
     "data": {
      "text/plain": [
       "(tensor([[[ 0,  1],\n",
       "          [ 2,  3],\n",
       "          [ 4,  5]],\n",
       " \n",
       "         [[ 6,  7],\n",
       "          [ 8,  9],\n",
       "          [10, 11]]]),\n",
       " tensor([15, 51]))"
      ]
     },
     "execution_count": 292,
     "metadata": {},
     "output_type": "execute_result"
    }
   ],
   "source": [
    "b = torch.arange(2 * 3 * 2).view(2, 3, 2)\n",
    "b, b.sum(dim=(2,1))"
   ]
  },
  {
   "cell_type": "markdown",
   "id": "c49a15ab",
   "metadata": {},
   "source": [
    "### Broadcasting\n",
    "The way broadcasting works is very interesting, it does not create copies of the vector in the missing dimensions but create a `stride` that directs the behavior of the increment in memory where the values are store, so that when it needs to repeat a row x times, it just has a stride of 0 in that direction and does not move from the row it reads. <br>\n",
    "Doing so allows to minimize memory usage and task execution times."
   ]
  },
  {
   "cell_type": "code",
   "execution_count": 263,
   "id": "fd794652",
   "metadata": {},
   "outputs": [
    {
     "data": {
      "text/plain": [
       "tensor([[4, 4, 9],\n",
       "        [5, 4, 6],\n",
       "        [7, 9, 1]])"
      ]
     },
     "execution_count": 263,
     "metadata": {},
     "output_type": "execute_result"
    }
   ],
   "source": [
    "u = tensor([10,20,30])\n",
    "m"
   ]
  },
  {
   "cell_type": "code",
   "execution_count": 294,
   "id": "00fc72d3",
   "metadata": {},
   "outputs": [
    {
     "data": {
      "text/plain": [
       "tensor([[14, 24, 39],\n",
       "        [15, 24, 36],\n",
       "        [17, 29, 31]])"
      ]
     },
     "execution_count": 294,
     "metadata": {},
     "output_type": "execute_result"
    }
   ],
   "source": [
    "m + u"
   ]
  },
  {
   "cell_type": "code",
   "execution_count": 265,
   "id": "cf0a0e6b",
   "metadata": {},
   "outputs": [],
   "source": [
    "m0 = tensor([[1,2], [3,4], [5,6]])"
   ]
  },
  {
   "cell_type": "code",
   "execution_count": 293,
   "id": "b19814c3",
   "metadata": {},
   "outputs": [
    {
     "data": {
      "text/plain": [
       "(tensor([[10],\n",
       "         [20],\n",
       "         [30]]),\n",
       " tensor([[11, 12],\n",
       "         [23, 24],\n",
       "         [35, 36]]))"
      ]
     },
     "execution_count": 293,
     "metadata": {},
     "output_type": "execute_result"
    }
   ],
   "source": [
    "u.view(3,1), m0+u.view(3,1)"
   ]
  },
  {
   "cell_type": "code",
   "execution_count": 269,
   "id": "2b029cf7",
   "metadata": {},
   "outputs": [
    {
     "data": {
      "text/plain": [
       "(torch.Size([3]), torch.Size([3, 3]), torch.Size([3, 2]))"
      ]
     },
     "execution_count": 269,
     "metadata": {},
     "output_type": "execute_result"
    }
   ],
   "source": [
    "u.shape, m.shape, m0.shape"
   ]
  },
  {
   "cell_type": "markdown",
   "id": "4c60bd85",
   "metadata": {},
   "source": [
    "> When broadcasting, the 1-dim vector turns into a matrix like this:"
   ]
  },
  {
   "cell_type": "code",
   "execution_count": 295,
   "id": "d5048af3",
   "metadata": {},
   "outputs": [
    {
     "data": {
      "text/plain": [
       "tensor([[10, 20, 30],\n",
       "        [10, 20, 30],\n",
       "        [10, 20, 30]])"
      ]
     },
     "execution_count": 295,
     "metadata": {},
     "output_type": "execute_result"
    }
   ],
   "source": [
    "u_ex = u.expand_as(m)\n",
    "u_ex"
   ]
  },
  {
   "cell_type": "markdown",
   "id": "2145ac63",
   "metadata": {},
   "source": [
    "> However the two new rows added above are not written in memory:"
   ]
  },
  {
   "cell_type": "code",
   "execution_count": 303,
   "id": "93d8b65d",
   "metadata": {
    "scrolled": true
   },
   "outputs": [
    {
     "data": {
      "text/plain": [
       "( 10\n",
       "  20\n",
       "  30\n",
       " [torch.storage.TypedStorage(dtype=torch.int64, device=cpu) of size 3],\n",
       " torch.Size([3]),\n",
       "  10\n",
       "  20\n",
       "  30\n",
       " [torch.storage.TypedStorage(dtype=torch.int64, device=cpu) of size 3],\n",
       " torch.Size([3, 3]))"
      ]
     },
     "execution_count": 303,
     "metadata": {},
     "output_type": "execute_result"
    }
   ],
   "source": [
    "u.storage(), u.shape, u_ex.storage(), u_ex.shape"
   ]
  },
  {
   "cell_type": "markdown",
   "id": "3ec4fc16",
   "metadata": {},
   "source": [
    "> What changes is the stride, meaning the way the information stored in memory is read: "
   ]
  },
  {
   "cell_type": "code",
   "execution_count": 304,
   "id": "57bffc70",
   "metadata": {},
   "outputs": [
    {
     "data": {
      "text/plain": [
       "((1,), (0, 1))"
      ]
     },
     "execution_count": 304,
     "metadata": {},
     "output_type": "execute_result"
    }
   ],
   "source": [
    "u.stride(), u_ex.stride()"
   ]
  },
  {
   "cell_type": "markdown",
   "id": "3c0ec282",
   "metadata": {},
   "source": [
    "> We can add dimensions to a tensor by using `unsqueeze()` or the key word **None**:"
   ]
  },
  {
   "cell_type": "code",
   "execution_count": 313,
   "id": "9e0d6c9a",
   "metadata": {},
   "outputs": [
    {
     "data": {
      "text/plain": [
       "(tensor([[10, 20, 30]]), tensor([[10, 20, 30]]), tensor([[10, 20, 30]]))"
      ]
     },
     "execution_count": 313,
     "metadata": {},
     "output_type": "execute_result"
    }
   ],
   "source": [
    "u.unsqueeze(0), u[None, :], u[None]"
   ]
  },
  {
   "cell_type": "code",
   "execution_count": 309,
   "id": "65a0420a",
   "metadata": {},
   "outputs": [
    {
     "data": {
      "text/plain": [
       "(torch.Size([3]), torch.Size([1, 3]))"
      ]
     },
     "execution_count": 309,
     "metadata": {},
     "output_type": "execute_result"
    }
   ],
   "source": [
    "u.shape, u[None, :].shape"
   ]
  },
  {
   "cell_type": "markdown",
   "id": "8d52db39",
   "metadata": {},
   "source": [
    "> We can transpose the vector using the same format:"
   ]
  },
  {
   "cell_type": "code",
   "execution_count": 310,
   "id": "8ddde9be",
   "metadata": {},
   "outputs": [
    {
     "data": {
      "text/plain": [
       "(tensor([[10],\n",
       "         [20],\n",
       "         [30]]),\n",
       " tensor([[10],\n",
       "         [20],\n",
       "         [30]]))"
      ]
     },
     "execution_count": 310,
     "metadata": {},
     "output_type": "execute_result"
    }
   ],
   "source": [
    "u.unsqueeze(1), u[:, None]"
   ]
  },
  {
   "cell_type": "code",
   "execution_count": 312,
   "id": "74709ac3",
   "metadata": {},
   "outputs": [
    {
     "data": {
      "text/plain": [
       "torch.Size([3, 1])"
      ]
     },
     "execution_count": 312,
     "metadata": {},
     "output_type": "execute_result"
    }
   ],
   "source": [
    "u[:, None].shape"
   ]
  },
  {
   "cell_type": "code",
   "execution_count": 314,
   "id": "59554b57",
   "metadata": {},
   "outputs": [
    {
     "data": {
      "text/plain": [
       "(torch.Size([1, 3]), torch.Size([3, 1]))"
      ]
     },
     "execution_count": 314,
     "metadata": {},
     "output_type": "execute_result"
    }
   ],
   "source": [
    "u[None].shape, u[...,None].shape"
   ]
  },
  {
   "cell_type": "code",
   "execution_count": 315,
   "id": "07a5c0be",
   "metadata": {},
   "outputs": [
    {
     "data": {
      "text/plain": [
       "tensor([[14, 24, 39],\n",
       "        [15, 24, 36],\n",
       "        [17, 29, 31]])"
      ]
     },
     "execution_count": 315,
     "metadata": {},
     "output_type": "execute_result"
    }
   ],
   "source": [
    "m + u[None,:]"
   ]
  },
  {
   "cell_type": "code",
   "execution_count": 316,
   "id": "57045ef0",
   "metadata": {},
   "outputs": [
    {
     "data": {
      "text/plain": [
       "tensor([[14, 14, 19],\n",
       "        [25, 24, 26],\n",
       "        [37, 39, 31]])"
      ]
     },
     "execution_count": 316,
     "metadata": {},
     "output_type": "execute_result"
    }
   ],
   "source": [
    "m + u[:,None]"
   ]
  },
  {
   "cell_type": "markdown",
   "id": "53bc27e8",
   "metadata": {},
   "source": [
    "> We can explore the broadcasting rules:"
   ]
  },
  {
   "cell_type": "code",
   "execution_count": 317,
   "id": "fc592c47",
   "metadata": {},
   "outputs": [
    {
     "data": {
      "text/plain": [
       "(tensor([[10, 20, 30]]),\n",
       " tensor([[10],\n",
       "         [20],\n",
       "         [30]]))"
      ]
     },
     "execution_count": 317,
     "metadata": {},
     "output_type": "execute_result"
    }
   ],
   "source": [
    "u[None,:], u[:,None]"
   ]
  },
  {
   "cell_type": "markdown",
   "id": "aa8ee766",
   "metadata": {},
   "source": [
    ">`*` corresponds to an **outer product**:"
   ]
  },
  {
   "cell_type": "code",
   "execution_count": 318,
   "id": "ef3b15ef",
   "metadata": {
    "scrolled": true
   },
   "outputs": [
    {
     "data": {
      "text/plain": [
       "tensor([[100, 200, 300],\n",
       "        [200, 400, 600],\n",
       "        [300, 600, 900]])"
      ]
     },
     "execution_count": 318,
     "metadata": {},
     "output_type": "execute_result"
    }
   ],
   "source": [
    "u[None,:] * u[:,None]"
   ]
  },
  {
   "cell_type": "code",
   "execution_count": 322,
   "id": "7cd7b5ed",
   "metadata": {},
   "outputs": [
    {
     "data": {
      "text/plain": [
       "tensor([[100, 400, 900]])"
      ]
     },
     "execution_count": 322,
     "metadata": {},
     "output_type": "execute_result"
    }
   ],
   "source": [
    "u[:,None] * u[None,:]"
   ]
  },
  {
   "cell_type": "code",
   "execution_count": 330,
   "id": "437fd91c",
   "metadata": {},
   "outputs": [
    {
     "data": {
      "text/plain": [
       "tensor([[100, 200, 300],\n",
       "        [200, 400, 600],\n",
       "        [300, 600, 900]])"
      ]
     },
     "execution_count": 330,
     "metadata": {},
     "output_type": "execute_result"
    }
   ],
   "source": [
    "u.view(1,3)*u.view(3,1)"
   ]
  },
  {
   "cell_type": "markdown",
   "id": "25ea6183",
   "metadata": {},
   "source": [
    "The broadcasting operation is realised if the outer dimension of the vectors involved is the same, like (5x3) and (1x3)"
   ]
  },
  {
   "cell_type": "markdown",
   "id": "f3106499",
   "metadata": {},
   "source": [
    "#### Accelerating matmul with broadcasting\n",
    "\n",
    "> Previous matmul version:"
   ]
  },
  {
   "cell_type": "code",
   "execution_count": 372,
   "id": "67fb5c18",
   "metadata": {},
   "outputs": [],
   "source": [
    "def matmul(m1, m2):\n",
    "    (si, sk), (sk, sj) = m1.shape, m2.shape\n",
    "    m3 = torch.zeros(si, sj)\n",
    "    for i in range(si):\n",
    "        for j in range(sj): m3[i, j] = (m1[i,:]*m2[:,j]).sum()\n",
    "    return m3"
   ]
  },
  {
   "cell_type": "code",
   "execution_count": 373,
   "id": "333be640",
   "metadata": {},
   "outputs": [
    {
     "data": {
      "text/plain": [
       "tensor([[  0.96,  -2.96,  -2.11,   0.27,   1.28,  -5.20, -10.31, -15.09, -17.69,   0.60],\n",
       "        [  6.89,  -0.34,   0.79, -14.74,   6.90,  -3.08, -15.04, -17.13, -25.36,  16.23],\n",
       "        [-10.18,   7.38,   4.13,   3.27,  13.88,  -5.15,  -7.14,  -6.73,  -6.79,  -1.58],\n",
       "        [  0.97,   2.39, -15.22,   7.73,  -8.19, -12.33,  -5.98,  -1.17,   7.05,  -1.42],\n",
       "        [  6.85,  14.07, -11.92,   2.34,   4.62,  -3.37,  -5.47,  -0.65, -30.56,   7.88]])"
      ]
     },
     "execution_count": 373,
     "metadata": {},
     "output_type": "execute_result"
    }
   ],
   "source": [
    "matmul(m1, m2)"
   ]
  },
  {
   "cell_type": "code",
   "execution_count": 374,
   "id": "6791ddde",
   "metadata": {},
   "outputs": [
    {
     "name": "stdout",
     "output_type": "stream",
     "text": [
      "941 µs ± 47.9 µs per loop (mean ± std. dev. of 7 runs, 50 loops each)\n"
     ]
    }
   ],
   "source": [
    "%timeit -n 50 matmul(m1, m2)"
   ]
  },
  {
   "cell_type": "markdown",
   "id": "feb83619",
   "metadata": {},
   "source": [
    "> Matmul with broadcasting and removing one more loop:<br>\n",
    " *One needs to add an axis of dimension 1 in the right position for the broadcasting to operate*"
   ]
  },
  {
   "cell_type": "code",
   "execution_count": 379,
   "id": "976b2874",
   "metadata": {},
   "outputs": [
    {
     "data": {
      "text/plain": [
       "(torch.Size([784, 10]), torch.Size([784, 10]))"
      ]
     },
     "execution_count": 379,
     "metadata": {},
     "output_type": "execute_result"
    }
   ],
   "source": [
    "m2.shape, m1[0][:,None].expand_as(m2).shape"
   ]
  },
  {
   "cell_type": "code",
   "execution_count": 412,
   "id": "7a3336b7",
   "metadata": {},
   "outputs": [],
   "source": [
    "def matmul(m1, m2):\n",
    "    (si, sk), (sk, sj) = m1.shape, m2.shape\n",
    "    m3 = torch.zeros(si, sj)\n",
    "    for i in range(si):\n",
    "        m3[i] = (m1[i][:,None].expand_as(m2)*m2).sum(dim=0)\n",
    "    return m3"
   ]
  },
  {
   "cell_type": "code",
   "execution_count": 381,
   "id": "5f6f2764",
   "metadata": {
    "scrolled": true
   },
   "outputs": [
    {
     "data": {
      "text/plain": [
       "tensor([[  0.96,  -2.96,  -2.11,   0.27,   1.28,  -5.20, -10.31, -15.09, -17.69,   0.60],\n",
       "        [  6.89,  -0.34,   0.79, -14.74,   6.90,  -3.08, -15.04, -17.13, -25.36,  16.23],\n",
       "        [-10.18,   7.38,   4.13,   3.27,  13.88,  -5.15,  -7.14,  -6.73,  -6.79,  -1.58],\n",
       "        [  0.97,   2.39, -15.22,   7.73,  -8.19, -12.33,  -5.98,  -1.17,   7.05,  -1.42],\n",
       "        [  6.85,  14.07, -11.92,   2.34,   4.62,  -3.37,  -5.47,  -0.65, -30.56,   7.88]])"
      ]
     },
     "execution_count": 381,
     "metadata": {},
     "output_type": "execute_result"
    }
   ],
   "source": [
    "matmul(m1, m2)"
   ]
  },
  {
   "cell_type": "code",
   "execution_count": 383,
   "id": "494d760f",
   "metadata": {},
   "outputs": [
    {
     "name": "stdout",
     "output_type": "stream",
     "text": [
      "150 µs ± 13.8 µs per loop (mean ± std. dev. of 7 runs, 50 loops each)\n"
     ]
    }
   ],
   "source": [
    "%timeit -n 50 matmul(m1, m2)"
   ]
  },
  {
   "cell_type": "markdown",
   "id": "ccc029fe",
   "metadata": {},
   "source": [
    "> On the whole dataset:"
   ]
  },
  {
   "cell_type": "code",
   "execution_count": 396,
   "id": "b416fa09",
   "metadata": {},
   "outputs": [
    {
     "data": {
      "text/plain": [
       "tensor([[  0.96,  -2.96,  -2.11,  ..., -15.09, -17.69,   0.60],\n",
       "        [  6.89,  -0.34,   0.79,  ..., -17.13, -25.36,  16.23],\n",
       "        [-10.18,   7.38,   4.13,  ...,  -6.73,  -6.79,  -1.58],\n",
       "        ...,\n",
       "        [  7.40,   7.64,  -3.50,  ...,  -1.02, -16.22,   2.07],\n",
       "        [  3.25,   9.52,  -9.37,  ...,   2.98, -19.58,  -1.96],\n",
       "        [ 15.70,   4.12,  -5.62,  ...,   8.08, -12.21,   0.42]])"
      ]
     },
     "execution_count": 396,
     "metadata": {},
     "output_type": "execute_result"
    }
   ],
   "source": [
    "res = matmul(x_train, weights)\n",
    "res"
   ]
  },
  {
   "cell_type": "code",
   "execution_count": 388,
   "id": "fc2ce955",
   "metadata": {},
   "outputs": [
    {
     "data": {
      "text/plain": [
       "torch.Size([50000, 10])"
      ]
     },
     "execution_count": 388,
     "metadata": {},
     "output_type": "execute_result"
    }
   ],
   "source": [
    "res.shape"
   ]
  },
  {
   "cell_type": "code",
   "execution_count": 413,
   "id": "5c76d9f9",
   "metadata": {},
   "outputs": [
    {
     "name": "stdout",
     "output_type": "stream",
     "text": [
      "CPU times: user 1.7 s, sys: 111 ms, total: 1.81 s\n",
      "Wall time: 1.27 s\n"
     ]
    }
   ],
   "source": [
    "%time _=matmul(x_train, weights)"
   ]
  },
  {
   "cell_type": "code",
   "execution_count": 415,
   "id": "25d2cef8",
   "metadata": {},
   "outputs": [
    {
     "name": "stdout",
     "output_type": "stream",
     "text": [
      "11.6 ms ± 1.64 ms per loop (mean ± std. dev. of 7 runs, 5 loops each)\n"
     ]
    }
   ],
   "source": [
    "%timeit -n 5 x_train@weights"
   ]
  },
  {
   "cell_type": "markdown",
   "id": "e01c6e99",
   "metadata": {},
   "source": [
    "### Einstein summation\n",
    "> we can perform complex reshaping and matrix calculation operations in a very compact form using einstein summation"
   ]
  },
  {
   "cell_type": "code",
   "execution_count": 402,
   "id": "3e777eca",
   "metadata": {},
   "outputs": [
    {
     "data": {
      "text/plain": [
       "(torch.Size([5, 784]), torch.Size([784, 10]))"
      ]
     },
     "execution_count": 402,
     "metadata": {},
     "output_type": "execute_result"
    }
   ],
   "source": [
    "m1.shape, m2.shape"
   ]
  },
  {
   "cell_type": "code",
   "execution_count": 403,
   "id": "3090ffd4",
   "metadata": {},
   "outputs": [
    {
     "data": {
      "text/plain": [
       "torch.Size([5, 784, 10])"
      ]
     },
     "execution_count": 403,
     "metadata": {},
     "output_type": "execute_result"
    }
   ],
   "source": [
    "mr = torch.einsum('ik,kj->ikj', m1, m2)\n",
    "mr.shape"
   ]
  },
  {
   "cell_type": "code",
   "execution_count": 405,
   "id": "cb052150",
   "metadata": {},
   "outputs": [
    {
     "data": {
      "text/plain": [
       "tensor([[  0.96,  -2.96,  -2.11,   0.27,   1.28,  -5.20, -10.31, -15.09, -17.69,   0.60],\n",
       "        [  6.89,  -0.34,   0.79, -14.74,   6.90,  -3.08, -15.04, -17.13, -25.36,  16.23],\n",
       "        [-10.18,   7.38,   4.13,   3.27,  13.88,  -5.15,  -7.14,  -6.73,  -6.79,  -1.58],\n",
       "        [  0.97,   2.39, -15.22,   7.73,  -8.19, -12.33,  -5.98,  -1.17,   7.05,  -1.42],\n",
       "        [  6.85,  14.07, -11.92,   2.34,   4.62,  -3.37,  -5.47,  -0.65, -30.56,   7.88]])"
      ]
     },
     "execution_count": 405,
     "metadata": {},
     "output_type": "execute_result"
    }
   ],
   "source": [
    "mr.sum(1)"
   ]
  },
  {
   "cell_type": "code",
   "execution_count": 406,
   "id": "a3d1cb9b",
   "metadata": {},
   "outputs": [
    {
     "data": {
      "text/plain": [
       "torch.Size([5, 10])"
      ]
     },
     "execution_count": 406,
     "metadata": {},
     "output_type": "execute_result"
    }
   ],
   "source": [
    "mr = torch.einsum('ik,kj->ij', m1, m2)\n",
    "mr.shape"
   ]
  },
  {
   "cell_type": "code",
   "execution_count": 407,
   "id": "25b74560",
   "metadata": {},
   "outputs": [
    {
     "data": {
      "text/plain": [
       "tensor([[  0.96,  -2.96,  -2.11,   0.27,   1.28,  -5.20, -10.31, -15.09, -17.69,   0.60],\n",
       "        [  6.89,  -0.34,   0.79, -14.74,   6.90,  -3.08, -15.04, -17.13, -25.36,  16.23],\n",
       "        [-10.18,   7.38,   4.13,   3.27,  13.88,  -5.15,  -7.14,  -6.73,  -6.79,  -1.58],\n",
       "        [  0.97,   2.39, -15.22,   7.73,  -8.19, -12.33,  -5.98,  -1.17,   7.05,  -1.42],\n",
       "        [  6.85,  14.07, -11.92,   2.34,   4.62,  -3.37,  -5.47,  -0.65, -30.56,   7.88]])"
      ]
     },
     "execution_count": 407,
     "metadata": {},
     "output_type": "execute_result"
    }
   ],
   "source": [
    "mr"
   ]
  },
  {
   "cell_type": "code",
   "execution_count": 416,
   "id": "035cf605",
   "metadata": {},
   "outputs": [],
   "source": [
    "def matmul(m1, m2): return torch.einsum('ik,kj->ij', m1, m2)"
   ]
  },
  {
   "cell_type": "code",
   "execution_count": 417,
   "id": "c621c0f2",
   "metadata": {},
   "outputs": [
    {
     "name": "stdout",
     "output_type": "stream",
     "text": [
      "11.6 ms ± 1.69 ms per loop (mean ± std. dev. of 7 runs, 5 loops each)\n"
     ]
    }
   ],
   "source": [
    "%timeit -n 5 matmul(x_train, weights)"
   ]
  },
  {
   "cell_type": "markdown",
   "id": "8e0020f8",
   "metadata": {},
   "source": [
    "The result is similar to the `@` pytorch operator that we can use since we reimplemented it. "
   ]
  },
  {
   "cell_type": "markdown",
   "id": "74531158",
   "metadata": {},
   "source": [
    "### CUDA\n",
    "> We can get a faster result by using the GPU architecture:"
   ]
  },
  {
   "cell_type": "code",
   "execution_count": null,
   "id": "991ce869",
   "metadata": {},
   "outputs": [],
   "source": []
  }
 ],
 "metadata": {
  "kernelspec": {
   "display_name": "Python 3 (ipykernel)",
   "language": "python",
   "name": "python3"
  },
  "language_info": {
   "codemirror_mode": {
    "name": "ipython",
    "version": 3
   },
   "file_extension": ".py",
   "mimetype": "text/x-python",
   "name": "python",
   "nbconvert_exporter": "python",
   "pygments_lexer": "ipython3",
   "version": "3.10.8"
  }
 },
 "nbformat": 4,
 "nbformat_minor": 5
}
