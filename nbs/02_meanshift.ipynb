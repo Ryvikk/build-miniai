{
 "cells": [
  {
   "cell_type": "code",
   "execution_count": 209,
   "id": "6f6eb35e",
   "metadata": {},
   "outputs": [],
   "source": [
    "import math\n",
    "import matplotlib.pyplot as plt\n",
    "import operator\n",
    "import torch\n",
    "from functools import partial"
   ]
  },
  {
   "cell_type": "code",
   "execution_count": 41,
   "id": "35f4de1c",
   "metadata": {},
   "outputs": [
    {
     "data": {
      "text/html": [
       "<style>.container { width:100% !important; }</style>"
      ],
      "text/plain": [
       "<IPython.core.display.HTML object>"
      ]
     },
     "metadata": {},
     "output_type": "display_data"
    }
   ],
   "source": [
    "from IPython.display import display, HTML\n",
    "display(HTML(\"<style>.container { width:100% !important; }</style>\"))"
   ]
  },
  {
   "cell_type": "code",
   "execution_count": 44,
   "id": "e39f6e37",
   "metadata": {},
   "outputs": [],
   "source": [
    "plt.rcParams['figure.figsize'] = [4.0, 3.0]\n",
    "plt.rcParams['font.size'] = 8"
   ]
  },
  {
   "cell_type": "code",
   "execution_count": 64,
   "id": "f82f89a2",
   "metadata": {},
   "outputs": [],
   "source": [
    "torch.manual_seed(11)\n",
    "torch.set_printoptions(precision=3, linewidth=140, sci_mode=False)"
   ]
  },
  {
   "cell_type": "markdown",
   "id": "df5b2672",
   "metadata": {},
   "source": [
    "## Meanshift clustering algorithm\n",
    ">The idea is to use the concepts of broadcasting, multiplication, gpu acceleration in the implementation"
   ]
  },
  {
   "cell_type": "markdown",
   "id": "14cb846c",
   "metadata": {},
   "source": [
    "### create the data"
   ]
  },
  {
   "cell_type": "code",
   "execution_count": 824,
   "id": "d1962010",
   "metadata": {},
   "outputs": [],
   "source": [
    "n_clusters = 7\n",
    "n_samples = 500"
   ]
  },
  {
   "cell_type": "code",
   "execution_count": 825,
   "id": "a60f3f34",
   "metadata": {},
   "outputs": [],
   "source": [
    "centroids = torch.rand(n_clusters, 2)*70-35"
   ]
  },
  {
   "cell_type": "code",
   "execution_count": 826,
   "id": "0681c0b3",
   "metadata": {},
   "outputs": [
    {
     "data": {
      "text/plain": [
       "tensor([[-20.544,  -2.656],\n",
       "        [  0.961,  25.602],\n",
       "        [-21.740, -19.664],\n",
       "        [ 24.189, -11.879],\n",
       "        [ 11.812,  -3.914],\n",
       "        [ 22.061,  24.954],\n",
       "        [  2.041,  -6.196]])"
      ]
     },
     "execution_count": 826,
     "metadata": {},
     "output_type": "execute_result"
    }
   ],
   "source": [
    "centroids"
   ]
  },
  {
   "cell_type": "code",
   "execution_count": 827,
   "id": "a201c1bb",
   "metadata": {},
   "outputs": [
    {
     "data": {
      "text/plain": [
       "torch.Size([7, 2])"
      ]
     },
     "execution_count": 827,
     "metadata": {},
     "output_type": "execute_result"
    }
   ],
   "source": [
    "centroids.shape"
   ]
  },
  {
   "cell_type": "code",
   "execution_count": 828,
   "id": "6253d811",
   "metadata": {},
   "outputs": [],
   "source": [
    "from torch.distributions.multivariate_normal import MultivariateNormal\n",
    "from torch import tensor"
   ]
  },
  {
   "cell_type": "markdown",
   "id": "11d7b94b",
   "metadata": {},
   "source": [
    ">We'll use a multivariate normal distribution, here bivariate, to generate points $(x_i, y_i)$ around the centroids, the variables won't be correlated so the covariance matrix should be diagonal, with variance $v$ each:<br>\n",
    "*(The first argument is the mean, ie a centroid, and the second argument is the covariance matrix (here diagonal), then in the sample() method we specify the number of points to draw around this mean with the variance given in the covariance matrix)*"
   ]
  },
  {
   "cell_type": "code",
   "execution_count": 829,
   "id": "63f11694",
   "metadata": {},
   "outputs": [],
   "source": [
    "v = 5.0\n",
    "u = MultivariateNormal(centroids[0], torch.diag(tensor([v,v])))"
   ]
  },
  {
   "cell_type": "code",
   "execution_count": 830,
   "id": "c382b863",
   "metadata": {},
   "outputs": [],
   "source": [
    "g = u.sample((n_samples,))"
   ]
  },
  {
   "cell_type": "code",
   "execution_count": 831,
   "id": "68cb7095",
   "metadata": {
    "scrolled": false
   },
   "outputs": [
    {
     "data": {
      "text/plain": [
       "torch.Size([500, 2])"
      ]
     },
     "execution_count": 831,
     "metadata": {},
     "output_type": "execute_result"
    }
   ],
   "source": [
    "g.shape"
   ]
  },
  {
   "cell_type": "code",
   "execution_count": 832,
   "id": "8dedc25f",
   "metadata": {},
   "outputs": [],
   "source": [
    "def sample(m, v): return MultivariateNormal(m, torch.diag(tensor([v,v]))).sample((n_samples,))"
   ]
  },
  {
   "cell_type": "code",
   "execution_count": 833,
   "id": "54acd312",
   "metadata": {},
   "outputs": [],
   "source": [
    "v = 11."
   ]
  },
  {
   "cell_type": "code",
   "execution_count": 834,
   "id": "ef405f57",
   "metadata": {},
   "outputs": [
    {
     "data": {
      "text/plain": [
       "torch.Size([3500, 2])"
      ]
     },
     "execution_count": 834,
     "metadata": {},
     "output_type": "execute_result"
    }
   ],
   "source": [
    "clouds = [sample(c, v) for c in centroids]\n",
    "data = torch.cat(clouds)\n",
    "data.shape"
   ]
  },
  {
   "cell_type": "code",
   "execution_count": 835,
   "id": "d9e3d765",
   "metadata": {},
   "outputs": [],
   "source": [
    "def plot_data(centroids, data, n_samples, ax=None):\n",
    "    if ax is None: fig,ax = plt.subplots()\n",
    "    for i, centroid in enumerate(centroids):\n",
    "        sample = data[i*n_samples:(i+1)*n_samples]\n",
    "        ax.scatter(sample[:,0], sample[:,1], s=1)\n",
    "        ax.plot(*centroid, markersize=10, marker='x', color='k', mew=5)\n",
    "        ax.plot(*centroid, markersize=5, marker='x', color='r', mew=1)"
   ]
  },
  {
   "cell_type": "code",
   "execution_count": 836,
   "id": "2b7d348e",
   "metadata": {},
   "outputs": [
    {
     "data": {
      "image/png": "[encoded data removed]",
      "text/plain": [
       "<Figure size 400x300 with 1 Axes>"
      ]
     },
     "metadata": {},
     "output_type": "display_data"
    }
   ],
   "source": [
    "plot_data(centroids, data, n_samples)"
   ]
  },
  {
   "cell_type": "markdown",
   "id": "066f72fe",
   "metadata": {},
   "source": [
    "### Mean Shift\n",
    "> This algorithm does not need to know the number of centroids in advance, it requires a **bandwidth**, similarly to dbscan. <br>\n",
    "And it works with clusters of any shape.\n",
    "\n",
    "> What we are looking to do is measure the distance between each point and the rest of the points and weight each two-by-two distance with the gaussian. A neighbor point will have a weight closer to 1 vs a far away point will have a weight tht tends towards 0.\n",
    "\n",
    "> We can try various function shapes and see how they compare in efficiency. If we want the weighting to be normed, the function should integrate to 1\n",
    "\n",
    "> Then, we will assign the weighted average x and weighted average"
   ]
  },
  {
   "cell_type": "code",
   "execution_count": 837,
   "id": "f1cef37f",
   "metadata": {},
   "outputs": [
    {
     "data": {
      "text/plain": [
       "tensor([2.739, 0.893])"
      ]
     },
     "execution_count": 837,
     "metadata": {},
     "output_type": "execute_result"
    }
   ],
   "source": [
    "#barycentre\n",
    "data.mean(0)"
   ]
  },
  {
   "cell_type": "markdown",
   "id": "8c4c379a",
   "metadata": {},
   "source": [
    "> We typically use a gaussian function: <br>\n",
    "\\begin{equation*}\n",
    "\\mathcal{N}(0,\\,\\sigma^{2}) = \\frac{1}{\\sqrt{2\\pi} \\sigma} \\exp \\left(-{\\frac{x^2}{2\\sigma^2}}\\right)\n",
    "\\end{equation*}\n",
    "\n",
    ">But other functions can work as well. The gaussian's standard deviation will be the bandwidth, meaning the characteristic distance within which a point will have an impact in the weighted sum. Another possibility would be to use a trianfular function, an inverse function, or a decreasing exponential function."
   ]
  },
  {
   "cell_type": "code",
   "execution_count": 838,
   "id": "93a19938",
   "metadata": {},
   "outputs": [],
   "source": [
    "def gaussian(x, sig=2.5) : \n",
    "    return 1/(sig*(2*math.pi)**(0.5)) * torch.exp(-0.5*(x/sig)**2)"
   ]
  },
  {
   "cell_type": "code",
   "execution_count": 839,
   "id": "c30d35c8",
   "metadata": {},
   "outputs": [],
   "source": [
    "def tri(x, i=8):\n",
    "    return (-(x/i)+1).clamp_min(0)"
   ]
  },
  {
   "cell_type": "code",
   "execution_count": 840,
   "id": "686a7222",
   "metadata": {},
   "outputs": [],
   "source": [
    "def exp_n(x, t=2.5):\n",
    "    return torch.exp(-x/t)"
   ]
  },
  {
   "cell_type": "code",
   "execution_count": 841,
   "id": "49b77799",
   "metadata": {},
   "outputs": [],
   "source": [
    "def plot_func(f):\n",
    "    x = torch.linspace(0,10,100)\n",
    "    plt.plot(x, f(x))"
   ]
  },
  {
   "cell_type": "markdown",
   "id": "9db21937",
   "metadata": {},
   "source": [
    "> In order to use partially defined function as input of `plot_func()` we can use the `partial` method from `functools`. We can pass in the function name and specify the attributes we want to fix:"
   ]
  },
  {
   "cell_type": "code",
   "execution_count": 842,
   "id": "57ae0258",
   "metadata": {},
   "outputs": [
    {
     "data": {
      "text/plain": [
       "functools.partial"
      ]
     },
     "execution_count": 842,
     "metadata": {},
     "output_type": "execute_result"
    }
   ],
   "source": [
    "partial"
   ]
  },
  {
   "cell_type": "code",
   "execution_count": 843,
   "id": "1472ad0b",
   "metadata": {
    "scrolled": false
   },
   "outputs": [
    {
     "data": {
      "image/png": "[encoded data removed]",
      "text/plain": [
       "<Figure size 400x300 with 1 Axes>"
      ]
     },
     "metadata": {},
     "output_type": "display_data"
    }
   ],
   "source": [
    "plot_func(partial(gaussian, sig=2.5))"
   ]
  },
  {
   "cell_type": "code",
   "execution_count": 844,
   "id": "e2d28bbd",
   "metadata": {},
   "outputs": [
    {
     "data": {
      "image/png": "[encoded data removed]",
      "text/plain": [
       "<Figure size 400x300 with 1 Axes>"
      ]
     },
     "metadata": {},
     "output_type": "display_data"
    }
   ],
   "source": [
    "plot_func(tri)"
   ]
  },
  {
   "cell_type": "code",
   "execution_count": 845,
   "id": "35f7d760",
   "metadata": {},
   "outputs": [
    {
     "data": {
      "image/png": "[encoded data removed]",
      "text/plain": [
       "<Figure size 400x300 with 1 Axes>"
      ]
     },
     "metadata": {},
     "output_type": "display_data"
    }
   ],
   "source": [
    "plot_func(exp_n)"
   ]
  },
  {
   "cell_type": "code",
   "execution_count": 846,
   "id": "c0018ead",
   "metadata": {},
   "outputs": [],
   "source": [
    "X = data.clone()\n",
    "x = data[0]"
   ]
  },
  {
   "cell_type": "code",
   "execution_count": 847,
   "id": "443be4cb",
   "metadata": {},
   "outputs": [
    {
     "data": {
      "text/plain": [
       "(torch.Size([2]), torch.Size([3500, 2]), torch.Size([3500, 2]))"
      ]
     },
     "execution_count": 847,
     "metadata": {},
     "output_type": "execute_result"
    }
   ],
   "source": [
    "x.shape, X.shape, (x-X).shape"
   ]
  },
  {
   "cell_type": "markdown",
   "id": "cdb916f4",
   "metadata": {},
   "source": [
    ">We can use a loop to calculate all values from the matrix X:"
   ]
  },
  {
   "cell_type": "code",
   "execution_count": 416,
   "id": "ec82d41d",
   "metadata": {},
   "outputs": [
    {
     "name": "stdout",
     "output_type": "stream",
     "text": [
      "269 µs ± 9 µs per loop (mean ± std. dev. of 7 runs, 1,000 loops each)\n"
     ]
    }
   ],
   "source": [
    "%%timeit\n",
    "dist = torch.zeros(X.shape[0], X.shape[0])\n",
    "for i,x in enumerate(X):\n",
    "    dist[i] = ((x-X)**2).sum(1).sqrt()"
   ]
  },
  {
   "cell_type": "markdown",
   "id": "c853ef82",
   "metadata": {},
   "source": [
    "> We can remove the loop and fasten the process by using a complete vectorial calculation:"
   ]
  },
  {
   "cell_type": "code",
   "execution_count": 175,
   "id": "a2825605",
   "metadata": {
    "scrolled": true
   },
   "outputs": [
    {
     "data": {
      "text/plain": [
       "(torch.Size([2500, 2, 1]), torch.Size([2500, 2]))"
      ]
     },
     "execution_count": 175,
     "metadata": {},
     "output_type": "execute_result"
    }
   ],
   "source": [
    "X[...,None].shape, X.shape"
   ]
  },
  {
   "cell_type": "code",
   "execution_count": 203,
   "id": "784243d9",
   "metadata": {},
   "outputs": [
    {
     "name": "stdout",
     "output_type": "stream",
     "text": [
      "36 ms ± 730 µs per loop (mean ± std. dev. of 7 runs, 10 loops each)\n"
     ]
    }
   ],
   "source": [
    "%timeit -n 10 ((X[...,None]-X.transpose(0,1))**2).sum(1).sqrt()"
   ]
  },
  {
   "cell_type": "markdown",
   "id": "ff2060a7",
   "metadata": {},
   "source": [
    "> In order to remove the transpose step we can add the empty axis in between, the same broadcasting rule will apply:"
   ]
  },
  {
   "cell_type": "code",
   "execution_count": 484,
   "id": "3d898872",
   "metadata": {},
   "outputs": [
    {
     "data": {
      "text/plain": [
       "(torch.Size([6, 1, 2]), torch.Size([6, 2]))"
      ]
     },
     "execution_count": 484,
     "metadata": {},
     "output_type": "execute_result"
    }
   ],
   "source": [
    "X[:,None,:].shape, X.shape"
   ]
  },
  {
   "cell_type": "code",
   "execution_count": 204,
   "id": "a83d8e29",
   "metadata": {
    "scrolled": true
   },
   "outputs": [
    {
     "name": "stdout",
     "output_type": "stream",
     "text": [
      "35.9 ms ± 797 µs per loop (mean ± std. dev. of 7 runs, 10 loops each)\n"
     ]
    }
   ],
   "source": [
    "%timeit -n 10 ((X[:,None,:]-X)**2).sum(2).sqrt()"
   ]
  },
  {
   "cell_type": "markdown",
   "id": "d4f64a78",
   "metadata": {},
   "source": [
    "> We can try with `torch.einsum` as well:"
   ]
  },
  {
   "cell_type": "code",
   "execution_count": 193,
   "id": "68a8a784",
   "metadata": {},
   "outputs": [
    {
     "name": "stdout",
     "output_type": "stream",
     "text": [
      "36.1 ms ± 931 µs per loop (mean ± std. dev. of 7 runs, 10 loops each)\n"
     ]
    }
   ],
   "source": [
    "%%timeit\n",
    "Xt = torch.einsum('ij->ji', X)\n",
    "Diff2 = (X[...,None] - Xt)**2\n",
    "Dist = torch.einsum('ijk->ik', Diff2).sqrt()"
   ]
  },
  {
   "cell_type": "code",
   "execution_count": 192,
   "id": "bde4dca8",
   "metadata": {},
   "outputs": [
    {
     "name": "stdout",
     "output_type": "stream",
     "text": [
      "37.7 ms ± 3.74 ms per loop (mean ± std. dev. of 7 runs, 10 loops each)\n"
     ]
    }
   ],
   "source": [
    "%timeit -n 10 Dist = torch.einsum('ijk->ik', (X[...,None] - torch.einsum('ij->ji', X))**2).sqrt()"
   ]
  },
  {
   "cell_type": "code",
   "execution_count": 194,
   "id": "c0f79ce2",
   "metadata": {
    "scrolled": true
   },
   "outputs": [
    {
     "name": "stdout",
     "output_type": "stream",
     "text": [
      "34.2 ms ± 1.07 ms per loop (mean ± std. dev. of 7 runs, 10 loops each)\n"
     ]
    }
   ],
   "source": [
    "%timeit -n 10 torch.sqrt(torch.einsum('ijk->ij',(X[:,None,:] - X)**2))"
   ]
  },
  {
   "cell_type": "markdown",
   "id": "9f5adddc",
   "metadata": {},
   "source": [
    "> We can add the square step in einsum and the performance is the best:"
   ]
  },
  {
   "cell_type": "code",
   "execution_count": 205,
   "id": "ad3df809",
   "metadata": {},
   "outputs": [
    {
     "name": "stdout",
     "output_type": "stream",
     "text": [
      "25.5 ms ± 701 µs per loop (mean ± std. dev. of 7 runs, 10 loops each)\n"
     ]
    }
   ],
   "source": [
    "%%timeit\n",
    "Diff = X[:,None,:] - X\n",
    "torch.sqrt(torch.einsum('ijk,ijk->ij',Diff,Diff))"
   ]
  },
  {
   "cell_type": "markdown",
   "id": "79b6a1d8",
   "metadata": {},
   "source": [
    "> The fastest implementation in a function with the weighting function:"
   ]
  },
  {
   "cell_type": "markdown",
   "id": "83cbaa0b",
   "metadata": {},
   "source": [
    "> We can build the following function that breaks down the operation point by point: <br>\n",
    "(It is a very slow operation)"
   ]
  },
  {
   "cell_type": "code",
   "execution_count": 798,
   "id": "4734bd5e",
   "metadata": {},
   "outputs": [],
   "source": [
    "def calc_w(X, distrib):\n",
    "    wei_X = torch.zeros(X.shape[0], X.shape[0])\n",
    "    X_new = torch.zeros_like(X)\n",
    "    for i,x in enumerate(X):\n",
    "        dist = ((x-X)**2).sum(1).sqrt()\n",
    "        weight = gaussian(dist,2.5)\n",
    "        wei_X[i] = weight\n",
    "        X_new[i] = (weight[:,None]*X).sum(0)/weight.sum()\n",
    "    return X_new, wei_X"
   ]
  },
  {
   "cell_type": "code",
   "execution_count": 664,
   "id": "98513bd5",
   "metadata": {},
   "outputs": [],
   "source": [
    "def calculate_weights(M, distrib):\n",
    "    D = M[:,None,:] - M\n",
    "    return distrib(torch.sqrt(torch.einsum('ijk,ijk->ij',D,D)))"
   ]
  },
  {
   "cell_type": "code",
   "execution_count": 665,
   "id": "7f390cd7",
   "metadata": {},
   "outputs": [],
   "source": [
    "weights = calculate_weights(X, gaussian)"
   ]
  },
  {
   "cell_type": "code",
   "execution_count": 666,
   "id": "7d9d20cd",
   "metadata": {},
   "outputs": [
    {
     "data": {
      "text/plain": [
       "tensor([[    0.160,     0.000,     0.001,  ...,     0.000,     0.000,     0.000],\n",
       "        [    0.000,     0.160,     0.020,  ...,     0.000,     0.000,     0.000],\n",
       "        [    0.001,     0.020,     0.160,  ...,     0.000,     0.000,     0.000],\n",
       "        ...,\n",
       "        [    0.000,     0.000,     0.000,  ...,     0.160,     0.002,     0.000],\n",
       "        [    0.000,     0.000,     0.000,  ...,     0.002,     0.160,     0.003],\n",
       "        [    0.000,     0.000,     0.000,  ...,     0.000,     0.003,     0.160]])"
      ]
     },
     "execution_count": 666,
     "metadata": {},
     "output_type": "execute_result"
    }
   ],
   "source": [
    "weights"
   ]
  },
  {
   "cell_type": "markdown",
   "id": "89530622",
   "metadata": {},
   "source": [
    "> The next operation performs the weighted average $\\frac{\\sum_{i=0}^{n} \\omega_i xi}{\\sum_{i=0}^{n} \\omega_i}$ for each point and replaces the weighted average of $x_i$ and $y_i$ by their new weighted average *(the einsum implementation is again much faster)* :"
   ]
  },
  {
   "cell_type": "code",
   "execution_count": 667,
   "id": "7bf434f4",
   "metadata": {},
   "outputs": [
    {
     "data": {
      "text/plain": [
       "(torch.Size([1500, 1500]), torch.Size([1500, 2]))"
      ]
     },
     "execution_count": 667,
     "metadata": {},
     "output_type": "execute_result"
    }
   ],
   "source": [
    "weights.shape, X.shape"
   ]
  },
  {
   "cell_type": "code",
   "execution_count": 668,
   "id": "2803b10b",
   "metadata": {},
   "outputs": [
    {
     "data": {
      "text/plain": [
       "(torch.Size([1500, 2]), torch.Size([1500, 1]))"
      ]
     },
     "execution_count": 668,
     "metadata": {},
     "output_type": "execute_result"
    }
   ],
   "source": [
    "(X*weights[...,None]).sum(1).shape, weights.sum(1)[:,None].shape"
   ]
  },
  {
   "cell_type": "code",
   "execution_count": 669,
   "id": "ed22dafd",
   "metadata": {
    "scrolled": true
   },
   "outputs": [
    {
     "name": "stdout",
     "output_type": "stream",
     "text": [
      "5.99 ms ± 1.09 ms per loop (mean ± std. dev. of 7 runs, 10 loops each)\n"
     ]
    }
   ],
   "source": [
    "%timeit -n 10 ((X*weights[...,None]).sum(1))/(weights.sum(0)[:,None])"
   ]
  },
  {
   "cell_type": "code",
   "execution_count": 670,
   "id": "b5ca27e9",
   "metadata": {},
   "outputs": [
    {
     "name": "stdout",
     "output_type": "stream",
     "text": [
      "2.08 ms ± 856 µs per loop (mean ± std. dev. of 7 runs, 10 loops each)\n"
     ]
    }
   ],
   "source": [
    "%timeit -n 10 torch.einsum('jk,ijk->ik', X, weights[...,None])/torch.einsum('ij->j',weights)[:,None]"
   ]
  },
  {
   "cell_type": "code",
   "execution_count": 785,
   "id": "7e7f87f1",
   "metadata": {},
   "outputs": [
    {
     "data": {
      "text/plain": [
       "tensor([[-13.451, -41.226],\n",
       "        [-18.198, -30.833],\n",
       "        [-15.268, -38.236],\n",
       "        ...,\n",
       "        [ 27.676,   4.900],\n",
       "        [ 19.901,   1.975],\n",
       "        [ 24.843,   8.009]])"
      ]
     },
     "execution_count": 785,
     "metadata": {},
     "output_type": "execute_result"
    }
   ],
   "source": [
    "X"
   ]
  },
  {
   "cell_type": "code",
   "execution_count": 811,
   "id": "bb293d4c",
   "metadata": {},
   "outputs": [
    {
     "data": {
      "text/plain": [
       "tensor([[-11.644, -36.348],\n",
       "        [-13.895, -33.210],\n",
       "        [-12.157, -35.605],\n",
       "        ...,\n",
       "        [ 25.154,   4.688],\n",
       "        [ 23.136,   3.707],\n",
       "        [ 24.665,   5.328]])"
      ]
     },
     "execution_count": 811,
     "metadata": {},
     "output_type": "execute_result"
    }
   ],
   "source": [
    "r_s,_ = calc_w(X, gaussian)\n",
    "r_s, _ = calc_w(r_s, gaussian)\n",
    "r_s"
   ]
  },
  {
   "cell_type": "code",
   "execution_count": 812,
   "id": "209d95c9",
   "metadata": {},
   "outputs": [
    {
     "data": {
      "text/plain": [
       "tensor([[-11.644, -36.348],\n",
       "        [-13.895, -33.210],\n",
       "        [-12.157, -35.605],\n",
       "        ...,\n",
       "        [ 25.154,   4.688],\n",
       "        [ 23.136,   3.707],\n",
       "        [ 24.665,   5.328]])"
      ]
     },
     "execution_count": 812,
     "metadata": {},
     "output_type": "execute_result"
    }
   ],
   "source": [
    "w = calculate_weights(X, gaussian)\n",
    "r_v = update_X(w, X)\n",
    "w = calculate_weights(r_v, gaussian)\n",
    "r_v = update_X(w, r_v)\n",
    "r_v"
   ]
  },
  {
   "cell_type": "code",
   "execution_count": 813,
   "id": "c5429caf",
   "metadata": {},
   "outputs": [
    {
     "data": {
      "text/plain": [
       "tensor(0.000)"
      ]
     },
     "execution_count": 813,
     "metadata": {},
     "output_type": "execute_result"
    }
   ],
   "source": [
    "(r_s-r_v).sum()"
   ]
  },
  {
   "cell_type": "code",
   "execution_count": 814,
   "id": "844ede17",
   "metadata": {},
   "outputs": [],
   "source": [
    "def update_X(W, X): return torch.einsum('jk,ijk->ik', X, W[...,None])/torch.einsum('ij->j',W)[:,None]  \n",
    "# def update_X(W, X): return((X*W[...,None]).sum(1))/(W.sum(0)[:,None])"
   ]
  },
  {
   "cell_type": "code",
   "execution_count": 672,
   "id": "e0669d62",
   "metadata": {},
   "outputs": [
    {
     "name": "stdout",
     "output_type": "stream",
     "text": [
      "21.4 ms ± 2.51 ms per loop (mean ± std. dev. of 7 runs, 10 loops each)\n"
     ]
    }
   ],
   "source": [
    "%%timeit -n 10\n",
    "weights = calculate_weights(X, gaussian)\n",
    "update_X(weights, X)"
   ]
  },
  {
   "cell_type": "code",
   "execution_count": 889,
   "id": "a310f1a8",
   "metadata": {},
   "outputs": [],
   "source": [
    "def meanshift(data, func):\n",
    "    X = data.clone()\n",
    "    for i in range(3):\n",
    "        weights = calculate_weights(X, func)\n",
    "        X = update_X(weights, X)\n",
    "    return X"
   ]
  },
  {
   "cell_type": "code",
   "execution_count": 890,
   "id": "b2e8a83b",
   "metadata": {},
   "outputs": [
    {
     "name": "stdout",
     "output_type": "stream",
     "text": [
      "CPU times: user 1.3 s, sys: 350 ms, total: 1.65 s\n",
      "Wall time: 415 ms\n"
     ]
    }
   ],
   "source": [
    "%time X=meanshift(data, gaussian)"
   ]
  },
  {
   "cell_type": "code",
   "execution_count": 891,
   "id": "f3198859",
   "metadata": {
    "scrolled": true
   },
   "outputs": [
    {
     "data": {
      "image/png": "[encoded data removed]",
      "text/plain": [
       "<Figure size 400x300 with 1 Axes>"
      ]
     },
     "metadata": {},
     "output_type": "display_data"
    }
   ],
   "source": [
    "plot_data(centroids+2, X, n_samples)"
   ]
  },
  {
   "cell_type": "markdown",
   "id": "e59e7579",
   "metadata": {},
   "source": [
    "> We can build the following function that breaks down the operation point by point to verify the results above: <br>\n",
    "(It is a very slow operation)"
   ]
  },
  {
   "cell_type": "code",
   "execution_count": 850,
   "id": "3b2b99fe",
   "metadata": {},
   "outputs": [],
   "source": [
    "def calc_w(X, distrib):\n",
    "    X_new = torch.zeros_like(X)\n",
    "    for i,x in enumerate(X):\n",
    "        dist = ((x-X)**2).sum(1).sqrt()\n",
    "        weight = gaussian(dist,2.5)\n",
    "        X_new[i] = (weight[:,None]*X).sum(0)/weight.sum()\n",
    "    return X_new"
   ]
  },
  {
   "cell_type": "code",
   "execution_count": 851,
   "id": "9a27cb30",
   "metadata": {},
   "outputs": [],
   "source": [
    "def one_update(X):\n",
    "    for i,x in enumerate(X):\n",
    "        dist = ((x-X)**2).sum(1).sqrt()\n",
    "        weight = gaussian(dist,2.5)\n",
    "        X[i] = (weight[:,None]*X).sum(0)/weight.sum()"
   ]
  },
  {
   "cell_type": "code",
   "execution_count": 736,
   "id": "987dd799",
   "metadata": {
    "scrolled": true
   },
   "outputs": [
    {
     "name": "stdout",
     "output_type": "stream",
     "text": [
      "124 ms ± 1.06 ms per loop (mean ± std. dev. of 7 runs, 5 loops each)\n"
     ]
    }
   ],
   "source": [
    "%timeit -n 5 calc_w(X, gaussian)"
   ]
  },
  {
   "cell_type": "code",
   "execution_count": 892,
   "id": "022cf9e6",
   "metadata": {},
   "outputs": [],
   "source": [
    "def meanshift_slow(data):\n",
    "    X = data.clone()\n",
    "#     for it in range(5): X = calc_w(X, gaussian)\n",
    "    for it in range(3): one_update(X)\n",
    "    return X"
   ]
  },
  {
   "cell_type": "code",
   "execution_count": 893,
   "id": "61366200",
   "metadata": {
    "scrolled": false
   },
   "outputs": [
    {
     "name": "stdout",
     "output_type": "stream",
     "text": [
      "CPU times: user 2.05 s, sys: 0 ns, total: 2.05 s\n",
      "Wall time: 2.05 s\n"
     ]
    }
   ],
   "source": [
    "%time X=meanshift_slow(data)"
   ]
  },
  {
   "cell_type": "code",
   "execution_count": 894,
   "id": "0cece1b2",
   "metadata": {
    "scrolled": true
   },
   "outputs": [
    {
     "data": {
      "image/png": "[encoded data removed]",
      "text/plain": [
       "<Figure size 400x300 with 1 Axes>"
      ]
     },
     "metadata": {},
     "output_type": "display_data"
    }
   ],
   "source": [
    "plot_data(centroids+2, X, n_samples)"
   ]
  },
  {
   "cell_type": "markdown",
   "id": "0edeb3f9",
   "metadata": {},
   "source": [
    "CHECK THE PERFORMANCE OF THE VECT ALGO AND JEREMYS, HOW ARE THE POINTS POOLED..."
   ]
  },
  {
   "cell_type": "markdown",
   "id": "df22989e",
   "metadata": {},
   "source": [
    "### We can animate the process"
   ]
  },
  {
   "cell_type": "code",
   "execution_count": 895,
   "id": "85e7e0c4",
   "metadata": {},
   "outputs": [],
   "source": [
    "from matplotlib.animation import FuncAnimation\n",
    "from IPython.display import HTML"
   ]
  },
  {
   "cell_type": "code",
   "execution_count": null,
   "id": "d613b1cd",
   "metadata": {},
   "outputs": [],
   "source": [
    "def do_one(d):\n",
    "    "
   ]
  },
  {
   "cell_type": "code",
   "execution_count": null,
   "id": "f47faed4",
   "metadata": {},
   "outputs": [],
   "source": []
  },
  {
   "cell_type": "code",
   "execution_count": null,
   "id": "ddfbfad4",
   "metadata": {},
   "outputs": [],
   "source": []
  },
  {
   "cell_type": "markdown",
   "id": "be9d9d83",
   "metadata": {},
   "source": [
    "### *--- Quick drafting ---*"
   ]
  },
  {
   "cell_type": "code",
   "execution_count": null,
   "id": "4544dc17",
   "metadata": {},
   "outputs": [],
   "source": []
  },
  {
   "cell_type": "code",
   "execution_count": 327,
   "id": "0d6fff28",
   "metadata": {},
   "outputs": [],
   "source": [
    "A = torch.tensor([0, 1, 2])\n",
    "\n",
    "B = torch.tensor([[ 0,  1,  2,  3],\n",
    "                  [ 4,  5,  6,  7],\n",
    "                  [ 8,  9, 10, 11]])"
   ]
  },
  {
   "cell_type": "code",
   "execution_count": 328,
   "id": "d5cb6b02",
   "metadata": {},
   "outputs": [
    {
     "data": {
      "text/plain": [
       "(torch.Size([3]), torch.Size([3, 1]), torch.Size([3, 4]))"
      ]
     },
     "execution_count": 328,
     "metadata": {},
     "output_type": "execute_result"
    }
   ],
   "source": [
    "A.shape, A[:,None].shape, B.shape"
   ]
  },
  {
   "cell_type": "code",
   "execution_count": 329,
   "id": "030b64fe",
   "metadata": {},
   "outputs": [
    {
     "data": {
      "text/plain": [
       "(tensor([[ 0,  0,  0,  0],\n",
       "         [ 4,  5,  6,  7],\n",
       "         [16, 18, 20, 22]]),\n",
       " tensor([[ 0,  0,  0,  0],\n",
       "         [ 4,  5,  6,  7],\n",
       "         [16, 18, 20, 22]]))"
      ]
     },
     "execution_count": 329,
     "metadata": {},
     "output_type": "execute_result"
    }
   ],
   "source": [
    "A[:,None]*B, B*A[:,None]"
   ]
  },
  {
   "cell_type": "code",
   "execution_count": 265,
   "id": "b21d7efd",
   "metadata": {
    "scrolled": false
   },
   "outputs": [
    {
     "data": {
      "text/plain": [
       "(tensor([20, 23, 26, 29]), tensor([ 0, 22, 76]))"
      ]
     },
     "execution_count": 265,
     "metadata": {},
     "output_type": "execute_result"
    }
   ],
   "source": [
    "(A[:,None]*B).sum(0), (A[:,None]*B).sum(1)"
   ]
  },
  {
   "cell_type": "code",
   "execution_count": 270,
   "id": "043299a7",
   "metadata": {
    "scrolled": true
   },
   "outputs": [
    {
     "data": {
      "text/plain": [
       "(tensor([20, 23, 26, 29]), tensor([ 0, 22, 76]))"
      ]
     },
     "execution_count": 270,
     "metadata": {},
     "output_type": "execute_result"
    }
   ],
   "source": [
    "torch.einsum('ij,ij->j',A[:,None],B), torch.einsum('ij,ij->i',A[:,None],B)"
   ]
  },
  {
   "cell_type": "markdown",
   "id": "f5f79ecd",
   "metadata": {},
   "source": [
    "Build the data and calculate the distances between each point and the rest of the points ( (n,n) difference) "
   ]
  },
  {
   "cell_type": "code",
   "execution_count": 227,
   "id": "2eaabcaa",
   "metadata": {},
   "outputs": [],
   "source": [
    "def samp(x): return torch.distributions.MultivariateNormal(x, torch.diag(torch.tensor([5.,5.]))).sample((10,))"
   ]
  },
  {
   "cell_type": "code",
   "execution_count": 228,
   "id": "59c8fd76",
   "metadata": {
    "scrolled": true
   },
   "outputs": [
    {
     "data": {
      "text/plain": [
       "tensor([[ 0.886,  3.895],\n",
       "        [-2.326,  3.220],\n",
       "        [ 2.753, -0.873],\n",
       "        [-3.342, -0.368],\n",
       "        [ 5.698,  1.526],\n",
       "        [ 0.465, -1.162],\n",
       "        [ 2.884,  4.054],\n",
       "        [ 8.553,  2.259],\n",
       "        [-1.068,  2.933],\n",
       "        [ 4.434,  4.213]])"
      ]
     },
     "execution_count": 228,
     "metadata": {},
     "output_type": "execute_result"
    }
   ],
   "source": [
    "samp(tensor([1.,2.]))"
   ]
  },
  {
   "cell_type": "code",
   "execution_count": 222,
   "id": "522d7570",
   "metadata": {},
   "outputs": [
    {
     "data": {
      "text/plain": [
       "torch.Size([10, 2])"
      ]
     },
     "execution_count": 222,
     "metadata": {},
     "output_type": "execute_result"
    }
   ],
   "source": [
    "samp.shape"
   ]
  },
  {
   "cell_type": "code",
   "execution_count": 225,
   "id": "a8c015e5",
   "metadata": {},
   "outputs": [],
   "source": [
    "cetr = torch.rand(5,2)"
   ]
  },
  {
   "cell_type": "code",
   "execution_count": 226,
   "id": "ae55c30f",
   "metadata": {},
   "outputs": [
    {
     "data": {
      "text/plain": [
       "tensor([[0.374, 0.704],\n",
       "        [0.107, 0.632],\n",
       "        [0.842, 0.346],\n",
       "        [0.499, 0.646],\n",
       "        [0.352, 0.100]])"
      ]
     },
     "execution_count": 226,
     "metadata": {},
     "output_type": "execute_result"
    }
   ],
   "source": [
    "cetr"
   ]
  },
  {
   "cell_type": "code",
   "execution_count": 229,
   "id": "8ff90586",
   "metadata": {},
   "outputs": [],
   "source": [
    "datt_l = [samp(c) for c in cetr]\n",
    "datt =  torch.cat(datt_l)"
   ]
  },
  {
   "cell_type": "code",
   "execution_count": 230,
   "id": "320b82b6",
   "metadata": {},
   "outputs": [
    {
     "data": {
      "text/plain": [
       "torch.Size([50, 2])"
      ]
     },
     "execution_count": 230,
     "metadata": {},
     "output_type": "execute_result"
    }
   ],
   "source": [
    "datt.shape"
   ]
  },
  {
   "cell_type": "code",
   "execution_count": 235,
   "id": "79e04df8",
   "metadata": {},
   "outputs": [
    {
     "data": {
      "text/plain": [
       "torch.Size([50, 50, 2])"
      ]
     },
     "execution_count": 235,
     "metadata": {},
     "output_type": "execute_result"
    }
   ],
   "source": [
    "(datt[:,None,:] - datt).shape"
   ]
  },
  {
   "cell_type": "code",
   "execution_count": 237,
   "id": "b8fc50ec",
   "metadata": {},
   "outputs": [],
   "source": [
    "#calc dist between each poitn and the rest\n",
    "Di = datt[:,None,:] - datt\n",
    "diss = torch.einsum('ijk,ijk->ij', Di, Di).sqrt()"
   ]
  },
  {
   "cell_type": "code",
   "execution_count": 239,
   "id": "d180604c",
   "metadata": {},
   "outputs": [
    {
     "data": {
      "text/plain": [
       "torch.Size([50, 50])"
      ]
     },
     "execution_count": 239,
     "metadata": {},
     "output_type": "execute_result"
    }
   ],
   "source": [
    "diss.shape"
   ]
  },
  {
   "cell_type": "code",
   "execution_count": 243,
   "id": "6f8c35c0",
   "metadata": {},
   "outputs": [],
   "source": [
    "rd = torch.zeros_like(diss)\n",
    "for i, d in enumerate(datt):\n",
    "    rd[i] = ((d-datt)**2).sum(1).sqrt()"
   ]
  },
  {
   "cell_type": "code",
   "execution_count": 248,
   "id": "aeba0d16",
   "metadata": {},
   "outputs": [
    {
     "data": {
      "text/plain": [
       "tensor(2500.)"
      ]
     },
     "execution_count": 248,
     "metadata": {},
     "output_type": "execute_result"
    }
   ],
   "source": [
    "(diss+1-rd).sum()"
   ]
  },
  {
   "cell_type": "code",
   "execution_count": 254,
   "id": "756dae6d",
   "metadata": {},
   "outputs": [],
   "source": [
    "def delta_equal(u, v, delta=1e-6):\n",
    "    if (u-v).sum() < delta: return True\n",
    "    else: return False"
   ]
  },
  {
   "cell_type": "code",
   "execution_count": null,
   "id": "d8fa654b",
   "metadata": {},
   "outputs": [],
   "source": []
  },
  {
   "cell_type": "code",
   "execution_count": 255,
   "id": "af11e6ec",
   "metadata": {},
   "outputs": [
    {
     "data": {
      "text/plain": [
       "False"
      ]
     },
     "execution_count": 255,
     "metadata": {},
     "output_type": "execute_result"
    }
   ],
   "source": [
    "delta_equal(diss+1, rd)"
   ]
  },
  {
   "cell_type": "code",
   "execution_count": null,
   "id": "e2361200",
   "metadata": {},
   "outputs": [],
   "source": []
  },
  {
   "cell_type": "code",
   "execution_count": 512,
   "id": "ee701ef6",
   "metadata": {},
   "outputs": [],
   "source": [
    "A = tensor([[1,0],[1,0],[-1,0]])\n",
    "\n",
    "B = tensor([[1, 2, 3],\n",
    "            [4, 5, 6],\n",
    "            [7, 8, 9]])"
   ]
  },
  {
   "cell_type": "code",
   "execution_count": 513,
   "id": "3d9b8148",
   "metadata": {},
   "outputs": [
    {
     "data": {
      "text/plain": [
       "(tensor([[ 1,  0],\n",
       "         [ 1,  0],\n",
       "         [-1,  0]]),\n",
       " tensor([[1, 2, 3],\n",
       "         [4, 5, 6],\n",
       "         [7, 8, 9]]))"
      ]
     },
     "execution_count": 513,
     "metadata": {},
     "output_type": "execute_result"
    }
   ],
   "source": [
    "A, B"
   ]
  },
  {
   "cell_type": "code",
   "execution_count": 514,
   "id": "1fa15ead",
   "metadata": {},
   "outputs": [
    {
     "data": {
      "text/plain": [
       "(torch.Size([3, 2]),\n",
       " torch.Size([3, 3]),\n",
       " torch.Size([3, 2, 1]),\n",
       " torch.Size([3, 1, 3]))"
      ]
     },
     "execution_count": 514,
     "metadata": {},
     "output_type": "execute_result"
    }
   ],
   "source": [
    "A.shape, B.shape, A[...,None].shape, B[:,None,:].shape"
   ]
  },
  {
   "cell_type": "code",
   "execution_count": 515,
   "id": "f1c5c30f",
   "metadata": {},
   "outputs": [
    {
     "data": {
      "text/plain": [
       "tensor([[[ 1,  0],\n",
       "         [ 2,  0],\n",
       "         [-3,  0]],\n",
       "\n",
       "        [[ 4,  0],\n",
       "         [ 5,  0],\n",
       "         [-6,  0]],\n",
       "\n",
       "        [[ 7,  0],\n",
       "         [ 8,  0],\n",
       "         [-9,  0]]])"
      ]
     },
     "execution_count": 515,
     "metadata": {},
     "output_type": "execute_result"
    }
   ],
   "source": [
    "A*B[...,None]"
   ]
  }
 ],
 "metadata": {
  "kernelspec": {
   "display_name": "Python 3 (ipykernel)",
   "language": "python",
   "name": "python3"
  },
  "language_info": {
   "codemirror_mode": {
    "name": "ipython",
    "version": 3
   },
   "file_extension": ".py",
   "mimetype": "text/x-python",
   "name": "python",
   "nbconvert_exporter": "python",
   "pygments_lexer": "ipython3",
   "version": "3.10.8"
  }
 },
 "nbformat": 4,
 "nbformat_minor": 5
}
