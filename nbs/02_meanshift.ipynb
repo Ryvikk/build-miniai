{
 "cells": [
  {
   "cell_type": "code",
   "execution_count": 1,
   "id": "6f6eb35e",
   "metadata": {},
   "outputs": [],
   "source": [
    "import math\n",
    "import matplotlib.pyplot as plt\n",
    "import operator\n",
    "import torch\n",
    "from functools import partial"
   ]
  },
  {
   "cell_type": "code",
   "execution_count": 2,
   "id": "35f4de1c",
   "metadata": {},
   "outputs": [
    {
     "data": {
      "text/html": [
       "<style>.container { width:100% !important; }</style>"
      ],
      "text/plain": [
       "<IPython.core.display.HTML object>"
      ]
     },
     "metadata": {},
     "output_type": "display_data"
    }
   ],
   "source": [
    "from IPython.display import display, HTML\n",
    "display(HTML(\"<style>.container { width:100% !important; }</style>\"))"
   ]
  },
  {
   "cell_type": "code",
   "execution_count": 3,
   "id": "e39f6e37",
   "metadata": {},
   "outputs": [],
   "source": [
    "plt.rcParams['figure.figsize'] = [4.0, 3.0]\n",
    "plt.rcParams['font.size'] = 8"
   ]
  },
  {
   "cell_type": "code",
   "execution_count": 4,
   "id": "f82f89a2",
   "metadata": {},
   "outputs": [],
   "source": [
    "torch.manual_seed(11)\n",
    "torch.set_printoptions(precision=5, linewidth=140, sci_mode=False)"
   ]
  },
  {
   "cell_type": "markdown",
   "id": "df5b2672",
   "metadata": {},
   "source": [
    "## Meanshift clustering algorithm\n",
    ">The idea is to use the concepts of broadcasting, multiplication, gpu acceleration in the implementation"
   ]
  },
  {
   "cell_type": "markdown",
   "id": "14cb846c",
   "metadata": {},
   "source": [
    "### create the data"
   ]
  },
  {
   "cell_type": "code",
   "execution_count": 6,
   "id": "d1962010",
   "metadata": {},
   "outputs": [],
   "source": [
    "n_clusters = 5\n",
    "n_samples = 300"
   ]
  },
  {
   "cell_type": "code",
   "execution_count": 7,
   "id": "a60f3f34",
   "metadata": {},
   "outputs": [],
   "source": [
    "centroids = torch.rand(n_clusters, 2)*100-50"
   ]
  },
  {
   "cell_type": "code",
   "execution_count": 8,
   "id": "0681c0b3",
   "metadata": {},
   "outputs": [
    {
     "data": {
      "text/plain": [
       "tensor([[-35.09583,  -1.34469],\n",
       "        [ 48.56615, -33.15986],\n",
       "        [  8.39434,  19.35992],\n",
       "        [  8.30849, -37.15622],\n",
       "        [  7.21227,  42.48394]])"
      ]
     },
     "execution_count": 8,
     "metadata": {},
     "output_type": "execute_result"
    }
   ],
   "source": [
    "centroids"
   ]
  },
  {
   "cell_type": "code",
   "execution_count": 9,
   "id": "a201c1bb",
   "metadata": {},
   "outputs": [
    {
     "data": {
      "text/plain": [
       "torch.Size([5, 2])"
      ]
     },
     "execution_count": 9,
     "metadata": {},
     "output_type": "execute_result"
    }
   ],
   "source": [
    "centroids.shape"
   ]
  },
  {
   "cell_type": "code",
   "execution_count": 10,
   "id": "6253d811",
   "metadata": {},
   "outputs": [],
   "source": [
    "from torch.distributions.multivariate_normal import MultivariateNormal\n",
    "from torch import tensor"
   ]
  },
  {
   "cell_type": "markdown",
   "id": "11d7b94b",
   "metadata": {},
   "source": [
    ">We'll use a multivariate normal distribution, here bivariate, to generate points $(x_i, y_i)$ around the centroids, the variables won't be correlated so the covariance matrix should be diagonal, with variance $v$ each:<br>\n",
    "*(The first argument is the mean, ie a centroid, and the second argument is the covariance matrix (here diagonal), then in the sample() method we specify the number of points to draw around this mean with the variance given in the covariance matrix)*"
   ]
  },
  {
   "cell_type": "code",
   "execution_count": 11,
   "id": "63f11694",
   "metadata": {},
   "outputs": [],
   "source": [
    "v = 30.0\n",
    "u = MultivariateNormal(centroids[0], torch.diag(tensor([v,v])))"
   ]
  },
  {
   "cell_type": "code",
   "execution_count": 12,
   "id": "c382b863",
   "metadata": {},
   "outputs": [],
   "source": [
    "g = u.sample((n_samples,))"
   ]
  },
  {
   "cell_type": "code",
   "execution_count": 13,
   "id": "68cb7095",
   "metadata": {
    "scrolled": false
   },
   "outputs": [
    {
     "data": {
      "text/plain": [
       "torch.Size([300, 2])"
      ]
     },
     "execution_count": 13,
     "metadata": {},
     "output_type": "execute_result"
    }
   ],
   "source": [
    "g.shape"
   ]
  },
  {
   "cell_type": "code",
   "execution_count": 14,
   "id": "8dedc25f",
   "metadata": {},
   "outputs": [],
   "source": [
    "def sample(m, v): return MultivariateNormal(m, torch.diag(tensor([v,v]))).sample((n_samples,))"
   ]
  },
  {
   "cell_type": "code",
   "execution_count": 15,
   "id": "54acd312",
   "metadata": {},
   "outputs": [],
   "source": [
    "v = 11."
   ]
  },
  {
   "cell_type": "code",
   "execution_count": 16,
   "id": "ef405f57",
   "metadata": {},
   "outputs": [
    {
     "data": {
      "text/plain": [
       "torch.Size([1500, 2])"
      ]
     },
     "execution_count": 16,
     "metadata": {},
     "output_type": "execute_result"
    }
   ],
   "source": [
    "clouds = [sample(c, v) for c in centroids]\n",
    "data = torch.cat(clouds)\n",
    "data.shape"
   ]
  },
  {
   "cell_type": "code",
   "execution_count": 17,
   "id": "d9e3d765",
   "metadata": {},
   "outputs": [],
   "source": [
    "def plot_data(centroids, data, n_samples, ax=None):\n",
    "    if ax is None: fig,ax = plt.subplots()\n",
    "    for i, centroid in enumerate(centroids):\n",
    "        sample = data[i*n_samples:(i+1)*n_samples]\n",
    "        ax.scatter(sample[:,0], sample[:,1], s=1)\n",
    "        ax.plot(*centroid, markersize=10, marker='x', color='k', mew=5)\n",
    "        ax.plot(*centroid, markersize=5, marker='x', color='r', mew=1)"
   ]
  },
  {
   "cell_type": "code",
   "execution_count": 18,
   "id": "2b7d348e",
   "metadata": {},
   "outputs": [
    {
     "data": {
      "image/png": "[encoded data removed]",
      "text/plain": [
       "<Figure size 400x300 with 1 Axes>"
      ]
     },
     "metadata": {},
     "output_type": "display_data"
    }
   ],
   "source": [
    "plot_data(centroids, data, n_samples)"
   ]
  },
  {
   "cell_type": "markdown",
   "id": "066f72fe",
   "metadata": {},
   "source": [
    "### Mean Shift\n",
    "> This algorithm does not need to know the number of centroids in advance, it requires a **bandwidth**, similarly to dbscan. <br>\n",
    "And it works with clusters of any shape.\n",
    "\n",
    "> What we are looking to do is measure the distance between each point and the rest of the points and weight each two-by-two distance with the gaussian. A neighbor point will have a weight closer to 1 vs a far away point will have a weight tht tends towards 0.\n",
    "\n",
    "> We can try various function shapes and see how they compare in efficiency. If we want the weighting to be normed, the function should integrate to 1\n",
    "\n",
    "> Then, we will assign the weighted average x and weighted average"
   ]
  },
  {
   "cell_type": "code",
   "execution_count": 19,
   "id": "f1cef37f",
   "metadata": {},
   "outputs": [
    {
     "data": {
      "text/plain": [
       "tensor([ 7.36041, -1.81920])"
      ]
     },
     "execution_count": 19,
     "metadata": {},
     "output_type": "execute_result"
    }
   ],
   "source": [
    "#barycentre\n",
    "data.mean(0)"
   ]
  },
  {
   "cell_type": "markdown",
   "id": "8c4c379a",
   "metadata": {},
   "source": [
    "> We typically use a gaussian function: <br>\n",
    "\\begin{equation*}\n",
    "\\mathcal{N}(0,\\,\\sigma^{2}) = \\frac{1}{\\sqrt{2\\pi} \\sigma} \\exp \\left(-{\\frac{x^2}{2\\sigma^2}}\\right)\n",
    "\\end{equation*}\n",
    "\n",
    ">But other functions can work as well. The gaussian's standard deviation will be the bandwidth, meaning the characteristic distance within which a point will have an impact in the weighted sum. Another possibility would be to use a trianfular function, an inverse function, or a decreasing exponential function."
   ]
  },
  {
   "cell_type": "code",
   "execution_count": 20,
   "id": "93a19938",
   "metadata": {},
   "outputs": [],
   "source": [
    "def gaussian(x, sig=2.5) : \n",
    "    return 1/(sig*(2*math.pi)**(0.5)) * torch.exp(-0.5*(x/sig)**2)"
   ]
  },
  {
   "cell_type": "code",
   "execution_count": 21,
   "id": "c30d35c8",
   "metadata": {},
   "outputs": [],
   "source": [
    "def tri(x, i=8):\n",
    "    return (-(abs(x)/i)+1).clamp_min(0)"
   ]
  },
  {
   "cell_type": "code",
   "execution_count": 22,
   "id": "686a7222",
   "metadata": {},
   "outputs": [],
   "source": [
    "def exp_n(x, t=2.5):\n",
    "    return torch.exp(-abs(x)/t)"
   ]
  },
  {
   "cell_type": "code",
   "execution_count": 146,
   "id": "49b77799",
   "metadata": {},
   "outputs": [],
   "source": [
    "def plot_func(f):\n",
    "    x = torch.linspace(0,50,100)\n",
    "    plt.plot(x, f(x))"
   ]
  },
  {
   "cell_type": "markdown",
   "id": "9db21937",
   "metadata": {},
   "source": [
    "> In order to use partially defined function as input of `plot_func()` we can use the `partial` method from `functools`. We can pass in the function name and specify the attributes we want to fix:"
   ]
  },
  {
   "cell_type": "code",
   "execution_count": 24,
   "id": "57ae0258",
   "metadata": {},
   "outputs": [
    {
     "data": {
      "text/plain": [
       "functools.partial"
      ]
     },
     "execution_count": 24,
     "metadata": {},
     "output_type": "execute_result"
    }
   ],
   "source": [
    "partial"
   ]
  },
  {
   "cell_type": "code",
   "execution_count": 147,
   "id": "1472ad0b",
   "metadata": {
    "scrolled": false
   },
   "outputs": [
    {
     "data": {
      "image/png": "[encoded data removed]",
      "text/plain": [
       "<Figure size 400x300 with 1 Axes>"
      ]
     },
     "metadata": {},
     "output_type": "display_data"
    }
   ],
   "source": [
    "plot_func(partial(gaussian, sig=10))"
   ]
  },
  {
   "cell_type": "code",
   "execution_count": 26,
   "id": "e2d28bbd",
   "metadata": {},
   "outputs": [
    {
     "data": {
      "image/png": "[encoded data removed]",
      "text/plain": [
       "<Figure size 400x300 with 1 Axes>"
      ]
     },
     "metadata": {},
     "output_type": "display_data"
    }
   ],
   "source": [
    "plot_func(tri)"
   ]
  },
  {
   "cell_type": "code",
   "execution_count": 27,
   "id": "35f7d760",
   "metadata": {},
   "outputs": [
    {
     "data": {
      "image/png": "[encoded data removed]",
      "text/plain": [
       "<Figure size 400x300 with 1 Axes>"
      ]
     },
     "metadata": {},
     "output_type": "display_data"
    }
   ],
   "source": [
    "plot_func(partial(exp_n,t=2.5))"
   ]
  },
  {
   "cell_type": "code",
   "execution_count": 28,
   "id": "c0018ead",
   "metadata": {},
   "outputs": [],
   "source": [
    "X = data.clone()\n",
    "X = X[torch.randperm(X.shape[0])]\n",
    "x = data[0]"
   ]
  },
  {
   "cell_type": "code",
   "execution_count": 29,
   "id": "443be4cb",
   "metadata": {},
   "outputs": [
    {
     "data": {
      "text/plain": [
       "(torch.Size([2]), torch.Size([1500, 2]), torch.Size([1500, 2]))"
      ]
     },
     "execution_count": 29,
     "metadata": {},
     "output_type": "execute_result"
    }
   ],
   "source": [
    "x.shape, X.shape, (x-X).shape"
   ]
  },
  {
   "cell_type": "markdown",
   "id": "cdb916f4",
   "metadata": {},
   "source": [
    ">We can use a loop to calculate all values from the matrix X:"
   ]
  },
  {
   "cell_type": "code",
   "execution_count": 29,
   "id": "ec82d41d",
   "metadata": {},
   "outputs": [
    {
     "name": "stdout",
     "output_type": "stream",
     "text": [
      "193 ms ± 5.72 ms per loop (mean ± std. dev. of 7 runs, 1 loop each)\n"
     ]
    }
   ],
   "source": [
    "%%timeit\n",
    "dist = torch.zeros(X.shape[0], X.shape[0])\n",
    "for i,x in enumerate(X):\n",
    "    dist[i] = ((x-X)**2).sum(1).sqrt()"
   ]
  },
  {
   "cell_type": "markdown",
   "id": "c853ef82",
   "metadata": {},
   "source": [
    "> We can remove the loop and fasten the process by using a complete vectorial calculation:"
   ]
  },
  {
   "cell_type": "code",
   "execution_count": 30,
   "id": "a2825605",
   "metadata": {
    "scrolled": true
   },
   "outputs": [
    {
     "data": {
      "text/plain": [
       "(torch.Size([1500, 2, 1]), torch.Size([1500, 2]))"
      ]
     },
     "execution_count": 30,
     "metadata": {},
     "output_type": "execute_result"
    }
   ],
   "source": [
    "X[...,None].shape, X.shape"
   ]
  },
  {
   "cell_type": "code",
   "execution_count": 31,
   "id": "784243d9",
   "metadata": {},
   "outputs": [
    {
     "name": "stdout",
     "output_type": "stream",
     "text": [
      "17.9 ms ± 10.3 ms per loop (mean ± std. dev. of 7 runs, 2 loops each)\n"
     ]
    }
   ],
   "source": [
    "%timeit -n 2 ((X[...,None]-X.transpose(0,1))**2).sum(1).sqrt()"
   ]
  },
  {
   "cell_type": "markdown",
   "id": "ff2060a7",
   "metadata": {},
   "source": [
    "> In order to remove the transpose step we can add the empty axis in between, the same broadcasting rule will apply:"
   ]
  },
  {
   "cell_type": "code",
   "execution_count": 32,
   "id": "3d898872",
   "metadata": {},
   "outputs": [
    {
     "data": {
      "text/plain": [
       "(torch.Size([2500, 1, 2]), torch.Size([2500, 2]))"
      ]
     },
     "execution_count": 32,
     "metadata": {},
     "output_type": "execute_result"
    }
   ],
   "source": [
    "X[:,None,:].shape, X.shape"
   ]
  },
  {
   "cell_type": "code",
   "execution_count": 33,
   "id": "a83d8e29",
   "metadata": {
    "scrolled": true
   },
   "outputs": [
    {
     "name": "stdout",
     "output_type": "stream",
     "text": [
      "39.1 ms ± 3.28 ms per loop (mean ± std. dev. of 7 runs, 2 loops each)\n"
     ]
    }
   ],
   "source": [
    "%timeit -n 2 ((X[:,None,:]-X)**2).sum(2).sqrt()"
   ]
  },
  {
   "cell_type": "markdown",
   "id": "d4f64a78",
   "metadata": {},
   "source": [
    "> We can try with `torch.einsum` as well:"
   ]
  },
  {
   "cell_type": "code",
   "execution_count": 34,
   "id": "68a8a784",
   "metadata": {},
   "outputs": [
    {
     "name": "stdout",
     "output_type": "stream",
     "text": [
      "39.9 ms ± 2.31 ms per loop (mean ± std. dev. of 7 runs, 10 loops each)\n"
     ]
    }
   ],
   "source": [
    "%%timeit\n",
    "Xt = torch.einsum('ij->ji', X)\n",
    "Diff2 = (X[...,None] - Xt)**2\n",
    "Dist = torch.einsum('ijk->ik', Diff2).sqrt()"
   ]
  },
  {
   "cell_type": "code",
   "execution_count": 35,
   "id": "bde4dca8",
   "metadata": {},
   "outputs": [
    {
     "name": "stdout",
     "output_type": "stream",
     "text": [
      "42.3 ms ± 5.65 ms per loop (mean ± std. dev. of 7 runs, 2 loops each)\n"
     ]
    }
   ],
   "source": [
    "%timeit -n 2 Dist = torch.einsum('ijk->ik', (X[...,None] - torch.einsum('ij->ji', X))**2).sqrt()"
   ]
  },
  {
   "cell_type": "code",
   "execution_count": 36,
   "id": "c0f79ce2",
   "metadata": {
    "scrolled": true
   },
   "outputs": [
    {
     "name": "stdout",
     "output_type": "stream",
     "text": [
      "37.2 ms ± 4.6 ms per loop (mean ± std. dev. of 7 runs, 2 loops each)\n"
     ]
    }
   ],
   "source": [
    "%timeit -n 2 torch.sqrt(torch.einsum('ijk->ij',(X[:,None,:] - X)**2))"
   ]
  },
  {
   "cell_type": "markdown",
   "id": "9f5adddc",
   "metadata": {},
   "source": [
    "> We can add the square step in einsum and the performance is the best:"
   ]
  },
  {
   "cell_type": "code",
   "execution_count": 37,
   "id": "ad3df809",
   "metadata": {},
   "outputs": [
    {
     "name": "stdout",
     "output_type": "stream",
     "text": [
      "25 ms ± 809 µs per loop (mean ± std. dev. of 7 runs, 10 loops each)\n"
     ]
    }
   ],
   "source": [
    "%%timeit\n",
    "Diff = X[:,None,:] - X\n",
    "torch.sqrt(torch.einsum('ijk,ijk->ij',Diff,Diff))"
   ]
  },
  {
   "cell_type": "markdown",
   "id": "79b6a1d8",
   "metadata": {},
   "source": [
    "> The fastest implementation in a function with the weighting function:"
   ]
  },
  {
   "cell_type": "code",
   "execution_count": 32,
   "id": "98513bd5",
   "metadata": {},
   "outputs": [],
   "source": [
    "def calculate_weights(M, distrib):\n",
    "    D = M[:,None,:] - M\n",
    "    return distrib(torch.sqrt(torch.einsum('ijk,ijk->ij',D,D)))"
   ]
  },
  {
   "cell_type": "code",
   "execution_count": 39,
   "id": "7f390cd7",
   "metadata": {},
   "outputs": [],
   "source": [
    "weights = calculate_weights(X, gaussian)"
   ]
  },
  {
   "cell_type": "code",
   "execution_count": 40,
   "id": "7d9d20cd",
   "metadata": {},
   "outputs": [
    {
     "data": {
      "text/plain": [
       "tensor([[    0.15958,     0.00000,     0.00000,  ...,     0.02073,     0.06337,     0.01029],\n",
       "        [    0.00000,     0.15958,     0.00000,  ...,     0.00000,     0.00000,     0.00000],\n",
       "        [    0.00000,     0.00000,     0.15958,  ...,     0.00000,     0.00000,     0.00000],\n",
       "        ...,\n",
       "        [    0.02073,     0.00000,     0.00000,  ...,     0.15958,     0.00406,     0.00010],\n",
       "        [    0.06337,     0.00000,     0.00000,  ...,     0.00406,     0.15958,     0.00049],\n",
       "        [    0.01029,     0.00000,     0.00000,  ...,     0.00010,     0.00049,     0.15958]])"
      ]
     },
     "execution_count": 40,
     "metadata": {},
     "output_type": "execute_result"
    }
   ],
   "source": [
    "weights"
   ]
  },
  {
   "cell_type": "markdown",
   "id": "89530622",
   "metadata": {},
   "source": [
    "> The next operation performs the weighted average $\\frac{\\sum_{i=0}^{n} \\omega_i xi}{\\sum_{i=0}^{n} \\omega_i}$ for each point and replaces the weighted average of $x_i$ and $y_i$ by their new weighted average *(the einsum implementation is again much faster)* :"
   ]
  },
  {
   "cell_type": "code",
   "execution_count": 41,
   "id": "7bf434f4",
   "metadata": {},
   "outputs": [
    {
     "data": {
      "text/plain": [
       "(torch.Size([2500, 2500]), torch.Size([2500, 2]))"
      ]
     },
     "execution_count": 41,
     "metadata": {},
     "output_type": "execute_result"
    }
   ],
   "source": [
    "weights.shape, X.shape"
   ]
  },
  {
   "cell_type": "code",
   "execution_count": 42,
   "id": "2803b10b",
   "metadata": {},
   "outputs": [
    {
     "data": {
      "text/plain": [
       "(torch.Size([2500, 2]), torch.Size([2500, 1]))"
      ]
     },
     "execution_count": 42,
     "metadata": {},
     "output_type": "execute_result"
    }
   ],
   "source": [
    "(X*weights[...,None]).sum(1).shape, weights.sum(1)[:,None].shape"
   ]
  },
  {
   "cell_type": "code",
   "execution_count": 43,
   "id": "ed22dafd",
   "metadata": {
    "scrolled": true
   },
   "outputs": [
    {
     "name": "stdout",
     "output_type": "stream",
     "text": [
      "14.8 ms ± 2.46 ms per loop (mean ± std. dev. of 7 runs, 2 loops each)\n"
     ]
    }
   ],
   "source": [
    "%timeit -n 2 ((X*weights[...,None]).sum(1))/(weights.sum(0)[:,None])"
   ]
  },
  {
   "cell_type": "code",
   "execution_count": 44,
   "id": "b5ca27e9",
   "metadata": {},
   "outputs": [
    {
     "name": "stdout",
     "output_type": "stream",
     "text": [
      "5.23 ms ± 3.19 ms per loop (mean ± std. dev. of 7 runs, 2 loops each)\n"
     ]
    }
   ],
   "source": [
    "%timeit -n 2 torch.einsum('jk,ijk->ik', X, weights[...,None])/torch.einsum('ij->j',weights)[:,None]"
   ]
  },
  {
   "cell_type": "code",
   "execution_count": 45,
   "id": "7e7f87f1",
   "metadata": {
    "scrolled": true
   },
   "outputs": [
    {
     "data": {
      "text/plain": [
       "tensor([[ 48.95474, -31.34707],\n",
       "        [  8.45164,  22.63295],\n",
       "        [ 16.60374, -35.53895],\n",
       "        ...,\n",
       "        [ 44.28896, -33.28213],\n",
       "        [ 51.02065, -34.04449],\n",
       "        [ 50.03633, -25.59400]])"
      ]
     },
     "execution_count": 45,
     "metadata": {},
     "output_type": "execute_result"
    }
   ],
   "source": [
    "X"
   ]
  },
  {
   "cell_type": "code",
   "execution_count": 33,
   "id": "1852c05a",
   "metadata": {},
   "outputs": [],
   "source": [
    "def calc_w(X, distrib):\n",
    "    wei_X = torch.zeros(X.shape[0], X.shape[0])\n",
    "    X_new = torch.zeros_like(X)\n",
    "    for i,x in enumerate(X):\n",
    "        dist = ((x-X)**2).sum(1).sqrt()\n",
    "        weight = gaussian(dist,2.5)\n",
    "        wei_X[i] = weight\n",
    "        X_new[i] = (weight[:,None]*X).sum(0)/weight.sum()\n",
    "    return X_new, wei_X"
   ]
  },
  {
   "cell_type": "code",
   "execution_count": 34,
   "id": "003c7fe8",
   "metadata": {},
   "outputs": [],
   "source": [
    "def update_X(X, W): return torch.einsum('jk,ijk->ik', X, W[...,None])/torch.einsum('ij->j',W)[:,None]  \n",
    "# def update_X(W, X): return((X*W[...,None]).sum(1))/(W.sum(0)[:,None])"
   ]
  },
  {
   "cell_type": "code",
   "execution_count": 48,
   "id": "bb293d4c",
   "metadata": {},
   "outputs": [
    {
     "data": {
      "text/plain": [
       "tensor([[ 48.66008, -32.51586],\n",
       "        [  8.59818,  20.22630],\n",
       "        [ 10.90796, -36.77404],\n",
       "        ...,\n",
       "        [ 47.13900, -33.11506],\n",
       "        [ 49.26615, -33.19857],\n",
       "        [ 49.27081, -30.88627]])"
      ]
     },
     "execution_count": 48,
     "metadata": {},
     "output_type": "execute_result"
    }
   ],
   "source": [
    "r_s,_ = calc_w(X, gaussian)\n",
    "r_s, _ = calc_w(r_s, gaussian)\n",
    "r_s"
   ]
  },
  {
   "cell_type": "code",
   "execution_count": 49,
   "id": "209d95c9",
   "metadata": {},
   "outputs": [
    {
     "data": {
      "text/plain": [
       "tensor([[ 48.66008, -32.51586],\n",
       "        [  8.59818,  20.22630],\n",
       "        [ 10.90796, -36.77403],\n",
       "        ...,\n",
       "        [ 47.13899, -33.11507],\n",
       "        [ 49.26615, -33.19857],\n",
       "        [ 49.27081, -30.88627]])"
      ]
     },
     "execution_count": 49,
     "metadata": {},
     "output_type": "execute_result"
    }
   ],
   "source": [
    "w = calculate_weights(X, gaussian)\n",
    "r_v = update_X(X, w)\n",
    "w = calculate_weights(r_v, gaussian)\n",
    "r_v = update_X(r_v, w)\n",
    "r_v"
   ]
  },
  {
   "cell_type": "code",
   "execution_count": 50,
   "id": "c5429caf",
   "metadata": {},
   "outputs": [
    {
     "data": {
      "text/plain": [
       "tensor(0.00065)"
      ]
     },
     "execution_count": 50,
     "metadata": {},
     "output_type": "execute_result"
    }
   ],
   "source": [
    "(r_s-r_v).sum()"
   ]
  },
  {
   "cell_type": "code",
   "execution_count": 51,
   "id": "e0669d62",
   "metadata": {},
   "outputs": [
    {
     "name": "stdout",
     "output_type": "stream",
     "text": [
      "78.7 ms ± 13.4 ms per loop (mean ± std. dev. of 7 runs, 2 loops each)\n"
     ]
    }
   ],
   "source": [
    "%%timeit -n 2\n",
    "weights = calculate_weights(X, gaussian)\n",
    "update_X(X, weights)"
   ]
  },
  {
   "cell_type": "code",
   "execution_count": 97,
   "id": "a310f1a8",
   "metadata": {},
   "outputs": [],
   "source": [
    "def meanshift(data, func):\n",
    "    X = data.clone()\n",
    "    for i in range(3):\n",
    "        weights = calculate_weights(X, func)\n",
    "        X = update_X(X, weights)\n",
    "    return X"
   ]
  },
  {
   "cell_type": "code",
   "execution_count": 53,
   "id": "b2e8a83b",
   "metadata": {},
   "outputs": [
    {
     "name": "stdout",
     "output_type": "stream",
     "text": [
      "182 ms ± 13.9 ms per loop (mean ± std. dev. of 7 runs, 2 loops each)\n"
     ]
    }
   ],
   "source": [
    "%timeit -n 2 X=meanshift(data, gaussian)"
   ]
  },
  {
   "cell_type": "code",
   "execution_count": 98,
   "id": "2c741fc4",
   "metadata": {},
   "outputs": [],
   "source": [
    "X = meanshift(data, gaussian)"
   ]
  },
  {
   "cell_type": "code",
   "execution_count": 99,
   "id": "f3198859",
   "metadata": {
    "scrolled": true
   },
   "outputs": [
    {
     "data": {
      "image/png": "[encoded data removed]",
      "text/plain": [
       "<Figure size 400x300 with 1 Axes>"
      ]
     },
     "metadata": {},
     "output_type": "display_data"
    }
   ],
   "source": [
    "plot_data(centroids+4, X, n_samples)"
   ]
  },
  {
   "cell_type": "markdown",
   "id": "e59e7579",
   "metadata": {},
   "source": [
    "> We can build the following function that breaks down the operation point by point to verify the results above: <br>\n",
    "(It is a very slow operation)"
   ]
  },
  {
   "cell_type": "code",
   "execution_count": 56,
   "id": "3286cd80",
   "metadata": {},
   "outputs": [],
   "source": [
    "# def calc_w(X, distrib):\n",
    "#     wei_X = torch.zeros(X.shape[0], X.shape[0])\n",
    "#     X_new = torch.zeros_like(X)\n",
    "#     for i,x in enumerate(X):\n",
    "#         dist = ((x-X)**2).sum(1).sqrt()\n",
    "#         weight = gaussian(dist,2.5)\n",
    "#         wei_X[i] = weight\n",
    "#         X_new[i] = (weight[:,None]*X).sum(0)/weight.sum()\n",
    "#     return X_new, wei_X"
   ]
  },
  {
   "cell_type": "code",
   "execution_count": 38,
   "id": "3b2b99fe",
   "metadata": {},
   "outputs": [],
   "source": [
    "# Sequential version with the points position update performed at the end of the full loop\n",
    "def calc_w(X, distrib):\n",
    "    X_new = torch.zeros_like(X)\n",
    "    for i,x in enumerate(X):\n",
    "        dist = ((x-X)**2).sum(1).sqrt()\n",
    "        weight = gaussian(dist,2.5)\n",
    "        X_new[i] = (weight[:,None]*X).sum(0)/weight.sum()\n",
    "    return X_new"
   ]
  },
  {
   "cell_type": "code",
   "execution_count": 39,
   "id": "9a27cb30",
   "metadata": {},
   "outputs": [],
   "source": [
    "# Jeremy's version with the running update in the for loop\n",
    "def one_update(X):\n",
    "    for i,x in enumerate(X):\n",
    "        dist = ((x-X)**2).sum(1).sqrt()\n",
    "        weight = gaussian(dist,2.5)\n",
    "        X[i] = (weight[:,None]*X).sum(0)/weight.sum()"
   ]
  },
  {
   "cell_type": "code",
   "execution_count": 59,
   "id": "987dd799",
   "metadata": {
    "scrolled": true
   },
   "outputs": [
    {
     "name": "stdout",
     "output_type": "stream",
     "text": [
      "CPU times: user 253 ms, sys: 288 µs, total: 254 ms\n",
      "Wall time: 253 ms\n"
     ]
    },
    {
     "data": {
      "text/plain": [
       "tensor([[-35.20648,  -1.56982],\n",
       "        [-35.20646,  -1.56913],\n",
       "        [-35.20636,  -1.57091],\n",
       "        ...,\n",
       "        [  7.23291,  42.58536],\n",
       "        [  7.23032,  42.58460],\n",
       "        [  7.23070,  42.58479]])"
      ]
     },
     "execution_count": 59,
     "metadata": {},
     "output_type": "execute_result"
    }
   ],
   "source": [
    "%time calc_w(X, gaussian)"
   ]
  },
  {
   "cell_type": "code",
   "execution_count": 40,
   "id": "022cf9e6",
   "metadata": {},
   "outputs": [],
   "source": [
    "def meanshift_slow(data):\n",
    "    X = data.clone()\n",
    "    for it in range(3): X = calc_w(X, gaussian)\n",
    "#     for it in range(3): one_update(X)\n",
    "    return X"
   ]
  },
  {
   "cell_type": "code",
   "execution_count": 61,
   "id": "61366200",
   "metadata": {
    "scrolled": false
   },
   "outputs": [
    {
     "name": "stdout",
     "output_type": "stream",
     "text": [
      "CPU times: user 1.11 s, sys: 0 ns, total: 1.11 s\n",
      "Wall time: 1.11 s\n"
     ]
    }
   ],
   "source": [
    "%time _=meanshift_slow(data)"
   ]
  },
  {
   "cell_type": "code",
   "execution_count": 41,
   "id": "d89d3bb7",
   "metadata": {},
   "outputs": [],
   "source": [
    "X = meanshift_slow(data)"
   ]
  },
  {
   "cell_type": "code",
   "execution_count": 42,
   "id": "0cece1b2",
   "metadata": {
    "scrolled": true
   },
   "outputs": [
    {
     "data": {
      "image/png": "[encoded data removed]",
      "text/plain": [
       "<Figure size 400x300 with 1 Axes>"
      ]
     },
     "metadata": {},
     "output_type": "display_data"
    }
   ],
   "source": [
    "plot_data(centroids+4, X, n_samples)"
   ]
  },
  {
   "cell_type": "markdown",
   "id": "0edeb3f9",
   "metadata": {},
   "source": [
    "CHECK THE PERFORMANCE OF THE VECT ALGO AND JEREMYS, HOW ARE THE POINTS POOLED..."
   ]
  },
  {
   "cell_type": "markdown",
   "id": "df22989e",
   "metadata": {},
   "source": [
    "### We can animate the process"
   ]
  },
  {
   "cell_type": "code",
   "execution_count": 54,
   "id": "85e7e0c4",
   "metadata": {},
   "outputs": [],
   "source": [
    "from matplotlib.animation import FuncAnimation\n",
    "from IPython.display import HTML"
   ]
  },
  {
   "cell_type": "code",
   "execution_count": 79,
   "id": "d613b1cd",
   "metadata": {},
   "outputs": [
    {
     "ename": "SyntaxError",
     "evalue": "incomplete input (3576810337.py, line 2)",
     "output_type": "error",
     "traceback": [
      "\u001b[0;36m  Cell \u001b[0;32mIn[79], line 2\u001b[0;36m\u001b[0m\n\u001b[0;31m    \u001b[0m\n\u001b[0m    ^\u001b[0m\n\u001b[0;31mSyntaxError\u001b[0m\u001b[0;31m:\u001b[0m incomplete input\n"
     ]
    }
   ],
   "source": [
    "def do_one(d):\n",
    "    "
   ]
  },
  {
   "cell_type": "code",
   "execution_count": null,
   "id": "f47faed4",
   "metadata": {},
   "outputs": [],
   "source": []
  },
  {
   "cell_type": "code",
   "execution_count": null,
   "id": "ddfbfad4",
   "metadata": {},
   "outputs": [],
   "source": []
  },
  {
   "cell_type": "markdown",
   "id": "14f45e1a",
   "metadata": {},
   "source": [
    "### Using Rtrees and Locality-Sensitive Hashing\n",
    "\n",
    "> Rtrees should not be of great help here because if we need to use only the nearest neighbors of each points to spare on the distance calculation, the nearest neighbor search is expensive and must be performed at each meanshift iteration since the points coordinates are modified.\n",
    "Meanshift uses nicely the vectorial speed and replaces the nearest neighbors search by the gaussian distribution and weighted average tricks.\n",
    "\n",
    "> On the contrary, DBSCAN in a sequential implementation should likely benefit from RTrees and LSH"
   ]
  },
  {
   "cell_type": "markdown",
   "id": "f94d8b28",
   "metadata": {},
   "source": [
    "#### RTrees"
   ]
  },
  {
   "cell_type": "code",
   "execution_count": 80,
   "id": "4915e789",
   "metadata": {},
   "outputs": [],
   "source": [
    "from rtree import index"
   ]
  },
  {
   "cell_type": "code",
   "execution_count": 81,
   "id": "e4bc5576",
   "metadata": {},
   "outputs": [],
   "source": [
    "idx = index.Index()\n",
    "\n",
    "for i,coord in enumerate(X):\n",
    "    idx.add(i, (*coord, *coord))"
   ]
  },
  {
   "cell_type": "code",
   "execution_count": 82,
   "id": "afb1f231",
   "metadata": {
    "scrolled": false
   },
   "outputs": [
    {
     "name": "stdout",
     "output_type": "stream",
     "text": [
      "0 53 tensor(0.00257)\n",
      "1 6 tensor(0.01940)\n",
      "2 85 tensor(0.00240)\n",
      "3 82 tensor(0.00181)\n",
      "4 110 tensor(0.00321)\n",
      "5 59 tensor(0.00639)\n",
      "6 27 tensor(0.00605)\n",
      "7 9 tensor(0.00380)\n",
      "8 48 tensor(0.00452)\n",
      "9 55 tensor(0.00228)\n"
     ]
    }
   ],
   "source": [
    "for k in range(10):\n",
    "    nearest = list(idx.nearest(X[k], 2))\n",
    "    nn = nearest[1]\n",
    "    dist = torch.sqrt(torch.sum((X[nn]-X[k])**2))\n",
    "    print (k, nn, dist)"
   ]
  },
  {
   "cell_type": "code",
   "execution_count": 224,
   "id": "78304e69",
   "metadata": {},
   "outputs": [
    {
     "data": {
      "text/plain": [
       "tensor([  0,  63, 157,  61, 167, 188, 703, 142, 357,  23])"
      ]
     },
     "execution_count": 224,
     "metadata": {},
     "output_type": "execute_result"
    }
   ],
   "source": [
    "tensor(list(idx.nearest(X[0], 10)))"
   ]
  },
  {
   "cell_type": "code",
   "execution_count": 52,
   "id": "7f41a64b",
   "metadata": {
    "scrolled": true
   },
   "outputs": [
    {
     "data": {
      "text/plain": [
       "torch.Size([10500, 10500, 2])"
      ]
     },
     "execution_count": 52,
     "metadata": {},
     "output_type": "execute_result"
    }
   ],
   "source": [
    "(X[:,None,:]-X).shape"
   ]
  },
  {
   "cell_type": "markdown",
   "id": "c64ead0c",
   "metadata": {},
   "source": [
    "We can add all points to the index with a for loop:"
   ]
  },
  {
   "cell_type": "code",
   "execution_count": 38,
   "id": "76093583",
   "metadata": {},
   "outputs": [],
   "source": [
    "def build_idx(X):\n",
    "    idx = index.Index()\n",
    "    for i,coord in enumerate(X):\n",
    "        idx.add(i, (*coord, *coord))\n",
    "    return idx"
   ]
  },
  {
   "cell_type": "code",
   "execution_count": 544,
   "id": "1460de5a",
   "metadata": {},
   "outputs": [
    {
     "name": "stdout",
     "output_type": "stream",
     "text": [
      "822 ms ± 28 ms per loop (mean ± std. dev. of 7 runs, 10 loops each)\n"
     ]
    }
   ],
   "source": [
    "%timeit -n 10 build_idx(X)"
   ]
  },
  {
   "cell_type": "markdown",
   "id": "1a508d84",
   "metadata": {},
   "source": [
    "Or we can create a custom iterator to build the right data shape `(id, (minx, maxx, miny, maxy, minz, maxz, ..., ..., mink, maxk), object)` expected by the `index` object:"
   ]
  },
  {
   "cell_type": "code",
   "execution_count": 39,
   "id": "2913a66f",
   "metadata": {},
   "outputs": [],
   "source": [
    "class Idx_format():\n",
    "    def __init__(self, Xs):\n",
    "        self.Xs = Xs\n",
    "        self.step = 0\n",
    "        self.max_step = Xs.shape[0]\n",
    "        \n",
    "    def __iter__(self):\n",
    "        return self\n",
    "        \n",
    "    def __next__(self):\n",
    "        if self.step >= self.max_step:\n",
    "            raise StopIteration\n",
    "        self.dat = (self.step, (*self.Xs[self.step], *self.Xs[self.step]), None)\n",
    "        self.step += 1\n",
    "        return self.dat"
   ]
  },
  {
   "cell_type": "code",
   "execution_count": 55,
   "id": "b8fa5e1e",
   "metadata": {},
   "outputs": [
    {
     "data": {
      "text/plain": [
       "[(0,\n",
       "  (tensor(-63.21973), tensor(-2.42087), tensor(-63.21973), tensor(-2.42087)),\n",
       "  None),\n",
       " (1,\n",
       "  (tensor(-63.13456), tensor(-2.41613), tensor(-63.13456), tensor(-2.41613)),\n",
       "  None)]"
      ]
     },
     "execution_count": 55,
     "metadata": {},
     "output_type": "execute_result"
    }
   ],
   "source": [
    "X_it = iter(Idx_format(X))\n",
    "X_it_l = list(X_it)\n",
    "X_it_l[:2]"
   ]
  },
  {
   "cell_type": "code",
   "execution_count": 40,
   "id": "87ea28d7",
   "metadata": {},
   "outputs": [],
   "source": [
    "def build_idx(X):\n",
    "    idx = index.Index()\n",
    "    X_it = iter(Idx_format(X))\n",
    "    idx = index.Index(list(X_it))\n",
    "    return idx"
   ]
  },
  {
   "cell_type": "code",
   "execution_count": 547,
   "id": "86f90daa",
   "metadata": {},
   "outputs": [
    {
     "name": "stdout",
     "output_type": "stream",
     "text": [
      "195 ms ± 6.83 ms per loop (mean ± std. dev. of 7 runs, 10 loops each)\n"
     ]
    }
   ],
   "source": [
    "%timeit -n 10 build_idx(X)"
   ]
  },
  {
   "cell_type": "markdown",
   "id": "3cb50a39",
   "metadata": {},
   "source": [
    "We can build the nearest neighbors matrix `NN_matrix`:"
   ]
  },
  {
   "cell_type": "markdown",
   "id": "0c8e7acb",
   "metadata": {},
   "source": [
    "- with a loop:"
   ]
  },
  {
   "cell_type": "code",
   "execution_count": 41,
   "id": "ca027211",
   "metadata": {},
   "outputs": [],
   "source": [
    "def NN_matrix(X, idx, k):\n",
    "    X_nn = torch.zeros(X.shape[0], k, 2)\n",
    "    for i in range(X.shape[0]):\n",
    "        idxnn = list(idx.nearest(X[i], k))\n",
    "        X_nn[i] = X[idxnn][:k]\n",
    "    return X_nn"
   ]
  },
  {
   "cell_type": "code",
   "execution_count": 542,
   "id": "03b87588",
   "metadata": {
    "scrolled": false
   },
   "outputs": [
    {
     "name": "stdout",
     "output_type": "stream",
     "text": [
      "CPU times: user 2.85 s, sys: 99.6 ms, total: 2.95 s\n",
      "Wall time: 2.36 s\n"
     ]
    }
   ],
   "source": [
    "%time _ = NN_matrix(X, idx, 10) "
   ]
  },
  {
   "cell_type": "markdown",
   "id": "f0bbaa63",
   "metadata": {},
   "source": [
    "- with a list comprehension:"
   ]
  },
  {
   "cell_type": "code",
   "execution_count": 537,
   "id": "322aa4a0",
   "metadata": {
    "scrolled": true
   },
   "outputs": [
    {
     "name": "stdout",
     "output_type": "stream",
     "text": [
      "CPU times: user 2.39 s, sys: 0 ns, total: 2.39 s\n",
      "Wall time: 2.39 s\n"
     ]
    }
   ],
   "source": [
    "%time _ = torch.stack([X[list(idx.nearest(X[i], 10))][:10] for i in range(X.shape[0])])"
   ]
  },
  {
   "cell_type": "markdown",
   "id": "e9c08d5c",
   "metadata": {},
   "source": [
    "- with a custom iterator:"
   ]
  },
  {
   "cell_type": "code",
   "execution_count": 42,
   "id": "50063bd5",
   "metadata": {},
   "outputs": [],
   "source": [
    "class nn_iter():\n",
    "    def __init__(self, X, idx, k):\n",
    "        self.X, self.idx, self.k = X, idx, k\n",
    "        self.step = 0\n",
    "        self.max_step = X.shape[0]\n",
    "    def __iter__(self):\n",
    "        return self\n",
    "    def __next__(self):\n",
    "        if self.step >= self.max_step: raise StopIteration\n",
    "        idxnn = list(self.idx.nearest(self.X[self.step], self.k))\n",
    "        nns = self.X[idxnn][:self.k]\n",
    "        self.step += 1\n",
    "        return nns"
   ]
  },
  {
   "cell_type": "code",
   "execution_count": 43,
   "id": "7da77b50",
   "metadata": {},
   "outputs": [],
   "source": [
    "def NN_matrix_i(X, idx, k): return torch.stack(list(iter(nn_iter(X,idx,k))))"
   ]
  },
  {
   "cell_type": "code",
   "execution_count": 540,
   "id": "2be500a4",
   "metadata": {},
   "outputs": [
    {
     "name": "stdout",
     "output_type": "stream",
     "text": [
      "CPU times: user 2.49 s, sys: 0 ns, total: 2.49 s\n",
      "Wall time: 2.49 s\n"
     ]
    }
   ],
   "source": [
    "%time _ = NN_matrix_i(X,idx,10)"
   ]
  },
  {
   "cell_type": "markdown",
   "id": "45a02928",
   "metadata": {},
   "source": [
    "They are more or less similar, the simple loop seems slightly faster. The bottleneck is the `index.Index().nearest()` method."
   ]
  },
  {
   "cell_type": "code",
   "execution_count": 60,
   "id": "36507b27",
   "metadata": {},
   "outputs": [],
   "source": [
    "X_nn = NN_matrix(X, idx, 50) "
   ]
  },
  {
   "cell_type": "code",
   "execution_count": 61,
   "id": "50707ea8",
   "metadata": {
    "scrolled": false
   },
   "outputs": [
    {
     "data": {
      "text/plain": [
       "(torch.Size([10500, 50, 2]), torch.Size([10500, 2]))"
      ]
     },
     "execution_count": 61,
     "metadata": {},
     "output_type": "execute_result"
    }
   ],
   "source": [
    "X_nn.shape, X.shape"
   ]
  },
  {
   "cell_type": "code",
   "execution_count": 62,
   "id": "469897fd",
   "metadata": {},
   "outputs": [
    {
     "data": {
      "text/plain": [
       "tensor([[    0.00000,     0.00000],\n",
       "        [    0.00016,     0.00036],\n",
       "        [    0.00006,     0.00055],\n",
       "        [    0.00000,     0.00100],\n",
       "        [    0.00061,     0.00043]])"
      ]
     },
     "execution_count": 62,
     "metadata": {},
     "output_type": "execute_result"
    }
   ],
   "source": [
    "((X[:,None,:] - X_nn)[5]**2)[:5]"
   ]
  },
  {
   "cell_type": "code",
   "execution_count": 63,
   "id": "cc14de3f",
   "metadata": {},
   "outputs": [
    {
     "data": {
      "text/plain": [
       "torch.Size([10500, 50])"
      ]
     },
     "execution_count": 63,
     "metadata": {},
     "output_type": "execute_result"
    }
   ],
   "source": [
    "((X[:,None,:] - X_nn)**2).sum(2).shape"
   ]
  },
  {
   "cell_type": "markdown",
   "id": "5d3f6fed",
   "metadata": {},
   "source": [
    "Now we use the same weight calculation function:"
   ]
  },
  {
   "cell_type": "code",
   "execution_count": 44,
   "id": "e590fbb6",
   "metadata": {},
   "outputs": [],
   "source": [
    "def NN_weights(X, X_nn, distrib):\n",
    "    D = X[:,None,:] - X_nn\n",
    "    return distrib(torch.sqrt(torch.einsum('ijk,ijk->ij',D,D)))"
   ]
  },
  {
   "cell_type": "code",
   "execution_count": 550,
   "id": "a5d9bdd1",
   "metadata": {},
   "outputs": [
    {
     "name": "stdout",
     "output_type": "stream",
     "text": [
      "3.73 ms ± 2.12 ms per loop (mean ± std. dev. of 7 runs, 10 loops each)\n"
     ]
    }
   ],
   "source": [
    "%timeit -n 10 NN_weights(X, X_nn, gaussian)"
   ]
  },
  {
   "cell_type": "code",
   "execution_count": 65,
   "id": "d82c7e08",
   "metadata": {},
   "outputs": [
    {
     "data": {
      "text/plain": [
       "(torch.Size([10500, 50]), torch.Size([16484]))"
      ]
     },
     "execution_count": 65,
     "metadata": {},
     "output_type": "execute_result"
    }
   ],
   "source": [
    "w_nn = NN_weights(X, X_nn, gaussian)\n",
    "w_nn.shape, w_nn.unique().shape"
   ]
  },
  {
   "cell_type": "code",
   "execution_count": 66,
   "id": "21b664bc",
   "metadata": {},
   "outputs": [
    {
     "data": {
      "text/plain": [
       "torch.Size([10500, 50, 2])"
      ]
     },
     "execution_count": 66,
     "metadata": {},
     "output_type": "execute_result"
    }
   ],
   "source": [
    "X_nn.shape"
   ]
  },
  {
   "cell_type": "code",
   "execution_count": 67,
   "id": "5ecc542f",
   "metadata": {},
   "outputs": [
    {
     "data": {
      "text/plain": [
       "(torch.Size([10500, 2]), torch.Size([10500]))"
      ]
     },
     "execution_count": 67,
     "metadata": {},
     "output_type": "execute_result"
    }
   ],
   "source": [
    "(X_nn*w_nn[...,None]).sum(1).shape, w_nn.sum(1).shape"
   ]
  },
  {
   "cell_type": "code",
   "execution_count": 68,
   "id": "4f0f958f",
   "metadata": {},
   "outputs": [
    {
     "data": {
      "text/plain": [
       "tensor([[-63.21939,  -2.42252],\n",
       "        [-63.13619,  -2.41427],\n",
       "        [-63.08471,  -2.42567],\n",
       "        ...,\n",
       "        [-41.16182,  -6.74337],\n",
       "        [-40.90976,  -6.57574],\n",
       "        [-41.00322,  -6.58272]])"
      ]
     },
     "execution_count": 68,
     "metadata": {},
     "output_type": "execute_result"
    }
   ],
   "source": [
    "(X_nn*w_nn[...,None]).sum(1)/w_nn.sum(1)[:,None]"
   ]
  },
  {
   "cell_type": "markdown",
   "id": "1442a234",
   "metadata": {},
   "source": [
    "Finally the update function:"
   ]
  },
  {
   "cell_type": "code",
   "execution_count": 45,
   "id": "c66f1d4b",
   "metadata": {},
   "outputs": [],
   "source": [
    "def update_X_nn(X_nn,W_nn): return torch.einsum('ijk,ijk->ik', X_nn, W_nn[...,None])/torch.einsum('ij->i',W_nn)[:,None] "
   ]
  },
  {
   "cell_type": "code",
   "execution_count": 70,
   "id": "a099dfbf",
   "metadata": {},
   "outputs": [
    {
     "data": {
      "text/plain": [
       "(torch.Size([10500, 2]),\n",
       " tensor([[-63.21939,  -2.42252],\n",
       "         [-63.13620,  -2.41427],\n",
       "         [-63.08472,  -2.42567],\n",
       "         ...,\n",
       "         [-41.16182,  -6.74337],\n",
       "         [-40.90976,  -6.57574],\n",
       "         [-41.00322,  -6.58272]]))"
      ]
     },
     "execution_count": 70,
     "metadata": {},
     "output_type": "execute_result"
    }
   ],
   "source": [
    "n_x = update_X_nn(X_nn, w_nn) \n",
    "n_x.shape, n_x"
   ]
  },
  {
   "cell_type": "code",
   "execution_count": 136,
   "id": "6a235f06",
   "metadata": {
    "scrolled": true
   },
   "outputs": [
    {
     "name": "stdout",
     "output_type": "stream",
     "text": [
      "The slowest run took 110.95 times longer than the fastest. This could mean that an intermediate result is being cached.\n",
      "103 µs ± 105 µs per loop (mean ± std. dev. of 7 runs, 2 loops each)\n"
     ]
    }
   ],
   "source": [
    "%%timeit -n 2\n",
    "X = data.clone()"
   ]
  },
  {
   "cell_type": "code",
   "execution_count": 558,
   "id": "9c5ae35f",
   "metadata": {},
   "outputs": [
    {
     "name": "stdout",
     "output_type": "stream",
     "text": [
      "189 ms ± 2.46 ms per loop (mean ± std. dev. of 7 runs, 2 loops each)\n"
     ]
    }
   ],
   "source": [
    "%%timeit -n 2\n",
    "_ = build_idx(X)"
   ]
  },
  {
   "cell_type": "code",
   "execution_count": 559,
   "id": "1f1c3cfd",
   "metadata": {},
   "outputs": [
    {
     "name": "stdout",
     "output_type": "stream",
     "text": [
      "3.41 s ± 88.3 ms per loop (mean ± std. dev. of 7 runs, 2 loops each)\n"
     ]
    }
   ],
   "source": [
    "%%timeit -n 2\n",
    "_ = NN_matrix(X,idx,50)"
   ]
  },
  {
   "cell_type": "code",
   "execution_count": 560,
   "id": "364c87a5",
   "metadata": {},
   "outputs": [
    {
     "name": "stdout",
     "output_type": "stream",
     "text": [
      "5.45 ms ± 3.14 ms per loop (mean ± std. dev. of 7 runs, 2 loops each)\n"
     ]
    }
   ],
   "source": [
    "%%timeit -n 2\n",
    "_ = NN_weights(X, X_nn, gaussian)"
   ]
  },
  {
   "cell_type": "code",
   "execution_count": 561,
   "id": "cf64519a",
   "metadata": {},
   "outputs": [
    {
     "name": "stdout",
     "output_type": "stream",
     "text": [
      "The slowest run took 7.47 times longer than the fastest. This could mean that an intermediate result is being cached.\n",
      "1.5 ms ± 1.46 ms per loop (mean ± std. dev. of 7 runs, 2 loops each)\n"
     ]
    }
   ],
   "source": [
    "%%timeit -n 2\n",
    "_ = update_X_nn(X_nn, nn_w)"
   ]
  },
  {
   "cell_type": "code",
   "execution_count": 137,
   "id": "59c97024",
   "metadata": {},
   "outputs": [],
   "source": [
    "X = data.clone()\n",
    "X = X[torch.randperm(X.shape[0])]"
   ]
  },
  {
   "cell_type": "markdown",
   "id": "8ef9b371",
   "metadata": {},
   "source": [
    "The bottleneck is the nearest neightbors matrix `NN_matrix()` calculation. The complete time for a 50 nn calculation is about 3.7s (and 100 nn about 4.57s) to be compared to 1.4s:"
   ]
  },
  {
   "cell_type": "code",
   "execution_count": 138,
   "id": "dabd12a1",
   "metadata": {
    "collapsed": true
   },
   "outputs": [
    {
     "ename": "NameError",
     "evalue": "name 'build_idx' is not defined",
     "output_type": "error",
     "traceback": [
      "\u001b[0;31m---------------------------------------------------------------------------\u001b[0m",
      "\u001b[0;31mNameError\u001b[0m                                 Traceback (most recent call last)",
      "Cell \u001b[0;32mIn[138], line 1\u001b[0m\n\u001b[0;32m----> 1\u001b[0m \u001b[43mget_ipython\u001b[49m\u001b[43m(\u001b[49m\u001b[43m)\u001b[49m\u001b[38;5;241;43m.\u001b[39;49m\u001b[43mrun_cell_magic\u001b[49m\u001b[43m(\u001b[49m\u001b[38;5;124;43m'\u001b[39;49m\u001b[38;5;124;43mtimeit\u001b[39;49m\u001b[38;5;124;43m'\u001b[39;49m\u001b[43m,\u001b[49m\u001b[43m \u001b[49m\u001b[38;5;124;43m'\u001b[39;49m\u001b[38;5;124;43m-n 2\u001b[39;49m\u001b[38;5;124;43m'\u001b[39;49m\u001b[43m,\u001b[49m\u001b[43m \u001b[49m\u001b[38;5;124;43m'\u001b[39;49m\u001b[38;5;124;43mX = data.clone()\u001b[39;49m\u001b[38;5;130;43;01m\\n\u001b[39;49;00m\u001b[38;5;124;43midx = build_idx(X)\u001b[39;49m\u001b[38;5;130;43;01m\\n\u001b[39;49;00m\u001b[38;5;124;43mX_nn = NN_matrix(X,idx,100)\u001b[39;49m\u001b[38;5;130;43;01m\\n\u001b[39;49;00m\u001b[38;5;124;43mnn_w = NN_weights(X, X_nn, gaussian)\u001b[39;49m\u001b[38;5;130;43;01m\\n\u001b[39;49;00m\u001b[38;5;124;43mX = update_X_nn(X_nn, nn_w)\u001b[39;49m\u001b[38;5;130;43;01m\\n\u001b[39;49;00m\u001b[38;5;124;43m'\u001b[39;49m\u001b[43m)\u001b[49m\n",
      "File \u001b[0;32m~/mambaforge/lib/python3.10/site-packages/IPython/core/interactiveshell.py:2422\u001b[0m, in \u001b[0;36mInteractiveShell.run_cell_magic\u001b[0;34m(self, magic_name, line, cell)\u001b[0m\n\u001b[1;32m   2420\u001b[0m \u001b[38;5;28;01mwith\u001b[39;00m \u001b[38;5;28mself\u001b[39m\u001b[38;5;241m.\u001b[39mbuiltin_trap:\n\u001b[1;32m   2421\u001b[0m     args \u001b[38;5;241m=\u001b[39m (magic_arg_s, cell)\n\u001b[0;32m-> 2422\u001b[0m     result \u001b[38;5;241m=\u001b[39m \u001b[43mfn\u001b[49m\u001b[43m(\u001b[49m\u001b[38;5;241;43m*\u001b[39;49m\u001b[43margs\u001b[49m\u001b[43m,\u001b[49m\u001b[43m \u001b[49m\u001b[38;5;241;43m*\u001b[39;49m\u001b[38;5;241;43m*\u001b[39;49m\u001b[43mkwargs\u001b[49m\u001b[43m)\u001b[49m\n\u001b[1;32m   2423\u001b[0m \u001b[38;5;28;01mreturn\u001b[39;00m result\n",
      "File \u001b[0;32m~/mambaforge/lib/python3.10/site-packages/IPython/core/magics/execution.py:1166\u001b[0m, in \u001b[0;36mExecutionMagics.timeit\u001b[0;34m(self, line, cell, local_ns)\u001b[0m\n\u001b[1;32m   1163\u001b[0m         \u001b[38;5;28;01mif\u001b[39;00m time_number \u001b[38;5;241m>\u001b[39m\u001b[38;5;241m=\u001b[39m \u001b[38;5;241m0.2\u001b[39m:\n\u001b[1;32m   1164\u001b[0m             \u001b[38;5;28;01mbreak\u001b[39;00m\n\u001b[0;32m-> 1166\u001b[0m all_runs \u001b[38;5;241m=\u001b[39m \u001b[43mtimer\u001b[49m\u001b[38;5;241;43m.\u001b[39;49m\u001b[43mrepeat\u001b[49m\u001b[43m(\u001b[49m\u001b[43mrepeat\u001b[49m\u001b[43m,\u001b[49m\u001b[43m \u001b[49m\u001b[43mnumber\u001b[49m\u001b[43m)\u001b[49m\n\u001b[1;32m   1167\u001b[0m best \u001b[38;5;241m=\u001b[39m \u001b[38;5;28mmin\u001b[39m(all_runs) \u001b[38;5;241m/\u001b[39m number\n\u001b[1;32m   1168\u001b[0m worst \u001b[38;5;241m=\u001b[39m \u001b[38;5;28mmax\u001b[39m(all_runs) \u001b[38;5;241m/\u001b[39m number\n",
      "File \u001b[0;32m~/mambaforge/lib/python3.10/timeit.py:206\u001b[0m, in \u001b[0;36mTimer.repeat\u001b[0;34m(self, repeat, number)\u001b[0m\n\u001b[1;32m    204\u001b[0m r \u001b[38;5;241m=\u001b[39m []\n\u001b[1;32m    205\u001b[0m \u001b[38;5;28;01mfor\u001b[39;00m i \u001b[38;5;129;01min\u001b[39;00m \u001b[38;5;28mrange\u001b[39m(repeat):\n\u001b[0;32m--> 206\u001b[0m     t \u001b[38;5;241m=\u001b[39m \u001b[38;5;28;43mself\u001b[39;49m\u001b[38;5;241;43m.\u001b[39;49m\u001b[43mtimeit\u001b[49m\u001b[43m(\u001b[49m\u001b[43mnumber\u001b[49m\u001b[43m)\u001b[49m\n\u001b[1;32m    207\u001b[0m     r\u001b[38;5;241m.\u001b[39mappend(t)\n\u001b[1;32m    208\u001b[0m \u001b[38;5;28;01mreturn\u001b[39;00m r\n",
      "File \u001b[0;32m~/mambaforge/lib/python3.10/site-packages/IPython/core/magics/execution.py:156\u001b[0m, in \u001b[0;36mTimer.timeit\u001b[0;34m(self, number)\u001b[0m\n\u001b[1;32m    154\u001b[0m gc\u001b[38;5;241m.\u001b[39mdisable()\n\u001b[1;32m    155\u001b[0m \u001b[38;5;28;01mtry\u001b[39;00m:\n\u001b[0;32m--> 156\u001b[0m     timing \u001b[38;5;241m=\u001b[39m \u001b[38;5;28;43mself\u001b[39;49m\u001b[38;5;241;43m.\u001b[39;49m\u001b[43minner\u001b[49m\u001b[43m(\u001b[49m\u001b[43mit\u001b[49m\u001b[43m,\u001b[49m\u001b[43m \u001b[49m\u001b[38;5;28;43mself\u001b[39;49m\u001b[38;5;241;43m.\u001b[39;49m\u001b[43mtimer\u001b[49m\u001b[43m)\u001b[49m\n\u001b[1;32m    157\u001b[0m \u001b[38;5;28;01mfinally\u001b[39;00m:\n\u001b[1;32m    158\u001b[0m     \u001b[38;5;28;01mif\u001b[39;00m gcold:\n",
      "File \u001b[0;32m<magic-timeit>:2\u001b[0m, in \u001b[0;36minner\u001b[0;34m(_it, _timer)\u001b[0m\n",
      "\u001b[0;31mNameError\u001b[0m: name 'build_idx' is not defined"
     ]
    }
   ],
   "source": [
    "%%timeit -n 2\n",
    "X = data.clone()\n",
    "idx = build_idx(X)\n",
    "X_nn = NN_matrix(X,idx,100)\n",
    "nn_w = NN_weights(X, X_nn, gaussian)\n",
    "X = update_X_nn(X_nn, nn_w)"
   ]
  },
  {
   "cell_type": "markdown",
   "id": "eeead701",
   "metadata": {},
   "source": [
    "That said, the distance and distribution steps can be removed and an average of the nearest neighbors could be used:"
   ]
  },
  {
   "cell_type": "code",
   "execution_count": 46,
   "id": "1f14571a",
   "metadata": {},
   "outputs": [],
   "source": [
    "def build_idx(X):\n",
    "    idx = index.Index()\n",
    "    X_it = iter(Idx_format(X))\n",
    "    idx = index.Index(list(X_it))\n",
    "    return idx"
   ]
  },
  {
   "cell_type": "code",
   "execution_count": 47,
   "id": "1523654b",
   "metadata": {},
   "outputs": [],
   "source": [
    "def NN_matrix(X, idx, k):\n",
    "    X_nn = torch.zeros(X.shape[0], k, 2)\n",
    "    for i in range(X.shape[0]):\n",
    "        idxnn = list(idx.nearest(X[i], k))\n",
    "        X_nn[i] = X[idxnn][:k]\n",
    "    return X_nn"
   ]
  },
  {
   "cell_type": "code",
   "execution_count": 48,
   "id": "44af57e3",
   "metadata": {},
   "outputs": [],
   "source": [
    "def update_X_nn_avg(X_nn): return torch.einsum('ijk->ik', X_nn)/X_nn.shape[1] "
   ]
  },
  {
   "cell_type": "code",
   "execution_count": 571,
   "id": "88057e16",
   "metadata": {},
   "outputs": [
    {
     "name": "stdout",
     "output_type": "stream",
     "text": [
      "4.68 s ± 205 ms per loop (mean ± std. dev. of 7 runs, 2 loops each)\n"
     ]
    }
   ],
   "source": [
    "%%timeit -n 2\n",
    "X = data.clone()\n",
    "idx = build_idx(X)\n",
    "X_nn = NN_matrix(X,idx,100)\n",
    "X = update_X_nn_avg(X_nn)"
   ]
  },
  {
   "cell_type": "code",
   "execution_count": 49,
   "id": "2f0ffbf0",
   "metadata": {},
   "outputs": [],
   "source": [
    "def meanshift_nn(data, func, k):\n",
    "    X = data.clone()\n",
    "    idx = build_idx(X)\n",
    "    for i in range(3):\n",
    "        X_nn = NN_matrix(X,idx,k)\n",
    "        w_nn = NN_weights(X, X_nn, gaussian)\n",
    "        X = update_X_nn(X_nn, w_nn)\n",
    "    return X"
   ]
  },
  {
   "cell_type": "code",
   "execution_count": 387,
   "id": "e3151e6c",
   "metadata": {},
   "outputs": [
    {
     "name": "stdout",
     "output_type": "stream",
     "text": [
      "CPU times: user 27.3 s, sys: 313 ms, total: 27.6 s\n",
      "Wall time: 25.4 s\n"
     ]
    }
   ],
   "source": [
    "%time meanshift_nn(data, gaussian, 500)"
   ]
  },
  {
   "cell_type": "code",
   "execution_count": 76,
   "id": "f5a5f219",
   "metadata": {},
   "outputs": [],
   "source": [
    "X = meanshift_nn(data, gaussian, 500)"
   ]
  },
  {
   "cell_type": "code",
   "execution_count": 77,
   "id": "40c90f97",
   "metadata": {},
   "outputs": [
    {
     "data": {
      "image/png": "[encoded data removed]",
      "text/plain": [
       "<Figure size 400x300 with 1 Axes>"
      ]
     },
     "metadata": {},
     "output_type": "display_data"
    }
   ],
   "source": [
    "plot_data(centroids+2, X, n_samples)"
   ]
  },
  {
   "cell_type": "code",
   "execution_count": 78,
   "id": "74261f87",
   "metadata": {},
   "outputs": [
    {
     "data": {
      "text/plain": [
       "tensor([[-62.74137,  -2.96883],\n",
       "        [-62.44592,  -2.95599],\n",
       "        [-62.40714,  -1.49201]])"
      ]
     },
     "execution_count": 78,
     "metadata": {},
     "output_type": "execute_result"
    }
   ],
   "source": [
    "X[[1,2,5]]"
   ]
  },
  {
   "cell_type": "code",
   "execution_count": null,
   "id": "7b9ca4e6",
   "metadata": {},
   "outputs": [],
   "source": [
    "def select_pts"
   ]
  },
  {
   "cell_type": "code",
   "execution_count": 50,
   "id": "1e76ea2d",
   "metadata": {},
   "outputs": [],
   "source": [
    "def calculate_weights(X, distrib):\n",
    "    D = X[:,None,:] - X\n",
    "    return distrib(torch.sqrt(torch.einsum('ijk,ijk->ij',D,D)))"
   ]
  },
  {
   "cell_type": "code",
   "execution_count": 51,
   "id": "2374a101",
   "metadata": {},
   "outputs": [],
   "source": [
    "def update_X(X, W): return torch.einsum('jk,ijk->ik', X, W[...,None])/torch.einsum('ij->j',W)[:,None] "
   ]
  },
  {
   "cell_type": "code",
   "execution_count": 52,
   "id": "f86774da",
   "metadata": {},
   "outputs": [],
   "source": [
    "def meanshift(data, func):\n",
    "    X = data.clone()\n",
    "    for i in range(3):\n",
    "        weights = calculate_weights(X, func)\n",
    "        X = update_X(weights, X)\n",
    "    return X"
   ]
  },
  {
   "cell_type": "markdown",
   "id": "f1cd9abd",
   "metadata": {},
   "source": [
    "#### Locality-Sensitive Hashing"
   ]
  },
  {
   "cell_type": "code",
   "execution_count": 43,
   "id": "871c4713",
   "metadata": {},
   "outputs": [
    {
     "data": {
      "text/plain": [
       "(torch.Size([5, 2]),\n",
       " tensor([[ 71.71429,  72.26480],\n",
       "         [-48.45341, -33.85703],\n",
       "         [ 46.88916, -75.48917],\n",
       "         [-75.72447, -67.15977],\n",
       "         [ 84.09106,  31.25935]]))"
      ]
     },
     "execution_count": 43,
     "metadata": {},
     "output_type": "execute_result"
    }
   ],
   "source": [
    "n_cent = 5\n",
    "n_p = 300\n",
    "cent = torch.rand(n_cent, 2)*180-90\n",
    "cent.shape, cent"
   ]
  },
  {
   "cell_type": "code",
   "execution_count": 44,
   "id": "fba140e9",
   "metadata": {},
   "outputs": [],
   "source": [
    "def generate_points(c, n_pts, var): return MultivariateNormal(c, torch.diag(tensor([var,var]))).sample((n_pts,))"
   ]
  },
  {
   "cell_type": "code",
   "execution_count": 45,
   "id": "ad9d879a",
   "metadata": {},
   "outputs": [],
   "source": [
    "dat_l = [generate_points(c,n_p,50.) for c in cent]\n",
    "dat = torch.cat(dat_l)"
   ]
  },
  {
   "cell_type": "code",
   "execution_count": 46,
   "id": "b3ff46d8",
   "metadata": {},
   "outputs": [
    {
     "data": {
      "image/png": "[encoded data removed]",
      "text/plain": [
       "<Figure size 400x300 with 1 Axes>"
      ]
     },
     "metadata": {},
     "output_type": "display_data"
    }
   ],
   "source": [
    "plot_data(cent,dat,n_p)"
   ]
  },
  {
   "cell_type": "code",
   "execution_count": 51,
   "id": "543fd698",
   "metadata": {},
   "outputs": [],
   "source": [
    "class Data_hash():\n",
    "    def __init__(self, data, dim, n_hash, scale_factor=1): \n",
    "        self.data, self.d, self.n_h, self.s = (data, dim, n_hash, scale_factor)\n",
    "        h_t = 2*torch.pi*torch.rand(n_hash)\n",
    "        self.h_mat = torch.stack([torch.cos(h_t), -torch.sin(h_t)])\n",
    "        self.h_b = torch.rand(n_hash)\n",
    "        self.hashed = self._hash(data)\n",
    "        \n",
    "    def _hash(self, X): return torch.floor(X @ self.h_mat * self.s + self.h_b)\n",
    "    \n",
    "    def find_nns(self, x, n_matches): \n",
    "        v_collide = (self._hash(x) == self.hashed).sum(1)\n",
    "        nns = torch.where(v_collide > n_matches)[0]\n",
    "        return v_collide, nns \n",
    "    \n",
    "    def plot_hd(self):\n",
    "        fig, ax = plt.subplots(figsize=(3,3))\n",
    "        xs = torch.linspace(-1.5,1.5,10)\n",
    "        ax.scatter(*self.h_mat, s=1)\n",
    "        for a in self.h_mat[1]/self.h_mat[0]: \n",
    "            ax.plot(xs, a*xs, linewidth=1, alpha=0.5, color='C7')\n",
    "        ax.set_xlim(-1.2, 1.2)\n",
    "        ax.set_ylim(-1.2, 1.2);"
   ]
  },
  {
   "cell_type": "code",
   "execution_count": 52,
   "id": "18ab86ad",
   "metadata": {},
   "outputs": [],
   "source": [
    "# X = data.clone()\n",
    "X = dat.clone()\n",
    "X = X[torch.randperm(X.shape[0])]"
   ]
  },
  {
   "cell_type": "code",
   "execution_count": 53,
   "id": "86e7df2f",
   "metadata": {},
   "outputs": [],
   "source": [
    "X_hash = Data_hash(X,X.shape[1],11)"
   ]
  },
  {
   "cell_type": "code",
   "execution_count": 54,
   "id": "4357b884",
   "metadata": {},
   "outputs": [],
   "source": [
    "def hash_X(X, n_h, sf=1): return Data_hash(X, X.shape[1], n_h, scale_factor=sf).hashed"
   ]
  },
  {
   "cell_type": "code",
   "execution_count": 55,
   "id": "c6a37a2c",
   "metadata": {},
   "outputs": [
    {
     "name": "stdout",
     "output_type": "stream",
     "text": [
      "The slowest run took 4.74 times longer than the fastest. This could mean that an intermediate result is being cached.\n",
      "149 µs ± 117 µs per loop (mean ± std. dev. of 7 runs, 5 loops each)\n"
     ]
    }
   ],
   "source": [
    "%timeit -n 5 _ = hash_X(X, 11)"
   ]
  },
  {
   "cell_type": "markdown",
   "id": "79440d71",
   "metadata": {},
   "source": [
    "Getting the nearest neighbors with torch.where or any other boolean tensor operation is slow because the number of hash values is `n_hash` is quite large.\n",
    "We for \n",
    "We could think of ways to perform"
   ]
  },
  {
   "cell_type": "code",
   "execution_count": 220,
   "id": "5f9c6e6d",
   "metadata": {
    "scrolled": true
   },
   "outputs": [
    {
     "name": "stdout",
     "output_type": "stream",
     "text": [
      "The slowest run took 6.90 times longer than the fastest. This could mean that an intermediate result is being cached.\n",
      "56.9 µs ± 61.8 µs per loop (mean ± std. dev. of 7 runs, 10 loops each)\n"
     ]
    }
   ],
   "source": [
    "%timeit -n 10 tri(X,0.1)"
   ]
  },
  {
   "cell_type": "code",
   "execution_count": 67,
   "id": "79d759b9",
   "metadata": {},
   "outputs": [
    {
     "name": "stdout",
     "output_type": "stream",
     "text": [
      "118 µs ± 70 µs per loop (mean ± std. dev. of 7 runs, 10 loops each)\n"
     ]
    }
   ],
   "source": [
    "%timeit -n 10 gaussian(X,0.1)"
   ]
  },
  {
   "cell_type": "code",
   "execution_count": 68,
   "id": "6f347fe9",
   "metadata": {},
   "outputs": [
    {
     "name": "stdout",
     "output_type": "stream",
     "text": [
      "The slowest run took 12.07 times longer than the fastest. This could mean that an intermediate result is being cached.\n",
      "45.1 µs ± 64.5 µs per loop (mean ± std. dev. of 7 runs, 10 loops each)\n"
     ]
    }
   ],
   "source": [
    "%timeit -n 10 exp_n(X, 10)"
   ]
  },
  {
   "cell_type": "code",
   "execution_count": 56,
   "id": "be3222d3",
   "metadata": {
    "scrolled": true
   },
   "outputs": [
    {
     "data": {
      "text/plain": [
       "(torch.Size([1500, 1, 11]), torch.Size([1500, 11]))"
      ]
     },
     "execution_count": 56,
     "metadata": {},
     "output_type": "execute_result"
    }
   ],
   "source": [
    "X_hash.hashed[:,None,:].shape, X_hash.hashed.shape"
   ]
  },
  {
   "cell_type": "code",
   "execution_count": 36,
   "id": "3e4bb3b4",
   "metadata": {},
   "outputs": [
    {
     "name": "stdout",
     "output_type": "stream",
     "text": [
      "234 ms ± 9.87 ms per loop (mean ± std. dev. of 7 runs, 10 loops each)\n"
     ]
    }
   ],
   "source": [
    "%timeit -n 10 tri((X_hash.hashed[:,None,:] - X_hash.hashed), 0.1)"
   ]
  },
  {
   "cell_type": "code",
   "execution_count": 38,
   "id": "ac9ce3f8",
   "metadata": {},
   "outputs": [
    {
     "name": "stdout",
     "output_type": "stream",
     "text": [
      "The slowest run took 21.12 times longer than the fastest. This could mean that an intermediate result is being cached.\n",
      "38 µs ± 68.3 µs per loop (mean ± std. dev. of 7 runs, 10 loops each)\n"
     ]
    }
   ],
   "source": [
    "%timeit -n 10 (-1)*X_hash.hashed"
   ]
  },
  {
   "cell_type": "code",
   "execution_count": 57,
   "id": "2a433b03",
   "metadata": {},
   "outputs": [
    {
     "data": {
      "text/plain": [
       "torch.Size([1500, 2])"
      ]
     },
     "execution_count": 57,
     "metadata": {},
     "output_type": "execute_result"
    }
   ],
   "source": [
    "X.shape"
   ]
  },
  {
   "cell_type": "code",
   "execution_count": 411,
   "id": "62bdcfa6",
   "metadata": {
    "scrolled": true
   },
   "outputs": [
    {
     "name": "stdout",
     "output_type": "stream",
     "text": [
      "22.5 ms ± 1.64 ms per loop (mean ± std. dev. of 7 runs, 10 loops each)\n"
     ]
    }
   ],
   "source": [
    "%timeit -n 10 (X_hash.hashed[:,None,:] == X_hash.hashed[None,...])"
   ]
  },
  {
   "cell_type": "code",
   "execution_count": 58,
   "id": "a40a6478",
   "metadata": {
    "scrolled": false
   },
   "outputs": [],
   "source": [
    "nns_bool = (X_hash.hashed[:,None,:] == X_hash.hashed[None,...])"
   ]
  },
  {
   "cell_type": "code",
   "execution_count": 59,
   "id": "72732eea",
   "metadata": {},
   "outputs": [
    {
     "data": {
      "text/plain": [
       "torch.Size([1500, 1500, 11])"
      ]
     },
     "execution_count": 59,
     "metadata": {},
     "output_type": "execute_result"
    }
   ],
   "source": [
    "nns_bool.shape"
   ]
  },
  {
   "cell_type": "code",
   "execution_count": 60,
   "id": "d9f6f44b",
   "metadata": {},
   "outputs": [],
   "source": [
    "n_match = 6"
   ]
  },
  {
   "cell_type": "code",
   "execution_count": 61,
   "id": "7e1b1960",
   "metadata": {},
   "outputs": [],
   "source": [
    "nns_mat = torch.where(nns_bool.sum(2)>=n_match, 1,0)"
   ]
  },
  {
   "cell_type": "code",
   "execution_count": 62,
   "id": "fcec7e6d",
   "metadata": {},
   "outputs": [],
   "source": [
    "def nns_LSH(X_h, n_match):\n",
    "    nns_bool = (X_h[:,None,:] == X_h[None,...])\n",
    "    return torch.where(nns_bool.sum(2)>=n_match, 1,0)"
   ]
  },
  {
   "cell_type": "code",
   "execution_count": 63,
   "id": "ba80ef83",
   "metadata": {},
   "outputs": [
    {
     "name": "stdout",
     "output_type": "stream",
     "text": [
      "40.4 ms ± 4.43 ms per loop (mean ± std. dev. of 7 runs, 5 loops each)\n"
     ]
    }
   ],
   "source": [
    "%timeit -n 5 _ = nns_LSH(X_hash.hashed, n_match)"
   ]
  },
  {
   "cell_type": "code",
   "execution_count": 64,
   "id": "49008191",
   "metadata": {},
   "outputs": [
    {
     "data": {
      "text/plain": [
       "tensor([11,  0,  0,  0,  1,  0,  0,  0,  0,  0,  0,  0,  0,  0,  0,  0,  2,  0,  0,  0,  0,  0,  0,  0,  0,  0,  0,  0,  1,  0,  0,  0,  0,\n",
       "         1,  0,  1,  0,  0,  2,  0,  0,  2,  0,  0,  0,  0,  0,  0,  0,  0])"
      ]
     },
     "execution_count": 64,
     "metadata": {},
     "output_type": "execute_result"
    }
   ],
   "source": [
    "nns_bool.sum(2)[0,:50]"
   ]
  },
  {
   "cell_type": "code",
   "execution_count": 65,
   "id": "9a62c93d",
   "metadata": {
    "scrolled": false
   },
   "outputs": [
    {
     "name": "stdout",
     "output_type": "stream",
     "text": [
      "34.6 ms ± 5.91 ms per loop (mean ± std. dev. of 7 runs, 2 loops each)\n"
     ]
    }
   ],
   "source": [
    "%timeit -n 2 (nns_bool.sum(2)>=n_match).long()"
   ]
  },
  {
   "cell_type": "code",
   "execution_count": 66,
   "id": "dc1de099",
   "metadata": {},
   "outputs": [
    {
     "name": "stdout",
     "output_type": "stream",
     "text": [
      "31.9 ms ± 5.97 ms per loop (mean ± std. dev. of 7 runs, 2 loops each)\n"
     ]
    }
   ],
   "source": [
    "%timeit -n 2 nns_bool.sum(2)"
   ]
  },
  {
   "cell_type": "code",
   "execution_count": 67,
   "id": "3746af34",
   "metadata": {
    "scrolled": true
   },
   "outputs": [
    {
     "name": "stdout",
     "output_type": "stream",
     "text": [
      "33 ms ± 2.83 ms per loop (mean ± std. dev. of 7 runs, 2 loops each)\n"
     ]
    }
   ],
   "source": [
    "%timeit -n 2 torch.where(nns_bool.sum(2)>=n_match, 1,0)"
   ]
  },
  {
   "cell_type": "markdown",
   "id": "be7ece02",
   "metadata": {},
   "source": [
    "We can use the `nns_mat` binary matrix to select the neighbors coordinates by multiplying `X` with it:"
   ]
  },
  {
   "cell_type": "code",
   "execution_count": 68,
   "id": "4e6fcb0f",
   "metadata": {},
   "outputs": [
    {
     "data": {
      "text/plain": [
       "(torch.Size([1500, 1500, 1]), torch.Size([1500, 2]))"
      ]
     },
     "execution_count": 68,
     "metadata": {},
     "output_type": "execute_result"
    }
   ],
   "source": [
    "nns_mat[...,None].shape, X.shape"
   ]
  },
  {
   "cell_type": "code",
   "execution_count": 69,
   "id": "5b9cc6c8",
   "metadata": {},
   "outputs": [
    {
     "data": {
      "text/plain": [
       "(torch.Size([1500, 1500, 2]), torch.Size([1500, 2]))"
      ]
     },
     "execution_count": 69,
     "metadata": {},
     "output_type": "execute_result"
    }
   ],
   "source": [
    "(nns_mat[...,None]*X).shape, (nns_mat[...,None]*X)[0].shape"
   ]
  },
  {
   "cell_type": "markdown",
   "id": "e34d3d93",
   "metadata": {},
   "source": [
    "Then perform the sum over the second dim of the resulting tensor and divide by the number of non-zero `(x,y)` pairs:"
   ]
  },
  {
   "cell_type": "code",
   "execution_count": 70,
   "id": "89cd296c",
   "metadata": {},
   "outputs": [
    {
     "data": {
      "text/plain": [
       "torch.Size([1500])"
      ]
     },
     "execution_count": 70,
     "metadata": {},
     "output_type": "execute_result"
    }
   ],
   "source": [
    "nns_mat.sum(1).shape"
   ]
  },
  {
   "cell_type": "code",
   "execution_count": 71,
   "id": "f9f3d748",
   "metadata": {
    "scrolled": true
   },
   "outputs": [
    {
     "name": "stdout",
     "output_type": "stream",
     "text": [
      "9.5 ms ± 5 ms per loop (mean ± std. dev. of 7 runs, 2 loops each)\n"
     ]
    }
   ],
   "source": [
    "%timeit -n 2 (nns_mat[...,None]*X).sum(1)/nns_mat.sum(1)[:,None]"
   ]
  },
  {
   "cell_type": "code",
   "execution_count": 72,
   "id": "8e76a64e",
   "metadata": {},
   "outputs": [
    {
     "name": "stdout",
     "output_type": "stream",
     "text": [
      "14.9 ms ± 7.21 ms per loop (mean ± std. dev. of 7 runs, 2 loops each)\n"
     ]
    }
   ],
   "source": [
    "%timeit -n 2 torch.einsum('ijk,jk->ik', nns_mat[...,None].float(), X)/nns_mat.sum(1)[:,None]"
   ]
  },
  {
   "cell_type": "code",
   "execution_count": 73,
   "id": "edfb7a04",
   "metadata": {},
   "outputs": [],
   "source": [
    "def update_X_LSH(nns_mat, X): return torch.einsum('ijk,jk->ik', nns_mat[...,None].float(), X)/nns_mat.sum(1)[:,None]"
   ]
  },
  {
   "cell_type": "code",
   "execution_count": 127,
   "id": "328e6ad1",
   "metadata": {},
   "outputs": [],
   "source": [
    "def meanshift_LSH(data, n_hash, n_match):\n",
    "    X = data.clone()\n",
    "    X_hash = hash_X(X, n_hash, sf=0.5)\n",
    "    nns_mat = nns_LSH(X_hash, n_match)\n",
    "    for i in range(15):\n",
    "        X = update_X_LSH(nns_mat, X)\n",
    "    return X"
   ]
  },
  {
   "cell_type": "code",
   "execution_count": 166,
   "id": "edf9893b",
   "metadata": {},
   "outputs": [
    {
     "name": "stdout",
     "output_type": "stream",
     "text": [
      "94.1 ms ± 13 ms per loop (mean ± std. dev. of 7 runs, 2 loops each)\n"
     ]
    }
   ],
   "source": [
    "%timeit -n 2 _ = meanshift_LSH(dat, 10, 1)"
   ]
  },
  {
   "cell_type": "code",
   "execution_count": 167,
   "id": "640c212f",
   "metadata": {},
   "outputs": [],
   "source": [
    "X = meanshift_LSH(dat, 10, 1)"
   ]
  },
  {
   "cell_type": "code",
   "execution_count": 168,
   "id": "c721250e",
   "metadata": {
    "scrolled": false
   },
   "outputs": [
    {
     "data": {
      "image/png": "[encoded data removed]",
      "text/plain": [
       "<Figure size 400x300 with 1 Axes>"
      ]
     },
     "metadata": {},
     "output_type": "display_data"
    }
   ],
   "source": [
    "plot_data(cent+4, X, n_samples)"
   ]
  },
  {
   "cell_type": "code",
   "execution_count": 162,
   "id": "7a453fda",
   "metadata": {},
   "outputs": [],
   "source": [
    "def meanshift(data, func):\n",
    "    X = data.clone()\n",
    "    for i in range(3):\n",
    "        weights = calculate_weights(X, func)\n",
    "        X = update_X(X, weights)\n",
    "    return X"
   ]
  },
  {
   "cell_type": "code",
   "execution_count": 163,
   "id": "46e25f55",
   "metadata": {},
   "outputs": [
    {
     "name": "stdout",
     "output_type": "stream",
     "text": [
      "65.8 ms ± 11.6 ms per loop (mean ± std. dev. of 7 runs, 2 loops each)\n"
     ]
    }
   ],
   "source": [
    "%timeit -n 2 _ = meanshift(dat, gaussian)"
   ]
  },
  {
   "cell_type": "code",
   "execution_count": 164,
   "id": "a18ea130",
   "metadata": {},
   "outputs": [],
   "source": [
    "X = meanshift(dat, partial(gaussian,sig=10))"
   ]
  },
  {
   "cell_type": "code",
   "execution_count": 165,
   "id": "15d33e53",
   "metadata": {
    "scrolled": false
   },
   "outputs": [
    {
     "data": {
      "image/png": "[encoded data removed]",
      "text/plain": [
       "<Figure size 400x300 with 1 Axes>"
      ]
     },
     "metadata": {},
     "output_type": "display_data"
    }
   ],
   "source": [
    "plot_data(cent+6, X, n_samples)"
   ]
  },
  {
   "cell_type": "code",
   "execution_count": 106,
   "id": "79e8d169",
   "metadata": {},
   "outputs": [],
   "source": [
    "X = meanshift_slow(dat)"
   ]
  },
  {
   "cell_type": "code",
   "execution_count": 107,
   "id": "0746edb4",
   "metadata": {
    "scrolled": false
   },
   "outputs": [
    {
     "data": {
      "image/png": "[encoded data removed]",
      "text/plain": [
       "<Figure size 400x300 with 1 Axes>"
      ]
     },
     "metadata": {},
     "output_type": "display_data"
    }
   ],
   "source": [
    "plot_data(cent+4, X, n_samples)"
   ]
  },
  {
   "cell_type": "markdown",
   "id": "be9d9d83",
   "metadata": {},
   "source": [
    "### *--- Quick drafting ---*"
   ]
  },
  {
   "cell_type": "code",
   "execution_count": null,
   "id": "4544dc17",
   "metadata": {},
   "outputs": [],
   "source": []
  },
  {
   "cell_type": "code",
   "execution_count": 327,
   "id": "0d6fff28",
   "metadata": {},
   "outputs": [],
   "source": [
    "A = torch.tensor([0, 1, 2])\n",
    "\n",
    "B = torch.tensor([[ 0,  1,  2,  3],\n",
    "                  [ 4,  5,  6,  7],\n",
    "                  [ 8,  9, 10, 11]])"
   ]
  },
  {
   "cell_type": "code",
   "execution_count": 328,
   "id": "d5cb6b02",
   "metadata": {},
   "outputs": [
    {
     "data": {
      "text/plain": [
       "(torch.Size([3]), torch.Size([3, 1]), torch.Size([3, 4]))"
      ]
     },
     "execution_count": 328,
     "metadata": {},
     "output_type": "execute_result"
    }
   ],
   "source": [
    "A.shape, A[:,None].shape, B.shape"
   ]
  },
  {
   "cell_type": "code",
   "execution_count": 329,
   "id": "030b64fe",
   "metadata": {},
   "outputs": [
    {
     "data": {
      "text/plain": [
       "(tensor([[ 0,  0,  0,  0],\n",
       "         [ 4,  5,  6,  7],\n",
       "         [16, 18, 20, 22]]),\n",
       " tensor([[ 0,  0,  0,  0],\n",
       "         [ 4,  5,  6,  7],\n",
       "         [16, 18, 20, 22]]))"
      ]
     },
     "execution_count": 329,
     "metadata": {},
     "output_type": "execute_result"
    }
   ],
   "source": [
    "A[:,None]*B, B*A[:,None]"
   ]
  },
  {
   "cell_type": "code",
   "execution_count": 265,
   "id": "b21d7efd",
   "metadata": {
    "scrolled": false
   },
   "outputs": [
    {
     "data": {
      "text/plain": [
       "(tensor([20, 23, 26, 29]), tensor([ 0, 22, 76]))"
      ]
     },
     "execution_count": 265,
     "metadata": {},
     "output_type": "execute_result"
    }
   ],
   "source": [
    "(A[:,None]*B).sum(0), (A[:,None]*B).sum(1)"
   ]
  },
  {
   "cell_type": "code",
   "execution_count": 270,
   "id": "043299a7",
   "metadata": {
    "scrolled": true
   },
   "outputs": [
    {
     "data": {
      "text/plain": [
       "(tensor([20, 23, 26, 29]), tensor([ 0, 22, 76]))"
      ]
     },
     "execution_count": 270,
     "metadata": {},
     "output_type": "execute_result"
    }
   ],
   "source": [
    "torch.einsum('ij,ij->j',A[:,None],B), torch.einsum('ij,ij->i',A[:,None],B)"
   ]
  },
  {
   "cell_type": "markdown",
   "id": "f5f79ecd",
   "metadata": {},
   "source": [
    "Build the data and calculate the distances between each point and the rest of the points ( (n,n) difference) "
   ]
  },
  {
   "cell_type": "code",
   "execution_count": 227,
   "id": "2eaabcaa",
   "metadata": {},
   "outputs": [],
   "source": [
    "def samp(x): return torch.distributions.MultivariateNormal(x, torch.diag(torch.tensor([5.,5.]))).sample((10,))"
   ]
  },
  {
   "cell_type": "code",
   "execution_count": 228,
   "id": "59c8fd76",
   "metadata": {
    "scrolled": true
   },
   "outputs": [
    {
     "data": {
      "text/plain": [
       "tensor([[ 0.886,  3.895],\n",
       "        [-2.326,  3.220],\n",
       "        [ 2.753, -0.873],\n",
       "        [-3.342, -0.368],\n",
       "        [ 5.698,  1.526],\n",
       "        [ 0.465, -1.162],\n",
       "        [ 2.884,  4.054],\n",
       "        [ 8.553,  2.259],\n",
       "        [-1.068,  2.933],\n",
       "        [ 4.434,  4.213]])"
      ]
     },
     "execution_count": 228,
     "metadata": {},
     "output_type": "execute_result"
    }
   ],
   "source": [
    "samp(tensor([1.,2.]))"
   ]
  },
  {
   "cell_type": "code",
   "execution_count": 222,
   "id": "522d7570",
   "metadata": {},
   "outputs": [
    {
     "data": {
      "text/plain": [
       "torch.Size([10, 2])"
      ]
     },
     "execution_count": 222,
     "metadata": {},
     "output_type": "execute_result"
    }
   ],
   "source": [
    "samp.shape"
   ]
  },
  {
   "cell_type": "code",
   "execution_count": 225,
   "id": "a8c015e5",
   "metadata": {},
   "outputs": [],
   "source": [
    "cetr = torch.rand(5,2)"
   ]
  },
  {
   "cell_type": "code",
   "execution_count": 226,
   "id": "ae55c30f",
   "metadata": {},
   "outputs": [
    {
     "data": {
      "text/plain": [
       "tensor([[0.374, 0.704],\n",
       "        [0.107, 0.632],\n",
       "        [0.842, 0.346],\n",
       "        [0.499, 0.646],\n",
       "        [0.352, 0.100]])"
      ]
     },
     "execution_count": 226,
     "metadata": {},
     "output_type": "execute_result"
    }
   ],
   "source": [
    "cetr"
   ]
  },
  {
   "cell_type": "code",
   "execution_count": 229,
   "id": "8ff90586",
   "metadata": {},
   "outputs": [],
   "source": [
    "datt_l = [samp(c) for c in cetr]\n",
    "datt =  torch.cat(datt_l)"
   ]
  },
  {
   "cell_type": "code",
   "execution_count": 230,
   "id": "320b82b6",
   "metadata": {},
   "outputs": [
    {
     "data": {
      "text/plain": [
       "torch.Size([50, 2])"
      ]
     },
     "execution_count": 230,
     "metadata": {},
     "output_type": "execute_result"
    }
   ],
   "source": [
    "datt.shape"
   ]
  },
  {
   "cell_type": "code",
   "execution_count": 235,
   "id": "79e04df8",
   "metadata": {},
   "outputs": [
    {
     "data": {
      "text/plain": [
       "torch.Size([50, 50, 2])"
      ]
     },
     "execution_count": 235,
     "metadata": {},
     "output_type": "execute_result"
    }
   ],
   "source": [
    "(datt[:,None,:] - datt).shape"
   ]
  },
  {
   "cell_type": "code",
   "execution_count": 237,
   "id": "b8fc50ec",
   "metadata": {},
   "outputs": [],
   "source": [
    "#calc dist between each poitn and the rest\n",
    "Di = datt[:,None,:] - datt\n",
    "diss = torch.einsum('ijk,ijk->ij', Di, Di).sqrt()"
   ]
  },
  {
   "cell_type": "code",
   "execution_count": 239,
   "id": "d180604c",
   "metadata": {},
   "outputs": [
    {
     "data": {
      "text/plain": [
       "torch.Size([50, 50])"
      ]
     },
     "execution_count": 239,
     "metadata": {},
     "output_type": "execute_result"
    }
   ],
   "source": [
    "diss.shape"
   ]
  },
  {
   "cell_type": "code",
   "execution_count": 243,
   "id": "6f8c35c0",
   "metadata": {},
   "outputs": [],
   "source": [
    "rd = torch.zeros_like(diss)\n",
    "for i, d in enumerate(datt):\n",
    "    rd[i] = ((d-datt)**2).sum(1).sqrt()"
   ]
  },
  {
   "cell_type": "code",
   "execution_count": 248,
   "id": "aeba0d16",
   "metadata": {},
   "outputs": [
    {
     "data": {
      "text/plain": [
       "tensor(2500.)"
      ]
     },
     "execution_count": 248,
     "metadata": {},
     "output_type": "execute_result"
    }
   ],
   "source": [
    "(diss+1-rd).sum()"
   ]
  },
  {
   "cell_type": "code",
   "execution_count": 254,
   "id": "756dae6d",
   "metadata": {},
   "outputs": [],
   "source": [
    "def delta_equal(u, v, delta=1e-6):\n",
    "    if (u-v).sum() < delta: return True\n",
    "    else: return False"
   ]
  },
  {
   "cell_type": "code",
   "execution_count": null,
   "id": "d8fa654b",
   "metadata": {},
   "outputs": [],
   "source": []
  },
  {
   "cell_type": "code",
   "execution_count": 255,
   "id": "af11e6ec",
   "metadata": {},
   "outputs": [
    {
     "data": {
      "text/plain": [
       "False"
      ]
     },
     "execution_count": 255,
     "metadata": {},
     "output_type": "execute_result"
    }
   ],
   "source": [
    "delta_equal(diss+1, rd)"
   ]
  },
  {
   "cell_type": "code",
   "execution_count": null,
   "id": "e2361200",
   "metadata": {},
   "outputs": [],
   "source": []
  },
  {
   "cell_type": "code",
   "execution_count": 512,
   "id": "ee701ef6",
   "metadata": {},
   "outputs": [],
   "source": [
    "A = tensor([[1,0],[1,0],[-1,0]])\n",
    "\n",
    "B = tensor([[1, 2, 3],\n",
    "            [4, 5, 6],\n",
    "            [7, 8, 9]])"
   ]
  },
  {
   "cell_type": "code",
   "execution_count": 513,
   "id": "3d9b8148",
   "metadata": {},
   "outputs": [
    {
     "data": {
      "text/plain": [
       "(tensor([[ 1,  0],\n",
       "         [ 1,  0],\n",
       "         [-1,  0]]),\n",
       " tensor([[1, 2, 3],\n",
       "         [4, 5, 6],\n",
       "         [7, 8, 9]]))"
      ]
     },
     "execution_count": 513,
     "metadata": {},
     "output_type": "execute_result"
    }
   ],
   "source": [
    "A, B"
   ]
  },
  {
   "cell_type": "code",
   "execution_count": 514,
   "id": "1fa15ead",
   "metadata": {},
   "outputs": [
    {
     "data": {
      "text/plain": [
       "(torch.Size([3, 2]),\n",
       " torch.Size([3, 3]),\n",
       " torch.Size([3, 2, 1]),\n",
       " torch.Size([3, 1, 3]))"
      ]
     },
     "execution_count": 514,
     "metadata": {},
     "output_type": "execute_result"
    }
   ],
   "source": [
    "A.shape, B.shape, A[...,None].shape, B[:,None,:].shape"
   ]
  },
  {
   "cell_type": "code",
   "execution_count": 515,
   "id": "f1c5c30f",
   "metadata": {},
   "outputs": [
    {
     "data": {
      "text/plain": [
       "tensor([[[ 1,  0],\n",
       "         [ 2,  0],\n",
       "         [-3,  0]],\n",
       "\n",
       "        [[ 4,  0],\n",
       "         [ 5,  0],\n",
       "         [-6,  0]],\n",
       "\n",
       "        [[ 7,  0],\n",
       "         [ 8,  0],\n",
       "         [-9,  0]]])"
      ]
     },
     "execution_count": 515,
     "metadata": {},
     "output_type": "execute_result"
    }
   ],
   "source": [
    "A*B[...,None]"
   ]
  }
 ],
 "metadata": {
  "kernelspec": {
   "display_name": "Python 3 (ipykernel)",
   "language": "python",
   "name": "python3"
  },
  "language_info": {
   "codemirror_mode": {
    "name": "ipython",
    "version": 3
   },
   "file_extension": ".py",
   "mimetype": "text/x-python",
   "name": "python",
   "nbconvert_exporter": "python",
   "pygments_lexer": "ipython3",
   "version": "3.10.6"
  }
 },
 "nbformat": 4,
 "nbformat_minor": 5
}
