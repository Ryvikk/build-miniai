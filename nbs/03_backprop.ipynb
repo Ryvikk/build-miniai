{
 "cells": [
  {
   "cell_type": "markdown",
   "id": "feee6e64",
   "metadata": {},
   "source": [
    "### Multi Layer Perceptron - forward and backward pass"
   ]
  },
  {
   "cell_type": "code",
   "execution_count": 1,
   "id": "0413a8bd",
   "metadata": {},
   "outputs": [],
   "source": [
    "import pickle\n",
    "import gzip\n",
    "import math\n",
    "import torch\n",
    "import matplotlib.pyplot as plt\n",
    "import numpy as np\n",
    "from pathlib import Path\n",
    "from torch import tensor"
   ]
  },
  {
   "cell_type": "code",
   "execution_count": 2,
   "id": "680b95da",
   "metadata": {},
   "outputs": [
    {
     "data": {
      "text/html": [
       "<style>.container { width:100% !important; }</style>"
      ],
      "text/plain": [
       "<IPython.core.display.HTML object>"
      ]
     },
     "metadata": {},
     "output_type": "display_data"
    }
   ],
   "source": [
    "from IPython.display import display, HTML\n",
    "display(HTML(\"<style>.container { width:100% !important; }</style>\"))"
   ]
  },
  {
   "cell_type": "code",
   "execution_count": 3,
   "id": "c215538f",
   "metadata": {},
   "outputs": [],
   "source": [
    "plt.rcParams['image.cmap'] = 'gray'\n",
    "plt.rcParams['figure.figsize'] = [4.0, 3.0]\n",
    "plt.rcParams['font.size'] = 8"
   ]
  },
  {
   "cell_type": "code",
   "execution_count": 4,
   "id": "f6384545",
   "metadata": {},
   "outputs": [],
   "source": [
    "torch.manual_seed(11)\n",
    "torch.set_printoptions(precision=3, linewidth=140, sci_mode=False)\n",
    "np.set_printoptions(precision=3, linewidth=140)"
   ]
  },
  {
   "cell_type": "code",
   "execution_count": 5,
   "id": "0355a46b",
   "metadata": {},
   "outputs": [],
   "source": [
    "path_data = Path('data')\n",
    "path_gz = path_data/'mnist.pkl.gz'\n",
    "with gzip.open(path_gz, 'rb') as f: \n",
    "    ((x_train, y_train),(x_valid, y_valid),_) = pickle.load(f, encoding='latin-1')"
   ]
  },
  {
   "cell_type": "code",
   "execution_count": 6,
   "id": "9b1d1d51",
   "metadata": {},
   "outputs": [],
   "source": [
    "x_train, y_train, x_valid, y_valid = map(tensor,[x_train, y_train, x_valid, y_valid])"
   ]
  },
  {
   "cell_type": "markdown",
   "id": "a7e0cc27",
   "metadata": {},
   "source": [
    "#### Let's build a small forward model"
   ]
  },
  {
   "cell_type": "code",
   "execution_count": 7,
   "id": "8a5ab769",
   "metadata": {},
   "outputs": [
    {
     "data": {
      "text/plain": [
       "((8, 5), (5, 3), (3, 7))"
      ]
     },
     "execution_count": 7,
     "metadata": {},
     "output_type": "execute_result"
    }
   ],
   "source": [
    "u = [5,3,7]\n",
    "v = 8\n",
    "\n",
    "tuple(zip([v]+u, u))"
   ]
  },
  {
   "cell_type": "markdown",
   "id": "e0b42062",
   "metadata": {},
   "source": [
    "- The init takes in the dim of the input `nx` and a list of the layer dims `nl`.\n",
    "- All the layers are linear\n",
    "- The parameters matrix for each hidden layer is initiated in `build_nn` from the layer dim list \n",
    "- The forward method passes each input through the succesion of linear layer - `relu` non-linearity"
   ]
  },
  {
   "cell_type": "code",
   "execution_count": 8,
   "id": "479282e0",
   "metadata": {},
   "outputs": [],
   "source": [
    "class MLP:\n",
    "    def __init__(self, nx, nl):\n",
    "        self.nx = nx\n",
    "        self.nl = nl\n",
    "        self.build_nn()\n",
    "    \n",
    "    def build_nn(self):\n",
    "        self.W = []\n",
    "        self.B = []\n",
    "        for j,k in zip([self.nx] + self.nl, self.nl):\n",
    "            self.W.append(torch.randn(j,k))\n",
    "            self.B.append(torch.randn(k))\n",
    "    \n",
    "    def relu(self, x): return x.clamp_min(0.)\n",
    "    \n",
    "    def backwards(self):\n",
    "        pass\n",
    "        \n",
    "    def forward(self, x): \n",
    "        for w, b in zip(self.W, self.B):\n",
    "            x = self.relu(x@w + b)\n",
    "        return x"
   ]
  },
  {
   "cell_type": "code",
   "execution_count": 9,
   "id": "21bc9ffc",
   "metadata": {},
   "outputs": [
    {
     "data": {
      "text/plain": [
       "torch.Size([5, 784])"
      ]
     },
     "execution_count": 9,
     "metadata": {},
     "output_type": "execute_result"
    }
   ],
   "source": [
    "x_train[:5].shape"
   ]
  },
  {
   "cell_type": "markdown",
   "id": "7c168311",
   "metadata": {},
   "source": [
    "We can use `1` instead of `10` as the last layer size to simplify our first implementation and use MSE instead of Cross-Entropy. The output number will be the actual category number $\\in$ $\\left\\{0,1,2,3,4,5,6,7,8,9\\right\\}$. "
   ]
  },
  {
   "cell_type": "code",
   "execution_count": 10,
   "id": "f869c17f",
   "metadata": {},
   "outputs": [],
   "source": [
    "nl = [256, 64, 1]"
   ]
  },
  {
   "cell_type": "code",
   "execution_count": 11,
   "id": "bff78423",
   "metadata": {},
   "outputs": [],
   "source": [
    "model = MLP(x_train.shape[1], nl)"
   ]
  },
  {
   "cell_type": "code",
   "execution_count": 12,
   "id": "5439c07f",
   "metadata": {},
   "outputs": [
    {
     "data": {
      "text/plain": [
       "(torch.Size([10000, 1]),\n",
       " tensor([[348.696],\n",
       "         [  0.000],\n",
       "         [  0.000],\n",
       "         [  0.000],\n",
       "         [  0.000]]))"
      ]
     },
     "execution_count": 12,
     "metadata": {},
     "output_type": "execute_result"
    }
   ],
   "source": [
    "res = model.forward(x_valid)\n",
    "res.shape, res[:5]"
   ]
  },
  {
   "cell_type": "markdown",
   "id": "91e63d6d",
   "metadata": {},
   "source": [
    "#### Let's use MSE as a quick illustration"
   ]
  },
  {
   "cell_type": "markdown",
   "id": "1cbd1e21",
   "metadata": {},
   "source": [
    "We'll just implement the process and switch to cross entropy."
   ]
  },
  {
   "cell_type": "code",
   "execution_count": 13,
   "id": "f2d8df9e",
   "metadata": {},
   "outputs": [
    {
     "data": {
      "text/plain": [
       "(torch.Size([10000, 1]), torch.Size([10000]))"
      ]
     },
     "execution_count": 13,
     "metadata": {},
     "output_type": "execute_result"
    }
   ],
   "source": [
    "res.shape, y_valid.shape"
   ]
  },
  {
   "cell_type": "code",
   "execution_count": 14,
   "id": "ef6b5cfc",
   "metadata": {},
   "outputs": [
    {
     "data": {
      "text/plain": [
       "torch.Size([10000])"
      ]
     },
     "execution_count": 14,
     "metadata": {},
     "output_type": "execute_result"
    }
   ],
   "source": [
    "(res.squeeze() - y_valid).shape"
   ]
  },
  {
   "cell_type": "code",
   "execution_count": 15,
   "id": "3dd5650c",
   "metadata": {},
   "outputs": [],
   "source": [
    "def mse(y, yh): return (y.squeeze()-yh).pow(2).mean()"
   ]
  },
  {
   "cell_type": "code",
   "execution_count": 16,
   "id": "956143c4",
   "metadata": {},
   "outputs": [
    {
     "data": {
      "text/plain": [
       "tensor(5965.282)"
      ]
     },
     "execution_count": 16,
     "metadata": {},
     "output_type": "execute_result"
    }
   ],
   "source": [
    "mse(res,y_valid)"
   ]
  },
  {
   "cell_type": "markdown",
   "id": "7d607929",
   "metadata": {},
   "source": [
    "We now want to implement the backward propagation of the gradient error. The derivative of the loss function with respect to the weights is :\n",
    "$$ \\frac{\\partial \\mathcal{L}}{\\partial \\mathcal{w_{i}}} = \\frac{\\partial \\mathcal{L}}{\\partial \\mathcal{w_n}} \\frac{\\partial \\mathcal{w_n}}{\\partial \\mathcal{w_{n-1}}} \\dots \\frac{\\partial \\mathcal{w_{i-1}}}{\\partial \\mathcal{w_{i}}}$$\n",
    "\n",
    "The derivative of MSE $(y-y_h)^2$"
   ]
  },
  {
   "cell_type": "code",
   "execution_count": null,
   "id": "97a966f8",
   "metadata": {},
   "outputs": [],
   "source": []
  },
  {
   "cell_type": "markdown",
   "id": "b29c09d1",
   "metadata": {},
   "source": [
    "#### Entropy"
   ]
  },
  {
   "cell_type": "code",
   "execution_count": 27,
   "id": "b04cbd9a",
   "metadata": {},
   "outputs": [
    {
     "data": {
      "text/plain": [
       "-0.17851484105136778"
      ]
     },
     "execution_count": 27,
     "metadata": {},
     "output_type": "execute_result"
    }
   ],
   "source": [
    "0.8*math.log(0.8)"
   ]
  },
  {
   "cell_type": "code",
   "execution_count": 40,
   "id": "c94567f1",
   "metadata": {},
   "outputs": [
    {
     "data": {
      "text/plain": [
       "1.3862943611198906"
      ]
     },
     "execution_count": 40,
     "metadata": {},
     "output_type": "execute_result"
    }
   ],
   "source": [
    "-0.25*math.log(0.25)*4"
   ]
  },
  {
   "cell_type": "code",
   "execution_count": 48,
   "id": "c11f79b3",
   "metadata": {},
   "outputs": [
    {
     "data": {
      "text/plain": [
       "0.02172276567019636"
      ]
     },
     "execution_count": 48,
     "metadata": {},
     "output_type": "execute_result"
    }
   ],
   "source": [
    "-0.001*math.log(0.001) -0.001*math.log(0.001) -0.001*math.log(0.001) - 0.997*math.log(0.997)"
   ]
  },
  {
   "cell_type": "code",
   "execution_count": 46,
   "id": "33aa9927",
   "metadata": {},
   "outputs": [
    {
     "data": {
      "text/plain": [
       "20.72627034596671"
      ]
     },
     "execution_count": 46,
     "metadata": {},
     "output_type": "execute_result"
    }
   ],
   "source": [
    "- math.log(0.001) - math.log(0.001) - math.log(0.001) - math.log(0.997)"
   ]
  },
  {
   "cell_type": "code",
   "execution_count": 49,
   "id": "71cf9418",
   "metadata": {},
   "outputs": [
    {
     "data": {
      "text/plain": [
       "5.545177444479562"
      ]
     },
     "execution_count": 49,
     "metadata": {},
     "output_type": "execute_result"
    }
   ],
   "source": [
    "-math.log(0.25)*4"
   ]
  },
  {
   "cell_type": "code",
   "execution_count": 53,
   "id": "f35ea42d",
   "metadata": {},
   "outputs": [
    {
     "data": {
      "text/plain": [
       "[<matplotlib.lines.Line2D at 0x7f4be01a8310>]"
      ]
     },
     "execution_count": 53,
     "metadata": {},
     "output_type": "execute_result"
    },
    {
     "data": {
      "image/png": "[encoded data removed]",
      "text/plain": [
       "<Figure size 400x300 with 1 Axes>"
      ]
     },
     "metadata": {},
     "output_type": "display_data"
    }
   ],
   "source": [
    "x = np.linspace(0.01,1,100)\n",
    "# plt.plot(x, np.log(x**x))\n",
    "plt.plot(x, x*np.log(x))"
   ]
  },
  {
   "cell_type": "code",
   "execution_count": null,
   "id": "076d21d5",
   "metadata": {},
   "outputs": [],
   "source": []
  }
 ],
 "metadata": {
  "kernelspec": {
   "display_name": "Python 3 (ipykernel)",
   "language": "python",
   "name": "python3"
  },
  "language_info": {
   "codemirror_mode": {
    "name": "ipython",
    "version": 3
   },
   "file_extension": ".py",
   "mimetype": "text/x-python",
   "name": "python",
   "nbconvert_exporter": "python",
   "pygments_lexer": "ipython3",
   "version": "3.10.6"
  }
 },
 "nbformat": 4,
 "nbformat_minor": 5
}
