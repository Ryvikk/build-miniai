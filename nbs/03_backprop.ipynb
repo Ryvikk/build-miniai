{
 "cells": [
  {
   "cell_type": "markdown",
   "id": "feee6e64",
   "metadata": {},
   "source": [
    "### Multi Layer Perceptron - forward and backward pass"
   ]
  },
  {
   "cell_type": "code",
   "execution_count": 2,
   "id": "0413a8bd",
   "metadata": {},
   "outputs": [],
   "source": [
    "import pickle\n",
    "import gzip\n",
    "import math\n",
    "import torch\n",
    "import matplotlib.pyplot as plt\n",
    "import numpy as np\n",
    "from pathlib import Path\n",
    "from torch import tensor"
   ]
  },
  {
   "cell_type": "code",
   "execution_count": 3,
   "id": "680b95da",
   "metadata": {},
   "outputs": [
    {
     "data": {
      "text/html": [
       "<style>.container { width:100% !important; }</style>"
      ],
      "text/plain": [
       "<IPython.core.display.HTML object>"
      ]
     },
     "metadata": {},
     "output_type": "display_data"
    }
   ],
   "source": [
    "from IPython.display import display, HTML\n",
    "display(HTML(\"<style>.container { width:100% !important; }</style>\"))"
   ]
  },
  {
   "cell_type": "code",
   "execution_count": 4,
   "id": "c215538f",
   "metadata": {},
   "outputs": [],
   "source": [
    "plt.rcParams['image.cmap'] = 'gray'\n",
    "plt.rcParams['figure.figsize'] = [4.0, 3.0]\n",
    "plt.rcParams['font.size'] = 8"
   ]
  },
  {
   "cell_type": "code",
   "execution_count": 5,
   "id": "f6384545",
   "metadata": {},
   "outputs": [],
   "source": [
    "torch.manual_seed(11)\n",
    "torch.set_printoptions(precision=3, linewidth=140, sci_mode=False)\n",
    "np.set_printoptions(precision=3, linewidth=140)"
   ]
  },
  {
   "cell_type": "code",
   "execution_count": 6,
   "id": "0355a46b",
   "metadata": {},
   "outputs": [],
   "source": [
    "path_data = Path('data')\n",
    "path_gz = path_data/'mnist.pkl.gz'\n",
    "with gzip.open(path_gz, 'rb') as f: \n",
    "    ((x_train, y_train),(x_test, y_test),_) = pickle.load(f, encoding='latin-1')"
   ]
  },
  {
   "cell_type": "code",
   "execution_count": 7,
   "id": "9b1d1d51",
   "metadata": {},
   "outputs": [],
   "source": [
    "x_train, y_train, x_test, y_test = map(tensor,[x_train, y_train, x_test, y_test])"
   ]
  },
  {
   "cell_type": "code",
   "execution_count": 8,
   "id": "8a5ab769",
   "metadata": {},
   "outputs": [
    {
     "data": {
      "text/plain": [
       "((8, 5), (5, 3), (3, 7))"
      ]
     },
     "execution_count": 8,
     "metadata": {},
     "output_type": "execute_result"
    }
   ],
   "source": [
    "u = [5,3,7]\n",
    "v = 8\n",
    "\n",
    "tuple(zip([v]+u, u))"
   ]
  },
  {
   "cell_type": "code",
   "execution_count": 11,
   "id": "479282e0",
   "metadata": {},
   "outputs": [],
   "source": [
    "class MLP:\n",
    "    def __init__(self, nx, nl):\n",
    "        self.nx = nx\n",
    "        self.nl = nl\n",
    "        self.build_nn()\n",
    "    \n",
    "    def build_nn(self):\n",
    "        self.W = []\n",
    "        self.B = []\n",
    "        for j,k in zip([self.nx] + self.nl, self.nl):\n",
    "            self.W.append(torch.randn(j,k))\n",
    "            self.B.append(torch.randn(k))\n",
    "    \n",
    "    def backwards(self):\n",
    "        pass\n",
    "        \n",
    "    def forward(self, x): \n",
    "        for w, b in zip(self.W, self.B):\n",
    "            x = x@w + b\n",
    "        return x"
   ]
  },
  {
   "cell_type": "code",
   "execution_count": 12,
   "id": "21bc9ffc",
   "metadata": {},
   "outputs": [
    {
     "data": {
      "text/plain": [
       "torch.Size([5, 784])"
      ]
     },
     "execution_count": 12,
     "metadata": {},
     "output_type": "execute_result"
    }
   ],
   "source": [
    "x_train[:5].shape"
   ]
  },
  {
   "cell_type": "code",
   "execution_count": 13,
   "id": "f869c17f",
   "metadata": {},
   "outputs": [],
   "source": [
    "nl = [256, 64, 10]"
   ]
  },
  {
   "cell_type": "code",
   "execution_count": 14,
   "id": "bff78423",
   "metadata": {},
   "outputs": [],
   "source": [
    "model = MLP(x_train.shape[1], nl)"
   ]
  },
  {
   "cell_type": "code",
   "execution_count": 15,
   "id": "5439c07f",
   "metadata": {},
   "outputs": [
    {
     "data": {
      "text/plain": [
       "tensor([[ 2592.791,  1274.272,   144.264,  2289.282,   928.843,  1150.213,   932.392,    18.566,  -166.792,   454.910],\n",
       "        [ 1982.107,  1113.323, -1364.185,  1635.586,   921.450,   765.490,  1228.645,   783.224,   125.286,  1622.450],\n",
       "        [ 1059.275,  -195.095,   -35.324,   416.384,    24.821,  1962.227,  -367.846, -1617.746, -1111.161,  1213.927],\n",
       "        [-1018.900,  -360.771,  2017.314,  1833.248,   991.787,   740.458,   717.676,   805.373,  1263.424,  1532.452],\n",
       "        [  700.308,  1704.129,  1577.885,   871.914,   127.479,   668.522,    -9.767, -1963.807,   452.376,  2143.573]])"
      ]
     },
     "execution_count": 15,
     "metadata": {},
     "output_type": "execute_result"
    }
   ],
   "source": [
    "model.forward(x_train[:5])"
   ]
  },
  {
   "cell_type": "code",
   "execution_count": null,
   "id": "f2d8df9e",
   "metadata": {},
   "outputs": [],
   "source": []
  }
 ],
 "metadata": {
  "kernelspec": {
   "display_name": "Python 3 (ipykernel)",
   "language": "python",
   "name": "python3"
  },
  "language_info": {
   "codemirror_mode": {
    "name": "ipython",
    "version": 3
   },
   "file_extension": ".py",
   "mimetype": "text/x-python",
   "name": "python",
   "nbconvert_exporter": "python",
   "pygments_lexer": "ipython3",
   "version": "3.10.8"
  }
 },
 "nbformat": 4,
 "nbformat_minor": 5
}
