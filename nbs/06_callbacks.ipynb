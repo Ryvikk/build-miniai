{
 "cells": [
  {
   "cell_type": "code",
   "execution_count": 1,
   "id": "de3ceb03",
   "metadata": {},
   "outputs": [],
   "source": [
    "import torch\n",
    "import matplotlib.pyplot as plt\n",
    "import random"
   ]
  },
  {
   "cell_type": "code",
   "execution_count": 4,
   "id": "eccd4866",
   "metadata": {},
   "outputs": [],
   "source": [
    "from time import sleep"
   ]
  },
  {
   "cell_type": "code",
   "execution_count": 5,
   "id": "d39441e3",
   "metadata": {},
   "outputs": [],
   "source": [
    "def calculation():\n",
    "    res = 0\n",
    "    for i in range(5):\n",
    "        res += i\n",
    "        sleep(1)"
   ]
  },
  {
   "cell_type": "code",
   "execution_count": 6,
   "id": "1aa3e711",
   "metadata": {},
   "outputs": [],
   "source": [
    "calculation()"
   ]
  },
  {
   "cell_type": "code",
   "execution_count": 7,
   "id": "bcdf594b",
   "metadata": {},
   "outputs": [],
   "source": [
    "def calculation(cb=None):\n",
    "    res = 0\n",
    "    for i in range(5):\n",
    "        res += i\n",
    "        sleep(1)\n",
    "        if cb: cb(i)"
   ]
  },
  {
   "cell_type": "code",
   "execution_count": 28,
   "id": "1ccda055",
   "metadata": {},
   "outputs": [],
   "source": [
    "def _cb(i): print(f'Step {i} is complete.')"
   ]
  },
  {
   "cell_type": "code",
   "execution_count": 29,
   "id": "c51b09e2",
   "metadata": {},
   "outputs": [],
   "source": [
    "def show_progress(elem, step): print(f'{elem} Step {step} is complete.')"
   ]
  },
  {
   "cell_type": "code",
   "execution_count": 23,
   "id": "ac880b69",
   "metadata": {},
   "outputs": [],
   "source": [
    "from functools import partial"
   ]
  },
  {
   "cell_type": "code",
   "execution_count": 24,
   "id": "b4f157f0",
   "metadata": {
    "scrolled": true
   },
   "outputs": [
    {
     "name": "stdout",
     "output_type": "stream",
     "text": [
      "Step 0 is complete.\n",
      "Step 1 is complete.\n",
      "Step 2 is complete.\n",
      "Step 3 is complete.\n",
      "Step 4 is complete.\n"
     ]
    }
   ],
   "source": [
    "calculation(_cb)"
   ]
  },
  {
   "cell_type": "code",
   "execution_count": 25,
   "id": "0d12b9ff",
   "metadata": {},
   "outputs": [
    {
     "name": "stdout",
     "output_type": "stream",
     "text": [
      "INFO: - Step 0 is complete.\n",
      "INFO: - Step 1 is complete.\n",
      "INFO: - Step 2 is complete.\n",
      "INFO: - Step 3 is complete.\n",
      "INFO: - Step 4 is complete.\n"
     ]
    }
   ],
   "source": [
    "calculation(partial(show_progress, 'INFO: -'))"
   ]
  },
  {
   "cell_type": "code",
   "execution_count": 31,
   "id": "bca0ab48",
   "metadata": {},
   "outputs": [],
   "source": [
    "class ProgressCallable():\n",
    "    def __init__(self, element): self.el = element\n",
    "    def __call__(self, step): print(f'{self.el} Step {step} is complete.')"
   ]
  },
  {
   "cell_type": "code",
   "execution_count": 40,
   "id": "ff07d8d6",
   "metadata": {},
   "outputs": [],
   "source": [
    "cb = ProgressCallable('USEFUL --')"
   ]
  },
  {
   "cell_type": "code",
   "execution_count": 41,
   "id": "d9d8eadc",
   "metadata": {},
   "outputs": [
    {
     "name": "stdout",
     "output_type": "stream",
     "text": [
      "USEFUL -- Step 0 is complete.\n",
      "USEFUL -- Step 1 is complete.\n",
      "USEFUL -- Step 2 is complete.\n",
      "USEFUL -- Step 3 is complete.\n",
      "USEFUL -- Step 4 is complete.\n"
     ]
    }
   ],
   "source": [
    "calculation(cb)"
   ]
  },
  {
   "cell_type": "markdown",
   "id": "1e711d90",
   "metadata": {},
   "source": [
    "`__getattr__` --> is called as a last resort when the attribute key is not in any scopes -"
   ]
  },
  {
   "cell_type": "code",
   "execution_count": 47,
   "id": "4e123627",
   "metadata": {},
   "outputs": [],
   "source": [
    "class Test:\n",
    "    def __init__(self, a, b):\n",
    "        self.a = a\n",
    "        self.b = b\n",
    "    \n",
    "    def __getattr__(self, k):\n",
    "        if k[0] == '_': raise AttributeError(k)\n",
    "        return f'{k} is not here, it may come back later.'"
   ]
  },
  {
   "cell_type": "code",
   "execution_count": 48,
   "id": "f45e3ffe",
   "metadata": {},
   "outputs": [],
   "source": [
    "home = Test(5, 10)"
   ]
  },
  {
   "cell_type": "code",
   "execution_count": 49,
   "id": "86ecb68a",
   "metadata": {},
   "outputs": [
    {
     "data": {
      "text/plain": [
       "(5, 10, 'c is not here, it may come back later.')"
      ]
     },
     "execution_count": 49,
     "metadata": {},
     "output_type": "execute_result"
    }
   ],
   "source": [
    "home.a, home.b, home.c"
   ]
  },
  {
   "cell_type": "code",
   "execution_count": null,
   "id": "2c1c3a41",
   "metadata": {},
   "outputs": [],
   "source": []
  }
 ],
 "metadata": {
  "kernelspec": {
   "display_name": "Python 3 (ipykernel)",
   "language": "python",
   "name": "python3"
  },
  "language_info": {
   "codemirror_mode": {
    "name": "ipython",
    "version": 3
   },
   "file_extension": ".py",
   "mimetype": "text/x-python",
   "name": "python",
   "nbconvert_exporter": "python",
   "pygments_lexer": "ipython3",
   "version": "3.10.8"
  }
 },
 "nbformat": 4,
 "nbformat_minor": 5
}
