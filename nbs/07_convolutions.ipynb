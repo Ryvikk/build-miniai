{
 "cells": [
  {
   "cell_type": "code",
   "execution_count": 1,
   "id": "f45c1bdc",
   "metadata": {},
   "outputs": [],
   "source": [
    "#|default_exp conv"
   ]
  },
  {
   "cell_type": "code",
   "execution_count": 2,
   "id": "b7728d32",
   "metadata": {},
   "outputs": [],
   "source": [
    "#|export\n",
    "import torch\n",
    "from torch import nn\n",
    "\n",
    "from torch.utils.data import default_collate\n",
    "from typing import Mapping\n",
    "\n",
    "from miniai.training import *\n",
    "from miniai.datasets import *"
   ]
  },
  {
   "cell_type": "code",
   "execution_count": 24,
   "id": "b0d7dd2d",
   "metadata": {},
   "outputs": [],
   "source": [
    "import pickle\n",
    "import gzip\n",
    "import math\n",
    "import torch\n",
    "import matplotlib.pyplot as plt\n",
    "import matplotlib\n",
    "import numpy as np\n",
    "from pathlib import Path\n",
    "from torch import tensor, nn\n",
    "import torch.nn.functional as F"
   ]
  },
  {
   "cell_type": "code",
   "execution_count": 4,
   "id": "12086ab2",
   "metadata": {},
   "outputs": [],
   "source": [
    "path_data = Path('data')\n",
    "path_gz = path_data/'mnist.pkl.gz'\n",
    "with gzip.open(path_gz, 'rb') as f: ((x_train, y_train), (x_valid, y_valid), _) = pickle.load(f, encoding='latin-1')\n",
    "x_train, y_train, x_valid, y_valid = map(tensor, [x_train, y_train, x_valid, y_valid])"
   ]
  },
  {
   "cell_type": "code",
   "execution_count": 5,
   "id": "09f731b8",
   "metadata": {},
   "outputs": [
    {
     "data": {
      "text/plain": [
       "torch.Size([50000, 784])"
      ]
     },
     "execution_count": 5,
     "metadata": {},
     "output_type": "execute_result"
    }
   ],
   "source": [
    "x_train.shape"
   ]
  },
  {
   "cell_type": "code",
   "execution_count": 6,
   "id": "a44bfc7c",
   "metadata": {},
   "outputs": [],
   "source": [
    "x_imgs = x_train.view(-1,28,28)\n",
    "xv_imgs = x_valid.view(-1,28,28)"
   ]
  },
  {
   "cell_type": "code",
   "execution_count": 7,
   "id": "8745aca8",
   "metadata": {},
   "outputs": [],
   "source": [
    "matplotlib.rcParams['figure.dpi'] = 50\n",
    "matplotlib.rcParams['image.cmap'] = 'gray'"
   ]
  },
  {
   "cell_type": "code",
   "execution_count": 8,
   "id": "42f54af9",
   "metadata": {},
   "outputs": [
    {
     "data": {
      "image/png": "[encoded data removed]",
      "text/plain": [
       "<Figure size 320x240 with 1 Axes>"
      ]
     },
     "metadata": {},
     "output_type": "display_data"
    }
   ],
   "source": [
    "im3 = x_imgs[7]\n",
    "show_image(im3);"
   ]
  },
  {
   "cell_type": "code",
   "execution_count": 9,
   "id": "22446e31",
   "metadata": {},
   "outputs": [],
   "source": [
    "inp = im3[None,None,:,:].float()"
   ]
  },
  {
   "cell_type": "code",
   "execution_count": 10,
   "id": "a78d480e",
   "metadata": {},
   "outputs": [],
   "source": [
    "top_edge = tensor([[-1,-1,-1],\n",
    "                   [ 0, 0, 0],\n",
    "                   [ 1, 1, 1]]).float()"
   ]
  },
  {
   "cell_type": "code",
   "execution_count": 11,
   "id": "464e9289",
   "metadata": {},
   "outputs": [],
   "source": [
    "left_edge = tensor([[-1,0,1],\n",
    "                    [-1,0,1],\n",
    "                    [-1,0,1]]).float()"
   ]
  },
  {
   "cell_type": "code",
   "execution_count": 12,
   "id": "a5dcc8a5",
   "metadata": {},
   "outputs": [],
   "source": [
    "diag1_edge = tensor([[ 0,-1, 1],\n",
    "                     [-1, 1, 0],\n",
    "                     [ 1, 0, 0]]).float()"
   ]
  },
  {
   "cell_type": "code",
   "execution_count": 13,
   "id": "f54d1926",
   "metadata": {},
   "outputs": [],
   "source": [
    "diag2_edge = tensor([[ 1,-1, 0],\n",
    "                     [ 0, 1,-1],\n",
    "                     [ 0, 0, 1]]).float()"
   ]
  },
  {
   "cell_type": "code",
   "execution_count": 14,
   "id": "01062dc1",
   "metadata": {},
   "outputs": [],
   "source": [
    "conv = F.conv2d(inp, top_edge[None,None])"
   ]
  },
  {
   "cell_type": "code",
   "execution_count": 15,
   "id": "df1e64f1",
   "metadata": {},
   "outputs": [
    {
     "data": {
      "image/png": "[encoded data removed]",
      "text/plain": [
       "<Figure size 320x240 with 1 Axes>"
      ]
     },
     "metadata": {},
     "output_type": "display_data"
    }
   ],
   "source": [
    "show_image(conv.squeeze());"
   ]
  },
  {
   "cell_type": "code",
   "execution_count": 16,
   "id": "a25f0089",
   "metadata": {},
   "outputs": [
    {
     "data": {
      "text/plain": [
       "torch.Size([4, 1, 3, 3])"
      ]
     },
     "execution_count": 16,
     "metadata": {},
     "output_type": "execute_result"
    }
   ],
   "source": [
    "edge_kernels = torch.stack([left_edge, top_edge, diag1_edge, diag2_edge])[:,None]\n",
    "edge_kernels.shape"
   ]
  },
  {
   "cell_type": "code",
   "execution_count": 17,
   "id": "bdee9f86",
   "metadata": {},
   "outputs": [
    {
     "data": {
      "text/plain": [
       "torch.Size([16, 1, 28, 28])"
      ]
     },
     "execution_count": 17,
     "metadata": {},
     "output_type": "execute_result"
    }
   ],
   "source": [
    "xb = x_imgs[:16][:,None]\n",
    "xb.shape"
   ]
  },
  {
   "cell_type": "code",
   "execution_count": 18,
   "id": "1a5289d4",
   "metadata": {},
   "outputs": [],
   "source": [
    "convs = F.conv2d(xb, edge_kernels)"
   ]
  },
  {
   "cell_type": "code",
   "execution_count": 19,
   "id": "0f4606b8",
   "metadata": {},
   "outputs": [
    {
     "data": {
      "text/plain": [
       "torch.Size([16, 4, 26, 26])"
      ]
     },
     "execution_count": 19,
     "metadata": {},
     "output_type": "execute_result"
    }
   ],
   "source": [
    "convs.shape"
   ]
  },
  {
   "cell_type": "code",
   "execution_count": 20,
   "id": "35927f91",
   "metadata": {},
   "outputs": [
    {
     "data": {
      "image/png": "[encoded data removed]",
      "text/plain": [
       "<Figure size 320x240 with 1 Axes>"
      ]
     },
     "metadata": {},
     "output_type": "display_data"
    }
   ],
   "source": [
    "img0 = xb[0]\n",
    "show_image(img0);"
   ]
  },
  {
   "cell_type": "code",
   "execution_count": 21,
   "id": "79be525b",
   "metadata": {},
   "outputs": [
    {
     "data": {
      "image/png": "[encoded data removed]",
      "text/plain": [
       "<Figure size 300x300 with 4 Axes>"
      ]
     },
     "metadata": {},
     "output_type": "display_data"
    }
   ],
   "source": [
    "show_images([convs[0,i] for i in range(4)])"
   ]
  },
  {
   "cell_type": "markdown",
   "id": "8d04d47b",
   "metadata": {},
   "source": [
    "#### Build the CNN"
   ]
  },
  {
   "cell_type": "code",
   "execution_count": 23,
   "id": "c25b493c",
   "metadata": {},
   "outputs": [],
   "source": [
    "n,m = x_train.shape\n",
    "c = y_train.max()+1"
   ]
  },
  {
   "cell_type": "code",
   "execution_count": 33,
   "id": "2891c83d",
   "metadata": {},
   "outputs": [],
   "source": [
    "#| export\n",
    "def conv(ni, nf, ks=3, stride=2, act=True):\n",
    "    res = nn.Conv2d(ni, nf, kernel_size=ks, stride=stride, padding=ks//2)\n",
    "    if act: res = nn.Sequential(res, nn.ReLU())\n",
    "    return res"
   ]
  },
  {
   "cell_type": "code",
   "execution_count": 34,
   "id": "6715b1d9",
   "metadata": {},
   "outputs": [],
   "source": [
    "conv_layer = conv(1, 4)"
   ]
  },
  {
   "cell_type": "code",
   "execution_count": 35,
   "id": "157d397e",
   "metadata": {},
   "outputs": [
    {
     "data": {
      "text/plain": [
       "torch.Size([16, 4, 14, 14])"
      ]
     },
     "execution_count": 35,
     "metadata": {},
     "output_type": "execute_result"
    }
   ],
   "source": [
    "conv_layer(xb).shape"
   ]
  },
  {
   "cell_type": "code",
   "execution_count": 101,
   "id": "03d7724d",
   "metadata": {},
   "outputs": [],
   "source": [
    "simple_cnn = nn.Sequential(\n",
    "    conv(1,4),              #14x14\n",
    "    conv(4,8),              #7x7\n",
    "    conv(8,16),             #4x4\n",
    "    conv(16,16),            #2x2\n",
    "    conv(16,10, act=False), #1x1\n",
    "    nn.Flatten()\n",
    ")"
   ]
  },
  {
   "cell_type": "code",
   "execution_count": 102,
   "id": "cd9ccf32",
   "metadata": {},
   "outputs": [
    {
     "data": {
      "text/plain": [
       "torch.Size([16, 10])"
      ]
     },
     "execution_count": 102,
     "metadata": {},
     "output_type": "execute_result"
    }
   ],
   "source": [
    "simple_cnn(xb).shape"
   ]
  },
  {
   "cell_type": "code",
   "execution_count": 103,
   "id": "aa963c9f",
   "metadata": {},
   "outputs": [],
   "source": [
    "x_imgs = x_train.view(-1, 1, 28, 28)\n",
    "xv_imgs = x_valid.view(-1, 1, 28, 28)"
   ]
  },
  {
   "cell_type": "code",
   "execution_count": 104,
   "id": "8ef5cbc2",
   "metadata": {},
   "outputs": [],
   "source": [
    "train_ds, valid_ds = Dataset(x_imgs, y_train), Dataset(xv_imgs, y_valid)"
   ]
  },
  {
   "cell_type": "code",
   "execution_count": 105,
   "id": "e138a501",
   "metadata": {},
   "outputs": [
    {
     "data": {
      "text/plain": [
       "torch.Size([3, 1, 28, 28])"
      ]
     },
     "execution_count": 105,
     "metadata": {},
     "output_type": "execute_result"
    }
   ],
   "source": [
    "train_ds[:3][0].shape"
   ]
  },
  {
   "cell_type": "code",
   "execution_count": 106,
   "id": "cbaa6010",
   "metadata": {},
   "outputs": [
    {
     "data": {
      "text/plain": [
       "(True, False)"
      ]
     },
     "execution_count": 106,
     "metadata": {},
     "output_type": "execute_result"
    }
   ],
   "source": [
    "d = {'e': 5}\n",
    "dd = [1,2]\n",
    "isinstance(d, Mapping), isinstance(dd, Mapping)"
   ]
  },
  {
   "cell_type": "code",
   "execution_count": 107,
   "id": "65510804",
   "metadata": {},
   "outputs": [],
   "source": [
    "x = [torch.tensor([[1,2],[3,4]]), 'at']"
   ]
  },
  {
   "cell_type": "code",
   "execution_count": 108,
   "id": "ac904491",
   "metadata": {},
   "outputs": [
    {
     "data": {
      "text/plain": [
       "[tensor([[1, 2],\n",
       "         [3, 4]]),\n",
       " 'at']"
      ]
     },
     "execution_count": 108,
     "metadata": {},
     "output_type": "execute_result"
    }
   ],
   "source": [
    "type(x)(o for o in x)"
   ]
  },
  {
   "cell_type": "code",
   "execution_count": 109,
   "id": "8f55d6c1",
   "metadata": {},
   "outputs": [],
   "source": [
    "#| export\n",
    "def_device = 'mps' if torch.backends.mps.is_available() else 'cuda' if torch.cuda.is_available() else 'cpu'\n",
    "\n",
    "def to_device(x, device=def_device):\n",
    "    if isinstance(x, Mapping): {k:v.to(device) for k,v in x.items()}\n",
    "    return type(x)(o.to(device) for o in x)\n",
    "\n",
    "def collate_device(b): return to_device(default_collate(b))"
   ]
  },
  {
   "cell_type": "code",
   "execution_count": 110,
   "id": "44045703",
   "metadata": {},
   "outputs": [],
   "source": [
    "from torch import optim"
   ]
  },
  {
   "cell_type": "code",
   "execution_count": 113,
   "id": "c065f073",
   "metadata": {},
   "outputs": [],
   "source": [
    "bs = 256\n",
    "lr = 0.4\n",
    "train_dl, valid_dl = get_dls(train_ds, valid_ds, bs, collate_fn=collate_device)"
   ]
  },
  {
   "cell_type": "code",
   "execution_count": 114,
   "id": "0703f087",
   "metadata": {},
   "outputs": [],
   "source": [
    "opt = optim.SGD(simple_cnn.parameters(), lr=lr)"
   ]
  },
  {
   "cell_type": "code",
   "execution_count": 115,
   "id": "1aca822c",
   "metadata": {},
   "outputs": [
    {
     "name": "stdout",
     "output_type": "stream",
     "text": [
      "0 0.39088879804611204 0.8885999996185303\n",
      "1 0.17997179322242737 0.9464000003814698\n",
      "2 0.17829024684429168 0.943699999332428\n",
      "3 0.16307286472320556 0.9534999992370605\n",
      "4 0.13338019649982452 0.9588000005722046\n"
     ]
    }
   ],
   "source": [
    "loss, acc = fit(5, simple_cnn.to(def_device), F.cross_entropy, opt, train_dl, valid_dl)"
   ]
  },
  {
   "cell_type": "code",
   "execution_count": 116,
   "id": "824d56c4",
   "metadata": {},
   "outputs": [],
   "source": [
    "opt = optim.SGD(simple_cnn.parameters(), lr=lr/4)"
   ]
  },
  {
   "cell_type": "code",
   "execution_count": 117,
   "id": "3856c081",
   "metadata": {},
   "outputs": [
    {
     "name": "stdout",
     "output_type": "stream",
     "text": [
      "0 0.08492271656990051 0.9759999994277954\n",
      "1 0.08389791004657746 0.9757999994277954\n",
      "2 0.07974473614692688 0.9763999995231628\n",
      "3 0.07951399259567261 0.9769999994277954\n",
      "4 0.08151660356521606 0.9757999995231629\n"
     ]
    }
   ],
   "source": [
    "loss, acc = fit(5, simple_cnn.to(def_device), F.cross_entropy, opt, train_dl, valid_dl)"
   ]
  },
  {
   "cell_type": "code",
   "execution_count": 100,
   "id": "7bbffdb4",
   "metadata": {},
   "outputs": [],
   "source": [
    "def fit(epochs, model, loss_func, opt, train_dl, valid_dl):\n",
    "    for epoch in range(epochs):\n",
    "        model.train()\n",
    "        for xb,yb in train_dl:\n",
    "            loss = loss_func(model(xb), yb)\n",
    "#             print(model(xb), yb)\n",
    "            loss.backward()\n",
    "            opt.step()\n",
    "            opt.zero_grad()\n",
    "\n",
    "        model.eval()\n",
    "        with torch.no_grad():\n",
    "            tot_loss,tot_acc,count = 0.,0.,0\n",
    "            for xb,yb in valid_dl:\n",
    "                pred = model(xb)\n",
    "                n = len(xb)\n",
    "                count += n\n",
    "                tot_loss += loss_func(pred,yb).item()*n\n",
    "                tot_acc  += accuracy (pred,yb).item()*n\n",
    "        print(epoch, tot_loss/count, tot_acc/count)\n",
    "    return tot_loss/count, tot_acc/count"
   ]
  },
  {
   "cell_type": "code",
   "execution_count": 85,
   "id": "018d259c",
   "metadata": {},
   "outputs": [
    {
     "data": {
      "text/plain": [
       "tensor(9.0114)"
      ]
     },
     "execution_count": 85,
     "metadata": {},
     "output_type": "execute_result"
    }
   ],
   "source": [
    "a = torch.tensor([[1,2,3,4,10,4,3,2,1,2,3,4]]).float()\n",
    "b = torch.tensor([0])\n",
    "F.cross_entropy(a,b)"
   ]
  },
  {
   "cell_type": "code",
   "execution_count": null,
   "id": "f5f36e23",
   "metadata": {},
   "outputs": [],
   "source": []
  }
 ],
 "metadata": {
  "kernelspec": {
   "display_name": "Python 3 (ipykernel)",
   "language": "python",
   "name": "python3"
  },
  "language_info": {
   "codemirror_mode": {
    "name": "ipython",
    "version": 3
   },
   "file_extension": ".py",
   "mimetype": "text/x-python",
   "name": "python",
   "nbconvert_exporter": "python",
   "pygments_lexer": "ipython3",
   "version": "3.10.6"
  }
 },
 "nbformat": 4,
 "nbformat_minor": 5
}
