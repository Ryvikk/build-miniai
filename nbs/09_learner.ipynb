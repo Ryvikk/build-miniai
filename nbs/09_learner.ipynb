{
 "cells": [
  {
   "cell_type": "code",
   "execution_count": 5,
   "id": "b8ef4ef0",
   "metadata": {},
   "outputs": [],
   "source": [
    "#| default_exp learner"
   ]
  },
  {
   "cell_type": "code",
   "execution_count": 1,
   "id": "ab2073d4",
   "metadata": {},
   "outputs": [],
   "source": [
    "#|export\n",
    "import math, torch, matplotlib.pyplot as plt\n",
    "import fastcore.all as fc\n",
    "from collections.abc import Mapping\n",
    "from operator import attrgetter, itemgetter\n",
    "from functools import partial\n",
    "from copy import copy\n",
    "\n",
    "from torch import optim\n",
    "from torch.utils.data import DataLoader, default_collate\n",
    "import torch.nn.functional as F\n",
    "\n",
    "from miniai.conv import *\n",
    "from miniai.training import *\n",
    "\n",
    "from fastprogress import progress_bar, master_bar"
   ]
  },
  {
   "cell_type": "code",
   "execution_count": 7,
   "id": "3718cc96",
   "metadata": {},
   "outputs": [],
   "source": [
    "#|export\n",
    "from contextlib import contextmanager"
   ]
  },
  {
   "cell_type": "code",
   "execution_count": 8,
   "id": "4654db4f",
   "metadata": {},
   "outputs": [],
   "source": [
    "import matplotlib as mpl\n",
    "import matplotlib.pyplot as plt\n",
    "import torchvision.transforms.functional as TF\n",
    "\n",
    "from torch import nn, tensor\n",
    "from datasets import load_dataset, load_dataset_builder\n",
    "from miniai.datasets import *\n",
    "import logging\n",
    "from fastcore.test import test_close"
   ]
  },
  {
   "cell_type": "code",
   "execution_count": 9,
   "id": "ad432116",
   "metadata": {},
   "outputs": [],
   "source": [
    "torch.set_printoptions(precision=2, linewidth=140, sci_mode=False)\n",
    "torch.manual_seed(1)\n",
    "mpl.rcParams['image.cmap'] = 'gray'"
   ]
  },
  {
   "cell_type": "code",
   "execution_count": 10,
   "id": "4a863e48",
   "metadata": {},
   "outputs": [],
   "source": [
    "logging.disable(logging.WARNING)"
   ]
  },
  {
   "cell_type": "markdown",
   "id": "036c3d40",
   "metadata": {},
   "source": [
    "##### Quick look into fascore store_attr()"
   ]
  },
  {
   "cell_type": "markdown",
   "id": "247d045d",
   "metadata": {},
   "source": [
    "`store_attr` uses `sys._getframe(1)` to get the attributes of the calling funciton. With `sys._getframe(1).f_code` to extract the name of the calling function (passing 0 for the presentframe, 1 for the previous frame, etc) and attributes with `sys._getframe(1).f_code.co_varnames`\n",
    "\n",
    "A few examples:"
   ]
  },
  {
   "cell_type": "code",
   "execution_count": 11,
   "id": "950aa09e",
   "metadata": {},
   "outputs": [],
   "source": [
    "import fastcore.all as fc"
   ]
  },
  {
   "cell_type": "code",
   "execution_count": 7,
   "id": "33764e26",
   "metadata": {},
   "outputs": [],
   "source": [
    "fc.store_attr??"
   ]
  },
  {
   "cell_type": "code",
   "execution_count": 8,
   "id": "965143b9",
   "metadata": {},
   "outputs": [],
   "source": [
    "def whoami():\n",
    "    import sys\n",
    "    return sys._getframe(0).f_code.co_name"
   ]
  },
  {
   "cell_type": "code",
   "execution_count": 9,
   "id": "c8f5295d",
   "metadata": {},
   "outputs": [],
   "source": [
    "me = whoami()"
   ]
  },
  {
   "cell_type": "code",
   "execution_count": 10,
   "id": "2774fe6c",
   "metadata": {},
   "outputs": [
    {
     "data": {
      "text/plain": [
       "'whoami'"
      ]
     },
     "execution_count": 10,
     "metadata": {},
     "output_type": "execute_result"
    }
   ],
   "source": [
    "me"
   ]
  },
  {
   "cell_type": "code",
   "execution_count": 11,
   "id": "066bb25d",
   "metadata": {},
   "outputs": [
    {
     "name": "stdout",
     "output_type": "stream",
     "text": [
      "<frame at 0x7fdc040162a0, file '/tmp/ipykernel_150/1935095476.py', line 3, code __init__>\n"
     ]
    }
   ],
   "source": [
    "class Test():\n",
    "    def __init__(self):\n",
    "        print(self.whoami())\n",
    "        self.ok = self.whoami()\n",
    "        \n",
    "    @classmethod\n",
    "    def whoami(self):\n",
    "        import sys\n",
    "        return sys._getframe(1)#.f_code.co_name\n",
    "\n",
    "me  = Test()"
   ]
  },
  {
   "cell_type": "code",
   "execution_count": 10,
   "id": "0ef54f5c",
   "metadata": {},
   "outputs": [
    {
     "data": {
      "text/plain": [
       "('self',)"
      ]
     },
     "execution_count": 10,
     "metadata": {},
     "output_type": "execute_result"
    }
   ],
   "source": [
    "me.ok.f_code.co_varnames"
   ]
  },
  {
   "cell_type": "code",
   "execution_count": 11,
   "id": "06e3b2cf",
   "metadata": {},
   "outputs": [
    {
     "data": {
      "text/plain": [
       "<code object __init__ at 0x7f09d7cda810, file \"/tmp/ipykernel_107/1935095476.py\", line 2>"
      ]
     },
     "execution_count": 11,
     "metadata": {},
     "output_type": "execute_result"
    }
   ],
   "source": [
    "getattr(me.ok, 'f_code')"
   ]
  },
  {
   "cell_type": "code",
   "execution_count": 12,
   "id": "fa13eb99",
   "metadata": {
    "scrolled": true
   },
   "outputs": [
    {
     "data": {
      "text/plain": [
       "{'self': <__main__.Test at 0x7f09d7c2b070>}"
      ]
     },
     "execution_count": 12,
     "metadata": {},
     "output_type": "execute_result"
    }
   ],
   "source": [
    "me.ok.f_locals"
   ]
  },
  {
   "cell_type": "markdown",
   "id": "338d9b1b",
   "metadata": {},
   "source": [
    "##### Details in DataLoaders and collate_dict"
   ]
  },
  {
   "cell_type": "code",
   "execution_count": 12,
   "id": "77cfbefb",
   "metadata": {},
   "outputs": [],
   "source": [
    "class DataLoaders:\n",
    "    def __init__(self, *dls): self.train, self.valid = dls[:2]\n",
    "        \n",
    "    @classmethod\n",
    "    def from_dd(cls, dd, batch_size, as_tuple=True):\n",
    "        return cls(*[DataLoader(ds, batch_size, num_workers=4, collate_fn=collate_dict(ds)) for ds in dd.values()])"
   ]
  },
  {
   "cell_type": "code",
   "execution_count": 8,
   "id": "3fd684ce",
   "metadata": {},
   "outputs": [],
   "source": [
    "get_dls??"
   ]
  },
  {
   "cell_type": "code",
   "execution_count": 118,
   "id": "64044473",
   "metadata": {},
   "outputs": [],
   "source": [
    "collate_dict??"
   ]
  },
  {
   "cell_type": "code",
   "execution_count": 114,
   "id": "1adb65d0",
   "metadata": {},
   "outputs": [],
   "source": [
    "default_collate??"
   ]
  },
  {
   "cell_type": "code",
   "execution_count": 13,
   "id": "103f7a33",
   "metadata": {},
   "outputs": [],
   "source": [
    "from operator import itemgetter"
   ]
  },
  {
   "cell_type": "code",
   "execution_count": 9,
   "id": "0376c29f",
   "metadata": {},
   "outputs": [],
   "source": [
    "d = {'a':1, 'b':2, 'c':3, 'g':10, 'u':-1}"
   ]
  },
  {
   "cell_type": "code",
   "execution_count": 10,
   "id": "1478cfd2",
   "metadata": {},
   "outputs": [],
   "source": [
    "feat = list(d.keys())[2:5]"
   ]
  },
  {
   "cell_type": "code",
   "execution_count": 127,
   "id": "c905c666",
   "metadata": {},
   "outputs": [
    {
     "data": {
      "text/plain": [
       "(3, 10, -1)"
      ]
     },
     "execution_count": 127,
     "metadata": {},
     "output_type": "execute_result"
    }
   ],
   "source": [
    "get = itemgetter(*feat)\n",
    "get(d)"
   ]
  },
  {
   "cell_type": "code",
   "execution_count": 126,
   "id": "b6cd4df4",
   "metadata": {},
   "outputs": [
    {
     "data": {
      "text/plain": [
       "(1, 2, 3, 10, -1)"
      ]
     },
     "execution_count": 126,
     "metadata": {},
     "output_type": "execute_result"
    }
   ],
   "source": [
    "get = itemgetter(*d)\n",
    "get(d)"
   ]
  },
  {
   "cell_type": "markdown",
   "id": "559a11f7",
   "metadata": {},
   "source": [
    "#### Learner"
   ]
  },
  {
   "cell_type": "code",
   "execution_count": 14,
   "id": "0fa5a0ef",
   "metadata": {},
   "outputs": [
    {
     "data": {
      "application/vnd.jupyter.widget-view+json": {
       "model_id": "be8e816df9904f5586c51dfbe63c0001",
       "version_major": 2,
       "version_minor": 0
      },
      "text/plain": [
       "  0%|          | 0/2 [00:00<?, ?it/s]"
      ]
     },
     "metadata": {},
     "output_type": "display_data"
    }
   ],
   "source": [
    "x, y = 'image', 'label'\n",
    "name = 'fashion_mnist'\n",
    "dsd = load_dataset(name) # dataset dict"
   ]
  },
  {
   "cell_type": "code",
   "execution_count": 15,
   "id": "17b3cc8c",
   "metadata": {},
   "outputs": [],
   "source": [
    "@inplace\n",
    "def transformi(b): b[x] = [torch.flatten(TF.to_tensor(o)) for o in b[x]]"
   ]
  },
  {
   "cell_type": "code",
   "execution_count": 16,
   "id": "ba2d00c9",
   "metadata": {},
   "outputs": [
    {
     "data": {
      "text/plain": [
       "torch.Size([784])"
      ]
     },
     "execution_count": 16,
     "metadata": {},
     "output_type": "execute_result"
    }
   ],
   "source": [
    "torch.flatten(TF.to_tensor(dsd['train'][0][x])).shape"
   ]
  },
  {
   "cell_type": "code",
   "execution_count": 17,
   "id": "4d54106c",
   "metadata": {},
   "outputs": [],
   "source": [
    "bs = 1024\n",
    "tds = dsd.with_transform(transformi) # transformed dataset"
   ]
  },
  {
   "cell_type": "code",
   "execution_count": 18,
   "id": "adb0da58",
   "metadata": {},
   "outputs": [
    {
     "data": {
      "text/plain": [
       "(torch.Size([1024, 784]), tensor([9, 0, 0, 3, 0]))"
      ]
     },
     "execution_count": 18,
     "metadata": {},
     "output_type": "execute_result"
    }
   ],
   "source": [
    "dls = DataLoaders.from_dd(tds, bs) # dataloaders\n",
    "dt = dls.train\n",
    "xb, yb = next(iter(dt))\n",
    "xb.shape, yb[:5]"
   ]
  },
  {
   "cell_type": "code",
   "execution_count": 1,
   "id": "f0db5e2d",
   "metadata": {},
   "outputs": [],
   "source": [
    "# class Learner:\n",
    "#     def __init__(self, model, dls, loss_func, lr, opt_func=optim.SGD): fc.store_attr()\n",
    "    \n",
    "#     def one_batch(self):\n",
    "#         self.xb,self.yb = to_device(self.batch)\n",
    "#         self.preds = model(self.xb)\n",
    "#         self.loss = self.loss_func(self.preds, self.yb)\n",
    "#         if self.model.training:\n",
    "#             self.loss.backward()\n",
    "#             self.opt.step()\n",
    "#             self.opt.zero_grad()\n",
    "#         with torch.no_grad(): self.calc_stats()\n",
    "                            \n",
    "#     def calc_stats(self):\n",
    "#         acc = (self.preds.argmax(dim=1)==self.yb).float().sum()\n",
    "#         self.accs.append(acc)\n",
    "#         n = len(self.xb)\n",
    "#         self.losses.append(self.loss*n)\n",
    "#         self.ns.append(n)\n",
    "        \n",
    "#     def one_epoch(self, train):\n",
    "#         self.model.training = train\n",
    "#         dl = self.dls.train if train else self.dls.valid\n",
    "#         for self.num, self.batch in enumerate(dl): self.one_batch()\n",
    "#         n = sum(self.ns)\n",
    "#         print(self.epoch, self.model.training, sum(self.losses).item()/n, sum(self.accs).item()/n)\n",
    "\n",
    "#     def fit(self, n_epochs):\n",
    "#         self.accs, self.losses, self.ns = [], [], []\n",
    "#         self.model.to(def_device)\n",
    "#         self.opt = self.opt_func(self.model.parameters(), self.lr)\n",
    "#         self.n_epoch = n_epochs\n",
    "#         for self.epoch in range(n_epochs):\n",
    "#             self.one_epoch(True)\n",
    "#             self.one_epoch(False)    "
   ]
  },
  {
   "cell_type": "code",
   "execution_count": 20,
   "id": "73c56420",
   "metadata": {},
   "outputs": [],
   "source": [
    "m, nh = 28*28, 50\n",
    "model = nn.Sequential(nn.Linear(m,nh), nn.ReLU(), nn.Linear(nh, 10))"
   ]
  },
  {
   "cell_type": "code",
   "execution_count": 17,
   "id": "e5dd8da6",
   "metadata": {},
   "outputs": [
    {
     "name": "stdout",
     "output_type": "stream",
     "text": [
      "0 True 1.1852192708333333 0.59565\n",
      "0 False 1.1349698660714285 0.6088142857142858\n"
     ]
    }
   ],
   "source": [
    "learn = Learner(model, dls, F.cross_entropy, lr=0.2)\n",
    "learn.fit(1)"
   ]
  },
  {
   "cell_type": "code",
   "execution_count": 18,
   "id": "1c0fd4c6",
   "metadata": {},
   "outputs": [
    {
     "data": {
      "text/plain": [
       "True"
      ]
     },
     "execution_count": 18,
     "metadata": {},
     "output_type": "execute_result"
    }
   ],
   "source": [
    "torch.cuda.is_available()"
   ]
  },
  {
   "cell_type": "markdown",
   "id": "3c019dee",
   "metadata": {},
   "source": [
    "#### Trying the architecture with decorators:"
   ]
  },
  {
   "cell_type": "code",
   "execution_count": 21,
   "id": "03c816bd",
   "metadata": {},
   "outputs": [],
   "source": [
    "import time"
   ]
  },
  {
   "cell_type": "markdown",
   "id": "a45a76aa",
   "metadata": {},
   "source": [
    "The `CancelCustomException(Exceptions)`s are used to control the flow of the program and to only catch passing flags that are raised in the callbacks when a section of the learner's steps should not run. <br> \n",
    "So the `try`/`except` and custom `Exceptions` are a smart but unusual way to interact dynamically with the execution of the Learner."
   ]
  },
  {
   "cell_type": "code",
   "execution_count": 22,
   "id": "7c192b2f",
   "metadata": {},
   "outputs": [],
   "source": [
    "class CancelKeygenException(Exception): pass\n",
    "class CancelStatusException(Exception): pass"
   ]
  },
  {
   "cell_type": "markdown",
   "id": "d01e0f5a",
   "metadata": {},
   "source": [
    "The try/except and callbacks calls are hidden inside the decorator:"
   ]
  },
  {
   "cell_type": "code",
   "execution_count": 23,
   "id": "3096d3fb",
   "metadata": {},
   "outputs": [],
   "source": [
    "class Capsule():\n",
    "    def __init__(self, name): \n",
    "        self.name = name\n",
    "        \n",
    "    def __call__(self, f):\n",
    "        def _f(o, *args):\n",
    "            try:\n",
    "                print(f'- I am inside a {self.name} capsule -')\n",
    "                o.run_capsules(f'{self.name}_')\n",
    "                f(o, *args)\n",
    "            except globals()[f'Cancel{self.name.title()}Exception']: pass\n",
    "        return _f"
   ]
  },
  {
   "cell_type": "code",
   "execution_count": 24,
   "id": "42503f31",
   "metadata": {},
   "outputs": [],
   "source": [
    "class Monitor():\n",
    "    def keygen_(self):\n",
    "        print('I divide the key by 10:')\n",
    "        self.caller._key /= 10\n",
    "        print(f'Key: {self.caller._key}')"
   ]
  },
  {
   "cell_type": "code",
   "execution_count": 25,
   "id": "7b9b557a",
   "metadata": {},
   "outputs": [],
   "source": [
    "class Descriptor():\n",
    "    def status_(self):\n",
    "        print(f'About to decode with key {self.caller._key}')\n",
    "        for i in range(3):\n",
    "            time.sleep(0.5)\n",
    "            print('.')\n",
    "        print('Here:')"
   ]
  },
  {
   "cell_type": "code",
   "execution_count": 36,
   "id": "373833f3",
   "metadata": {},
   "outputs": [],
   "source": [
    "class Builder():\n",
    "    def __init__(self, seq, key, capsules):\n",
    "        self.seq = seq\n",
    "        self._key = key\n",
    "        self.capsules = capsules\n",
    "        for c in capsules:\n",
    "            c.caller = self\n",
    "    \n",
    "    @Capsule('keygen')\n",
    "    def _decode(self, x):\n",
    "#         import pdb; pdb.set_trace()\n",
    "        self.val = (self.seq*self._key/x).sum()\n",
    "    \n",
    "    @Capsule('status')\n",
    "    def status(self, x):\n",
    "        self._decode(x)\n",
    "        print(f'Value: {self.val}')\n",
    "    \n",
    "    def run_capsules(self, name): \n",
    "        for c in self.capsules: \n",
    "            method = getattr(c, name, None)  \n",
    "            if method is not None: method()"
   ]
  },
  {
   "cell_type": "markdown",
   "id": "9090be67",
   "metadata": {},
   "source": [
    "The use `getattr(c, name, identity)()` garanties that if the attribute name exists it will be found but if not, it defaults to None, so no Error `AttributeError` will be raised."
   ]
  },
  {
   "cell_type": "code",
   "execution_count": 37,
   "id": "33cb2067",
   "metadata": {},
   "outputs": [],
   "source": [
    "seq = [1,4,5,4,6,7,8,4,5,1,1,2,6,5,4,9,8,7,5,6,6,5,4,1,3,5,4,5,6,5]\n",
    "build = Builder(tensor(seq), 3, [Monitor(), Descriptor()])"
   ]
  },
  {
   "cell_type": "code",
   "execution_count": 38,
   "id": "042a70b0",
   "metadata": {},
   "outputs": [
    {
     "name": "stdout",
     "output_type": "stream",
     "text": [
      "- I am inside a status capsule -\n",
      "About to decode with key 3\n",
      ".\n",
      ".\n",
      ".\n",
      "Here:\n",
      "- I am inside a keygen capsule -\n",
      "I divide the key by 10:\n",
      "Key: 0.3\n",
      "Value: 0.2840000092983246\n"
     ]
    }
   ],
   "source": [
    "build.status(150)"
   ]
  },
  {
   "cell_type": "markdown",
   "id": "f5b4853e",
   "metadata": {},
   "source": [
    "So the architecture of the flexible learner revolves around :\n",
    "- the use of Callbacks to execute custom code\n",
    "- control flow with try/except and custom Exception flags\n",
    "- decorators or context managers that contain the versatile mecanics and keep the code light"
   ]
  },
  {
   "cell_type": "markdown",
   "id": "e97c55d6",
   "metadata": {},
   "source": [
    "#### Trying the architecture with context managers:"
   ]
  },
  {
   "cell_type": "code",
   "execution_count": 23,
   "id": "de0f652e",
   "metadata": {},
   "outputs": [],
   "source": [
    "class DataLoaders:\n",
    "    def __init__(self, *dls): self.train,self.valid = dls[:2]\n",
    "\n",
    "    @classmethod\n",
    "    def from_dd(cls, dd, batch_size, as_tuple=True, **kwargs):\n",
    "        f = collate_dict(dd['train'])\n",
    "        return cls(*get_dls(*dd.values(), bs=batch_size, collate_fn=f, **kwargs))"
   ]
  },
  {
   "cell_type": "code",
   "execution_count": 24,
   "id": "05029db9",
   "metadata": {},
   "outputs": [
    {
     "data": {
      "text/plain": [
       "(torch.Size([1024, 784]), tensor([6, 0, 9, 7, 4]))"
      ]
     },
     "execution_count": 24,
     "metadata": {},
     "output_type": "execute_result"
    }
   ],
   "source": [
    "dls = DataLoaders.from_dd(tds, bs) # dataloaders\n",
    "dt = dls.train\n",
    "xb, yb = next(iter(dt))\n",
    "xb.shape, yb[:5]"
   ]
  },
  {
   "cell_type": "code",
   "execution_count": 25,
   "id": "bcf9a3f7",
   "metadata": {},
   "outputs": [],
   "source": [
    "#|export\n",
    "class CancelFitException(Exception): pass\n",
    "class CancelBatchException(Exception): pass\n",
    "class CancelEpochException(Exception): pass"
   ]
  },
  {
   "cell_type": "code",
   "execution_count": 26,
   "id": "7af775f8",
   "metadata": {},
   "outputs": [],
   "source": [
    "#|export\n",
    "def run_cbs(cbs, method_nm):\n",
    "    for cb in sorted(cbs, key=attrgetter('order')):\n",
    "        method = getattr(cb, method_nm, None)\n",
    "        if method is not None: method()"
   ]
  },
  {
   "cell_type": "code",
   "execution_count": 27,
   "id": "fc420579",
   "metadata": {},
   "outputs": [],
   "source": [
    "#|export\n",
    "class Callback(): order = 0"
   ]
  },
  {
   "cell_type": "code",
   "execution_count": 29,
   "id": "a1728ae8",
   "metadata": {},
   "outputs": [],
   "source": [
    "class CompletionCB(Callback):\n",
    "    def before_fit(self): self.count = 0\n",
    "    def after_batch(self): self.count += 1\n",
    "    def after_fit(self): print(f'Completed {self.count} batches')"
   ]
  },
  {
   "cell_type": "code",
   "execution_count": 45,
   "id": "948a0893",
   "metadata": {},
   "outputs": [
    {
     "name": "stdout",
     "output_type": "stream",
     "text": [
      "Completed 1 batches\n"
     ]
    }
   ],
   "source": [
    "cbs = [CompletionCB()]\n",
    "run_cbs(cbs, 'before_fit')\n",
    "run_cbs(cbs, 'after_batch')\n",
    "run_cbs(cbs, 'after_fit')"
   ]
  },
  {
   "cell_type": "markdown",
   "id": "5bd74b45",
   "metadata": {},
   "source": [
    "Frist step before the use context managers:"
   ]
  },
  {
   "cell_type": "code",
   "execution_count": 30,
   "id": "296c1862",
   "metadata": {},
   "outputs": [],
   "source": [
    "class Learner():\n",
    "    def __init__(self, model, dls, loss_func, lr, cbs, opt_func=optim.SGD):\n",
    "        fc.store_attr()\n",
    "        for cb in cbs: cb.learn = self\n",
    "            \n",
    "    def one_batch(self):\n",
    "        self.preds = self.model(self.batch[0])\n",
    "        self.loss = self.loss_func(self.preds, self.batch[1])\n",
    "        if self.model.training:\n",
    "            self.loss.backward()\n",
    "            self.opt.step()\n",
    "            self.opt.zero_grad()\n",
    "    \n",
    "    def one_epoch(self, train):\n",
    "        self.model.train(train)\n",
    "        self.dl = self.dls.train if train else self.dls.valid\n",
    "        try:\n",
    "            self.callback('before_epoch')\n",
    "            for self.iter, self.batch in enumerate(self.dl):\n",
    "                try:\n",
    "                    self.callback('before_batch')\n",
    "                    self.one_batch()\n",
    "                    self.callback('after_batch')\n",
    "                except CancelBatchException: pass\n",
    "            self.callback('after_epoch')\n",
    "        except CancelEpochException: pass\n",
    "        \n",
    "    def fit(self, n_epochs):\n",
    "        self.n_epochs = n_epochs\n",
    "        self.epochs = range(n_epochs)\n",
    "        self.opt = self.opt_func(self.model.parameters(), self.lr)\n",
    "        try:\n",
    "            self.callback('before_fit')\n",
    "            for self.epoch in self.epochs:\n",
    "                self.one_epoch(True)\n",
    "                self.one_epoch(False)\n",
    "            self.callback('after_fit')\n",
    "        except CancelFitException: pass\n",
    "        \n",
    "    def callback(self, method_nm): run_cbs(self.cbs, method_nm)"
   ]
  },
  {
   "cell_type": "code",
   "execution_count": 31,
   "id": "1e6591ad",
   "metadata": {},
   "outputs": [],
   "source": [
    "m, nh = 28*28, 50\n",
    "def get_model(): return nn.Sequential(nn.Sequential(nn.Linear(m,nh), nn.ReLU(), nn.Linear(nh, 10)))"
   ]
  },
  {
   "cell_type": "code",
   "execution_count": 48,
   "id": "c6462155",
   "metadata": {},
   "outputs": [],
   "source": [
    "model = get_model()\n",
    "learn = Learner(model, dls, F.cross_entropy, lr=0.2, cbs=[CompletionCB()])"
   ]
  },
  {
   "cell_type": "code",
   "execution_count": 49,
   "id": "cd19f266",
   "metadata": {},
   "outputs": [
    {
     "name": "stdout",
     "output_type": "stream",
     "text": [
      "Completed 64 batches\n"
     ]
    }
   ],
   "source": [
    "learn.fit(1)"
   ]
  },
  {
   "cell_type": "code",
   "execution_count": 32,
   "id": "65ed919d",
   "metadata": {},
   "outputs": [],
   "source": [
    "#|export\n",
    "class SingleBatchCB(Callback):\n",
    "    order = 1\n",
    "    def after_batch(self): raise CancelEpochException()"
   ]
  },
  {
   "cell_type": "code",
   "execution_count": 51,
   "id": "062c22db",
   "metadata": {},
   "outputs": [],
   "source": [
    "model = get_model()\n",
    "learn = Learner(model, dls, F.cross_entropy, lr=0.2, cbs=[SingleBatchCB(), CompletionCB()])"
   ]
  },
  {
   "cell_type": "code",
   "execution_count": 52,
   "id": "4bd55403",
   "metadata": {},
   "outputs": [
    {
     "name": "stdout",
     "output_type": "stream",
     "text": [
      "Completed 2 batches\n"
     ]
    }
   ],
   "source": [
    "learn.fit(1)"
   ]
  },
  {
   "cell_type": "markdown",
   "id": "b6763b45",
   "metadata": {},
   "source": [
    "#### Metrics"
   ]
  },
  {
   "cell_type": "markdown",
   "id": "ef65e6f1",
   "metadata": {},
   "source": [
    "The Metric class will by default calculate the weighted sum of all the added values:"
   ]
  },
  {
   "cell_type": "code",
   "execution_count": 33,
   "id": "9d380790",
   "metadata": {},
   "outputs": [],
   "source": [
    "class Metric():\n",
    "    def __init__(self): \n",
    "        self.reset()\n",
    "        \n",
    "    def reset(self): \n",
    "        self.vals = []\n",
    "        self.ns = []\n",
    "        \n",
    "    def add(self, inp, targ=None, n=1):\n",
    "        self.last = self.calc(inp, targ)\n",
    "        self.vals.append(self.last)\n",
    "        self.ns.append(n)\n",
    "    \n",
    "    @property\n",
    "    def value(self):\n",
    "        ns = tensor(self.ns)\n",
    "        return (tensor(self.vals)*ns).sum()/ns.sum()\n",
    "    \n",
    "    def calc(self, inps, targs):\n",
    "        return inps"
   ]
  },
  {
   "cell_type": "code",
   "execution_count": 54,
   "id": "12f9513b",
   "metadata": {},
   "outputs": [
    {
     "data": {
      "text/plain": [
       "(tensor(14.11), 14.11)"
      ]
     },
     "execution_count": 54,
     "metadata": {},
     "output_type": "execute_result"
    }
   ],
   "source": [
    "metric_0 = Metric()\n",
    "metric_0.add(10, n=5)\n",
    "metric_0.add(15, n=3)\n",
    "metric_0.add(3, n=1)\n",
    "metric_0.add(17, n=10)\n",
    "metric_0.value, round((10*5 + 15*3 + 3*1 + 17*10)/(5+3+1+10),2)"
   ]
  },
  {
   "cell_type": "code",
   "execution_count": 34,
   "id": "d7de48b0",
   "metadata": {},
   "outputs": [],
   "source": [
    "class Accuracy(Metric):\n",
    "    def calc(self, inps, targs): return (inps==targs).float().mean()"
   ]
  },
  {
   "cell_type": "code",
   "execution_count": 35,
   "id": "f04b1e6d",
   "metadata": {},
   "outputs": [],
   "source": [
    "class EvenCount(Metric):\n",
    "    def calc(self, inp, targ=None): return 1 if inp%2==0 else 0"
   ]
  },
  {
   "cell_type": "code",
   "execution_count": 57,
   "id": "a92afb9c",
   "metadata": {},
   "outputs": [],
   "source": [
    "seq = [5,1,2,4,6,7,8,4,5,1,3,5,9,8,7,7,4,5,1,3,2,1,3,5,6,8,4,5,4,63,2,1,85,4,8,5,4,65,2,1,5,6,5,1,5]\n",
    "\n",
    "counter = EvenCount()\n",
    "\n",
    "def run(seq, metr):\n",
    "    for i in seq:\n",
    "        metr.add(i)"
   ]
  },
  {
   "cell_type": "code",
   "execution_count": 58,
   "id": "9064dfaf",
   "metadata": {},
   "outputs": [],
   "source": [
    "run(seq, counter)"
   ]
  },
  {
   "cell_type": "code",
   "execution_count": 59,
   "id": "2228728d",
   "metadata": {},
   "outputs": [
    {
     "data": {
      "text/plain": [
       "[0, 0, 1]"
      ]
     },
     "execution_count": 59,
     "metadata": {},
     "output_type": "execute_result"
    }
   ],
   "source": [
    "counter.vals[:3]"
   ]
  },
  {
   "cell_type": "code",
   "execution_count": 60,
   "id": "feac9023",
   "metadata": {},
   "outputs": [
    {
     "data": {
      "text/plain": [
       "tensor(0.40)"
      ]
     },
     "execution_count": 60,
     "metadata": {},
     "output_type": "execute_result"
    }
   ],
   "source": [
    "counter.value"
   ]
  },
  {
   "cell_type": "markdown",
   "id": "aec8a50c",
   "metadata": {},
   "source": [
    "#### Other useful callbacks"
   ]
  },
  {
   "cell_type": "code",
   "execution_count": 36,
   "id": "848ee4e4",
   "metadata": {},
   "outputs": [],
   "source": [
    "#|export\n",
    "class DeviceCB(Callback):\n",
    "    def __init__(self, device=def_device): fc.store_attr()\n",
    "    def before_fit(self): self.learn.model.to(self.device)\n",
    "    def before_batch(self): self.learn.batch = to_device(self.learn.batch, device=self.device)"
   ]
  },
  {
   "cell_type": "code",
   "execution_count": 62,
   "id": "8713d2ea",
   "metadata": {},
   "outputs": [],
   "source": [
    "model = get_model()\n",
    "learn = Learner(model, dls, F.cross_entropy, lr=0.2, cbs=[DeviceCB(), CompletionCB()])"
   ]
  },
  {
   "cell_type": "code",
   "execution_count": 63,
   "id": "4deeeb51",
   "metadata": {},
   "outputs": [
    {
     "name": "stdout",
     "output_type": "stream",
     "text": [
      "Completed 64 batches\n"
     ]
    }
   ],
   "source": [
    "learn.fit(1)"
   ]
  },
  {
   "cell_type": "markdown",
   "id": "b925816b",
   "metadata": {},
   "source": [
    "We can use the torcheval module with many metrics already implemented, instead of `add` torcheval uses `update`, and `calc` is `compute`:"
   ]
  },
  {
   "cell_type": "code",
   "execution_count": 37,
   "id": "ff5ea5b0",
   "metadata": {},
   "outputs": [],
   "source": [
    "#|export\n",
    "from torcheval.metrics import MulticlassAccuracy, Mean"
   ]
  },
  {
   "cell_type": "code",
   "execution_count": 38,
   "id": "767bc3c1",
   "metadata": {},
   "outputs": [
    {
     "data": {
      "text/plain": [
       "tensor(0.50)"
      ]
     },
     "execution_count": 38,
     "metadata": {},
     "output_type": "execute_result"
    }
   ],
   "source": [
    "metric = MulticlassAccuracy()\n",
    "metric.update(tensor([1,3,4,5]), tensor([1,5,8,5]))\n",
    "metric.compute()"
   ]
  },
  {
   "cell_type": "code",
   "execution_count": 73,
   "id": "5981003e",
   "metadata": {},
   "outputs": [
    {
     "data": {
      "text/plain": [
       "tensor(nan)"
      ]
     },
     "execution_count": 73,
     "metadata": {},
     "output_type": "execute_result"
    }
   ],
   "source": [
    "metric.reset()\n",
    "metric.compute()"
   ]
  },
  {
   "cell_type": "code",
   "execution_count": 72,
   "id": "c400b0c8",
   "metadata": {},
   "outputs": [],
   "source": [
    "MulticlassAccuracy??"
   ]
  },
  {
   "cell_type": "code",
   "execution_count": 39,
   "id": "727ef8ad",
   "metadata": {},
   "outputs": [],
   "source": [
    "#|export\n",
    "def to_cpu(x):\n",
    "    if isinstance(x, Mapping): return {k:to_cpu(v) for k,v in x.items()}\n",
    "    if isinstance(x, list): return [to_cpu(v) for v in x]\n",
    "    if isinstance(x, tuple): return tuple(to_cpu(list(x)))\n",
    "    return x.detach().cpu()"
   ]
  },
  {
   "cell_type": "code",
   "execution_count": 40,
   "id": "858e60dc",
   "metadata": {},
   "outputs": [],
   "source": [
    "#|export\n",
    "class MetricsCB(Callback):\n",
    "    def __init__(self, *ms, **metrics):\n",
    "        for o in ms: metrics[type(o).__name__] = o\n",
    "        self.metrics = metrics\n",
    "        self.all_metrics = copy(metrics)\n",
    "        self.all_metrics['loss'] = self.loss = Mean()\n",
    "            \n",
    "    def _log(self, d): print(d)\n",
    "    def before_fit(self): self.learn.metrics = self\n",
    "    def before_epoch(self): [o.reset() for o in self.all_metrics.values()]\n",
    "    def after_epoch(self):\n",
    "        log = {k:f'{v.compute():.3f}' for k,v in self.all_metrics.items()}\n",
    "        log['epoch'] = self.learn.epoch\n",
    "        log['train'] = self.learn.model.training\n",
    "        self._log(log)\n",
    "        \n",
    "    def after_batch(self):\n",
    "        x,y = to_cpu(self.learn.batch)\n",
    "        for m in self.metrics.values(): m.update(to_cpu(self.learn.preds), y)\n",
    "        self.loss.update(to_cpu(self.learn.loss), weight=len(x))"
   ]
  },
  {
   "cell_type": "code",
   "execution_count": 99,
   "id": "943d8901",
   "metadata": {},
   "outputs": [
    {
     "name": "stdout",
     "output_type": "stream",
     "text": [
      "{'MulticlassAccuracy': '0.607', 'loss': '1.149', 'epoch': 0, 'train': True}\n",
      "{'MulticlassAccuracy': '0.707', 'loss': '0.796', 'epoch': 0, 'train': False}\n"
     ]
    }
   ],
   "source": [
    "model = get_model()\n",
    "metrics = MetricsCB(MulticlassAccuracy())\n",
    "learn = Learner(model, dls, F.cross_entropy, lr=0.2, cbs=[DeviceCB(), metrics])\n",
    "learn.fit(1)"
   ]
  },
  {
   "cell_type": "code",
   "execution_count": 49,
   "id": "a9a7dc8c",
   "metadata": {},
   "outputs": [],
   "source": [
    "#|export\n",
    "class Learner():\n",
    "    def __init__(self, model, dls, loss_func, lr, cbs, opt_func=optim.SGD):\n",
    "        fc.store_attr()\n",
    "        for cb in cbs: cb.learn = self\n",
    "            \n",
    "    @contextmanager\n",
    "    def cbs_ctx(self, nm):\n",
    "        try:\n",
    "            self.callback(f'before_{nm}')\n",
    "            yield\n",
    "            self.callback(f'after_{nm}')\n",
    "        except globals()[f'Cancel{nm.title()}Exception']: pass\n",
    "        finally: self.callback(f'cleanup_{nm}')  \n",
    "    \n",
    "    def one_epoch(self, train):\n",
    "        self.model.train(train)\n",
    "        self.dl = self.dls.train if train else self.dls.valid\n",
    "        with self.cbs_ctx('epoch'):\n",
    "            for self.iter, self.batch in enumerate(self.dl):\n",
    "                with self.cbs_ctx('batch'):\n",
    "                    self.predict()\n",
    "                    self.get_loss()\n",
    "                    if self.model.training:\n",
    "                        self.backward()\n",
    "                        self.step()\n",
    "                        self.zero_grad()\n",
    "                        \n",
    "    def fit(self, n_epochs):\n",
    "        self.n_epochs = n_epochs\n",
    "        self.epochs = range(n_epochs)\n",
    "        self.opt = self.opt_func(self.model.parameters(), self.lr)\n",
    "        with self.cbs_ctx('fit'):\n",
    "            for self.epoch in self.epochs:\n",
    "                self.one_epoch(True)\n",
    "                self.one_epoch(False)\n",
    "    \n",
    "    def __getattr__(self, name):\n",
    "        if name in ('predict', 'get_loss', 'backward', 'step', 'zero_grad'): return partial(self.callback, name)\n",
    "        raise AttributeError(name)\n",
    "    \n",
    "    def callback(self, method_nm): run_cbs(self.cbs, method_nm)"
   ]
  },
  {
   "cell_type": "markdown",
   "id": "a0726473",
   "metadata": {},
   "source": [
    "We can see that the learner is now more compact, and there are new methods that are not defined in the class, `predict`, `get_loss`, `backward`, `step`, `zero_grad`. <br>\n",
    "These methods are not defined inside the class to allow for more flexibility, we'll use the same mechanism as with the other callbacks to run the code sections that we need.<br> \n",
    "First we need customize the `__getattr__` method to redirect the call to a callback containing the method's name, then we need to write a callback that contains these methods, such as the following:"
   ]
  },
  {
   "cell_type": "code",
   "execution_count": 42,
   "id": "d75a1891",
   "metadata": {},
   "outputs": [],
   "source": [
    "#|export\n",
    "class TrainCB(Callback):\n",
    "    def predict(self): self.learn.preds = self.learn.model(self.learn.batch[0])\n",
    "    def get_loss(self): self.learn.loss = self.learn.loss_func(self.learn.preds, self.learn.batch[1])\n",
    "    def backward(self): self.learn.loss.backward()\n",
    "    def step(self): self.learn.opt.step()\n",
    "    def zero_grad(self): self.learn.opt.zero_grad()"
   ]
  },
  {
   "cell_type": "code",
   "execution_count": 43,
   "id": "f2d7d175",
   "metadata": {},
   "outputs": [],
   "source": [
    "#|export\n",
    "class ProgressCB(Callback):\n",
    "    order = MetricsCB.order+1\n",
    "    def __init__(self, plot=False): self.plot = plot\n",
    "    def before_fit(self):\n",
    "        self.learn.epochs = self.mbar = master_bar(self.learn.epochs)\n",
    "        if hasattr(self.learn, 'metrics'): self.learn.metrics._log = self._log\n",
    "        self.losses = []\n",
    "    def _log(self, d): self.mbar.write(str(d))\n",
    "    def before_epoch(self): self.learn.dl = progress_bar(self.learn.dl, leave=False, parent=self.mbar)\n",
    "    def after_batch(self):\n",
    "        self.learn.dl.comment = f'{self.learn.loss:.3f}'\n",
    "        if self.plot and hasattr(self.learn, 'metrics') and self.learn.model.training:\n",
    "            self.losses.append(self.learn.loss.item())\n",
    "            self.mbar.update_graph([[fc.L.range(self.losses), self.losses]])"
   ]
  },
  {
   "cell_type": "code",
   "execution_count": 97,
   "id": "06aa3aa7",
   "metadata": {},
   "outputs": [],
   "source": [
    "# master_bar??"
   ]
  },
  {
   "cell_type": "code",
   "execution_count": 98,
   "id": "f6031043",
   "metadata": {},
   "outputs": [],
   "source": [
    "model = get_model()"
   ]
  },
  {
   "cell_type": "code",
   "execution_count": 99,
   "id": "84bb974d",
   "metadata": {},
   "outputs": [],
   "source": [
    "# cbs[0].get_loss??"
   ]
  },
  {
   "cell_type": "code",
   "execution_count": 58,
   "id": "2ddc987f",
   "metadata": {},
   "outputs": [
    {
     "data": {
      "text/html": [
       "\n",
       "<style>\n",
       "    /* Turns off some styling */\n",
       "    progress {\n",
       "        /* gets rid of default border in Firefox and Opera. */\n",
       "        border: none;\n",
       "        /* Needs to be in here for Safari polyfill so background images work as expected. */\n",
       "        background-size: auto;\n",
       "    }\n",
       "    progress:not([value]), progress:not([value])::-webkit-progress-bar {\n",
       "        background: repeating-linear-gradient(45deg, #7e7e7e, #7e7e7e 10px, #5c5c5c 10px, #5c5c5c 20px);\n",
       "    }\n",
       "    .progress-bar-interrupted, .progress-bar-interrupted::-webkit-progress-bar {\n",
       "        background: #F44336;\n",
       "    }\n",
       "</style>\n"
      ],
      "text/plain": [
       "<IPython.core.display.HTML object>"
      ]
     },
     "metadata": {},
     "output_type": "display_data"
    },
    {
     "data": {
      "text/html": [
       "{'accuracy': '0.600', 'loss': '1.217', 'epoch': 0, 'train': True}<p>{'accuracy': '0.658', 'loss': '0.893', 'epoch': 0, 'train': False}"
      ],
      "text/plain": [
       "<IPython.core.display.HTML object>"
      ]
     },
     "metadata": {},
     "output_type": "display_data"
    },
    {
     "data": {
      "image/png": "[encoded data removed]",
      "text/plain": [
       "<Figure size 600x400 with 1 Axes>"
      ]
     },
     "metadata": {},
     "output_type": "display_data"
    }
   ],
   "source": [
    "metrics = MetricsCB(accuracy=MulticlassAccuracy())\n",
    "cbs = [TrainCB(), DeviceCB(), metrics, ProgressCB(plot=True)]\n",
    "learn = Learner(model, dls, F.cross_entropy, lr=0.2, cbs=cbs)\n",
    "learn.fit(1)"
   ]
  },
  {
   "cell_type": "markdown",
   "id": "0d8c7a58",
   "metadata": {},
   "source": [
    "We can also choose to not use callbacks for the structural methods `predict`, `get_loss`, `backward`, `step`, `zero_grad` but subclass the Learner and define these methods then."
   ]
  },
  {
   "cell_type": "markdown",
   "id": "066c459b",
   "metadata": {},
   "source": [
    "### Learner subclasses"
   ]
  },
  {
   "cell_type": "code",
   "execution_count": 44,
   "id": "9cc65f50",
   "metadata": {},
   "outputs": [],
   "source": [
    "#|export\n",
    "class TrainLearner(Learner):\n",
    "    def predict(self): self.preds = self.model(self.batch[0])\n",
    "    def get_loss(self): self.loss = self.loss_func(self.preds, self.batch[1])\n",
    "    def backward(self): self.loss.backward()\n",
    "    def step(self): self.opt.step()\n",
    "    def zero_grad(self): self.opt.zero_grad()"
   ]
  },
  {
   "cell_type": "markdown",
   "id": "32fc94db",
   "metadata": {},
   "source": [
    "We can implement momentum by simply changing zero_grad: instead of zeroing out the gradients, we can just multiply the gradients by a weight smaller than 1 (to lower a bit the previous gradient contributions) to average out directional components that don't align with the most efficient direction to lower the error. "
   ]
  },
  {
   "cell_type": "code",
   "execution_count": 45,
   "id": "5aaf1ea1",
   "metadata": {},
   "outputs": [],
   "source": [
    "#|export\n",
    "class MomentumLearner(TrainLearner):\n",
    "    def __init__(self, model, dls, loss_func, lr, cbs, opt_func=optim.SGD, mom=0.85):\n",
    "        self.mom = mom\n",
    "        super().__init__(model, dls, loss_func, lr, cbs, opt_func)\n",
    "        \n",
    "    def zero_grad(self):\n",
    "        with torch.no_grad():\n",
    "            for p in self.model.parameters(): p.grad *= self.mom"
   ]
  },
  {
   "cell_type": "code",
   "execution_count": 47,
   "id": "147faca8",
   "metadata": {},
   "outputs": [
    {
     "data": {
      "text/html": [
       "\n",
       "<style>\n",
       "    /* Turns off some styling */\n",
       "    progress {\n",
       "        /* gets rid of default border in Firefox and Opera. */\n",
       "        border: none;\n",
       "        /* Needs to be in here for Safari polyfill so background images work as expected. */\n",
       "        background-size: auto;\n",
       "    }\n",
       "    progress:not([value]), progress:not([value])::-webkit-progress-bar {\n",
       "        background: repeating-linear-gradient(45deg, #7e7e7e, #7e7e7e 10px, #5c5c5c 10px, #5c5c5c 20px);\n",
       "    }\n",
       "    .progress-bar-interrupted, .progress-bar-interrupted::-webkit-progress-bar {\n",
       "        background: #F44336;\n",
       "    }\n",
       "</style>\n"
      ],
      "text/plain": [
       "<IPython.core.display.HTML object>"
      ]
     },
     "metadata": {},
     "output_type": "display_data"
    },
    {
     "data": {
      "text/html": [
       "{'accuracy': '0.680', 'loss': '0.931', 'epoch': 0, 'train': True}<p>{'accuracy': '0.811', 'loss': '0.538', 'epoch': 0, 'train': False}"
      ],
      "text/plain": [
       "<IPython.core.display.HTML object>"
      ]
     },
     "metadata": {},
     "output_type": "display_data"
    },
    {
     "data": {
      "image/png": "[encoded data removed]",
      "text/plain": [
       "<Figure size 600x400 with 1 Axes>"
      ]
     },
     "metadata": {},
     "output_type": "display_data"
    }
   ],
   "source": [
    "metrics = MetricsCB(accuracy=MulticlassAccuracy())\n",
    "cbs = [DeviceCB(), metrics, ProgressCB(plot=True)]\n",
    "learn = MomentumLearner(get_model(), dls, F.cross_entropy, lr=0.2, cbs=cbs)\n",
    "learn.fit(1)"
   ]
  },
  {
   "cell_type": "markdown",
   "id": "5c69b85d",
   "metadata": {},
   "source": [
    "#### LRFinderCB"
   ]
  },
  {
   "cell_type": "code",
   "execution_count": 101,
   "id": "af65af27",
   "metadata": {},
   "outputs": [],
   "source": [
    "class LRFinderCB(Callback):\n",
    "    def __init__(self, lr_mult=1.3): fc.store_attr()\n",
    "        \n",
    "    def before_fit(self):\n",
    "        self.lrs, self.losses = [],[]\n",
    "        self.min = math.inf\n",
    "    \n",
    "    def after_batch(self):\n",
    "        if not self.learn.model.training: raise CancelEpochException()\n",
    "        self.lrs.append(self.learn.opt.param_groups[0]['lr'])\n",
    "        loss = to_cpu(self.learn.loss)\n",
    "        self.losses.append(loss)\n",
    "        if loss < self.min: self.min = loss\n",
    "        if loss > self.min*3: raise CancelFitException()\n",
    "        for g in self.learn.opt.param_groups: g['lr'] *= self.lr_mult\n",
    "    \n",
    "    def plot(self):\n",
    "        plt.plot(self.lrs, self.losses)\n",
    "        plt.xscale('log')"
   ]
  },
  {
   "cell_type": "code",
   "execution_count": 102,
   "id": "24bce4da",
   "metadata": {},
   "outputs": [
    {
     "data": {
      "text/html": [
       "\n",
       "<style>\n",
       "    /* Turns off some styling */\n",
       "    progress {\n",
       "        /* gets rid of default border in Firefox and Opera. */\n",
       "        border: none;\n",
       "        /* Needs to be in here for Safari polyfill so background images work as expected. */\n",
       "        background-size: auto;\n",
       "    }\n",
       "    progress:not([value]), progress:not([value])::-webkit-progress-bar {\n",
       "        background: repeating-linear-gradient(45deg, #7e7e7e, #7e7e7e 10px, #5c5c5c 10px, #5c5c5c 20px);\n",
       "    }\n",
       "    .progress-bar-interrupted, .progress-bar-interrupted::-webkit-progress-bar {\n",
       "        background: #F44336;\n",
       "    }\n",
       "</style>\n"
      ],
      "text/plain": [
       "<IPython.core.display.HTML object>"
      ]
     },
     "metadata": {},
     "output_type": "display_data"
    },
    {
     "data": {
      "text/html": [
       "\n",
       "    <div>\n",
       "      <progress value='0' class='' max='1' style='width:300px; height:20px; vertical-align: middle;'></progress>\n",
       "      0.00% [0/1 00:00&lt;?]\n",
       "    </div>\n",
       "    \n",
       "\n",
       "\n",
       "    <div>\n",
       "      <progress value='32' class='' max='59' style='width:300px; height:20px; vertical-align: middle;'></progress>\n",
       "      54.24% [32/59 00:08&lt;00:06 1.442]\n",
       "    </div>\n",
       "    "
      ],
      "text/plain": [
       "<IPython.core.display.HTML object>"
      ]
     },
     "metadata": {},
     "output_type": "display_data"
    }
   ],
   "source": [
    "lrfind = LRFinderCB()\n",
    "cbs = [DeviceCB(), ProgressCB(), lrfind]\n",
    "learn = MomentumLearner(get_model(), dls, F.cross_entropy, lr=1e-4, cbs=cbs)\n",
    "learn.fit(1)                    "
   ]
  },
  {
   "cell_type": "code",
   "execution_count": 103,
   "id": "82ecbe3c",
   "metadata": {},
   "outputs": [
    {
     "data": {
      "image/png": "[encoded data removed]",
      "text/plain": [
       "<Figure size 640x480 with 1 Axes>"
      ]
     },
     "metadata": {},
     "output_type": "display_data"
    }
   ],
   "source": [
    "lrfind.plot()"
   ]
  },
  {
   "cell_type": "markdown",
   "id": "c725ec60",
   "metadata": {},
   "source": [
    "We can use an LR scheduler from Pytorch, it replaces the action of this line of code: <br> \n",
    "`for g in self.learn.opt.param_groups: g['lr'] *= self.lr_mult` "
   ]
  },
  {
   "cell_type": "code",
   "execution_count": 104,
   "id": "41ac3bff",
   "metadata": {},
   "outputs": [],
   "source": [
    "#|export\n",
    "from torch.optim.lr_scheduler import ExponentialLR"
   ]
  },
  {
   "cell_type": "markdown",
   "id": "f5d89326",
   "metadata": {},
   "source": [
    "[ExponentialLR](https://pytorch.org/docs/stable/generated/torch.optim.lr_scheduler.ExponentialLR.html#torch.optim.lr_scheduler.ExponentialLR)"
   ]
  },
  {
   "cell_type": "code",
   "execution_count": 1,
   "id": "02568ff6",
   "metadata": {},
   "outputs": [
    {
     "ename": "NameError",
     "evalue": "name 'Callback' is not defined",
     "output_type": "error",
     "traceback": [
      "\u001b[0;31m---------------------------------------------------------------------------\u001b[0m",
      "\u001b[0;31mNameError\u001b[0m                                 Traceback (most recent call last)",
      "Cell \u001b[0;32mIn[1], line 2\u001b[0m\n\u001b[1;32m      1\u001b[0m \u001b[38;5;66;03m#|export\u001b[39;00m\n\u001b[0;32m----> 2\u001b[0m \u001b[38;5;28;01mclass\u001b[39;00m \u001b[38;5;21;01mLRFinderCB\u001b[39;00m(\u001b[43mCallback\u001b[49m):\n\u001b[1;32m      3\u001b[0m     \u001b[38;5;28;01mdef\u001b[39;00m \u001b[38;5;21m__init__\u001b[39m(\u001b[38;5;28mself\u001b[39m, gamma\u001b[38;5;241m=\u001b[39m\u001b[38;5;241m1.3\u001b[39m, max_mult\u001b[38;5;241m=\u001b[39m\u001b[38;5;241m3\u001b[39m): fc\u001b[38;5;241m.\u001b[39mstore_attr()\n\u001b[1;32m      5\u001b[0m     \u001b[38;5;28;01mdef\u001b[39;00m \u001b[38;5;21mbefore_fit\u001b[39m(\u001b[38;5;28mself\u001b[39m):\n",
      "\u001b[0;31mNameError\u001b[0m: name 'Callback' is not defined"
     ]
    }
   ],
   "source": [
    "#|export\n",
    "class LRFinderCB(Callback):\n",
    "    def __init__(self, gamma=1.3, max_mult=3): fc.store_attr()\n",
    "    \n",
    "    def before_fit(self):\n",
    "        self.sched = ExponentialLR(self.learn.opt, self.gamma)\n",
    "        self.lrs,self.losses = [],[]\n",
    "        self.min = math.inf\n",
    "\n",
    "    def after_batch(self):\n",
    "        if not self.learn.model.training: raise CancelEpochException()\n",
    "        self.lrs.append(self.learn.opt.param_groups[0]['lr'])\n",
    "        loss = to_cpu(self.learn.loss)\n",
    "        self.losses.append(loss)\n",
    "        if loss < self.min: self.min = loss\n",
    "        if math.isnan(loss) or (loss > self.min*self.max_mult):\n",
    "            raise CancelFitException()\n",
    "        self.sched.step()\n",
    "\n",
    "    def cleanup_fit(self):\n",
    "        plt.plot(self.lrs, self.losses)\n",
    "        plt.xscale('log')"
   ]
  },
  {
   "cell_type": "code",
   "execution_count": 106,
   "id": "b589bfce",
   "metadata": {},
   "outputs": [
    {
     "data": {
      "text/html": [
       "\n",
       "<style>\n",
       "    /* Turns off some styling */\n",
       "    progress {\n",
       "        /* gets rid of default border in Firefox and Opera. */\n",
       "        border: none;\n",
       "        /* Needs to be in here for Safari polyfill so background images work as expected. */\n",
       "        background-size: auto;\n",
       "    }\n",
       "    progress:not([value]), progress:not([value])::-webkit-progress-bar {\n",
       "        background: repeating-linear-gradient(45deg, #7e7e7e, #7e7e7e 10px, #5c5c5c 10px, #5c5c5c 20px);\n",
       "    }\n",
       "    .progress-bar-interrupted, .progress-bar-interrupted::-webkit-progress-bar {\n",
       "        background: #F44336;\n",
       "    }\n",
       "</style>\n"
      ],
      "text/plain": [
       "<IPython.core.display.HTML object>"
      ]
     },
     "metadata": {},
     "output_type": "display_data"
    },
    {
     "data": {
      "text/html": [
       "\n",
       "    <div>\n",
       "      <progress value='0' class='' max='1' style='width:300px; height:20px; vertical-align: middle;'></progress>\n",
       "      0.00% [0/1 00:00&lt;?]\n",
       "    </div>\n",
       "    \n",
       "\n",
       "\n",
       "    <div>\n",
       "      <progress value='33' class='' max='59' style='width:300px; height:20px; vertical-align: middle;'></progress>\n",
       "      55.93% [33/59 00:08&lt;00:06 2.489]\n",
       "    </div>\n",
       "    "
      ],
      "text/plain": [
       "<IPython.core.display.HTML object>"
      ]
     },
     "metadata": {},
     "output_type": "display_data"
    },
    {
     "data": {
      "image/png": "[encoded data removed]",
      "text/plain": [
       "<Figure size 640x480 with 1 Axes>"
      ]
     },
     "metadata": {},
     "output_type": "display_data"
    }
   ],
   "source": [
    "lrfind = LRFinderCB()\n",
    "cbs = [DeviceCB(), ProgressCB(), lrfind]\n",
    "learn = MomentumLearner(get_model(), dls, F.cross_entropy, lr=1e-4, cbs=cbs)\n",
    "learn.fit(1)                    "
   ]
  },
  {
   "cell_type": "markdown",
   "id": "2f35eb31",
   "metadata": {},
   "source": [
    "#### Export"
   ]
  },
  {
   "cell_type": "code",
   "execution_count": 2,
   "id": "0cd29cfe",
   "metadata": {},
   "outputs": [],
   "source": [
    "import nbdev; nbdev.nbdev_export()"
   ]
  },
  {
   "cell_type": "code",
   "execution_count": null,
   "id": "d2de08c0",
   "metadata": {},
   "outputs": [],
   "source": []
  }
 ],
 "metadata": {
  "kernelspec": {
   "display_name": "Python 3 (ipykernel)",
   "language": "python",
   "name": "python3"
  },
  "language_info": {
   "codemirror_mode": {
    "name": "ipython",
    "version": 3
   },
   "file_extension": ".py",
   "mimetype": "text/x-python",
   "name": "python",
   "nbconvert_exporter": "python",
   "pygments_lexer": "ipython3",
   "version": "3.10.8"
  }
 },
 "nbformat": 4,
 "nbformat_minor": 5
}
