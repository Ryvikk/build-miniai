{
 "cells": [
  {
   "cell_type": "code",
   "execution_count": 1,
   "id": "b8ef4ef0",
   "metadata": {},
   "outputs": [],
   "source": [
    "#| default_exp learner"
   ]
  },
  {
   "cell_type": "code",
   "execution_count": 1,
   "id": "ab2073d4",
   "metadata": {},
   "outputs": [],
   "source": [
    "#|export\n",
    "import math, torch, matplotlib as plt\n",
    "import fastcore.all as fc\n",
    "from collections.abc import Mapping\n",
    "from operator import attrgetter, itemgetter\n",
    "from functools import partial\n",
    "from copy import copy\n",
    "\n",
    "from torch import optim\n",
    "from torch.utils.data import DataLoader, default_collate\n",
    "import torch.nn.functional as F\n",
    "\n",
    "from miniai.conv import *\n",
    "\n",
    "from fastprogress import progress_bar, master_bar"
   ]
  },
  {
   "cell_type": "code",
   "execution_count": 2,
   "id": "4654db4f",
   "metadata": {},
   "outputs": [],
   "source": [
    "import matplotlib as mpl\n",
    "import torchvision.transforms.functional as TF\n",
    "from contextlib import contextmanager\n",
    "from torch import nn, tensor\n",
    "from datasets import load_dataset, load_dataset_builder\n",
    "from miniai.datasets import *\n",
    "import logging\n",
    "from fastcore.test import test_close"
   ]
  },
  {
   "cell_type": "code",
   "execution_count": 3,
   "id": "ad432116",
   "metadata": {},
   "outputs": [],
   "source": [
    "torch.set_printoptions(precision=2, linewidth=140, sci_mode=False)\n",
    "torch.manual_seed(1)\n",
    "mpl.rcParams['image.cmap'] = 'gray'"
   ]
  },
  {
   "cell_type": "code",
   "execution_count": 4,
   "id": "4a863e48",
   "metadata": {},
   "outputs": [],
   "source": [
    "logging.disable(logging.WARNING)"
   ]
  },
  {
   "cell_type": "markdown",
   "id": "036c3d40",
   "metadata": {},
   "source": [
    "##### Quick look into fascore store_attr()"
   ]
  },
  {
   "cell_type": "markdown",
   "id": "247d045d",
   "metadata": {},
   "source": [
    "`store_attr` uses `sys._getframe(1)` to get the attributes of the calling funciton. With `sys._getframe(1).f_code` to extract the name of the calling function (passing 0 for the presentframe, 1 for the previous frame, etc) and attributes with `sys._getframe(1).f_code.co_varnames`\n",
    "\n",
    "A few examples:"
   ]
  },
  {
   "cell_type": "code",
   "execution_count": 5,
   "id": "950aa09e",
   "metadata": {},
   "outputs": [],
   "source": [
    "import fastcore.all as fc"
   ]
  },
  {
   "cell_type": "code",
   "execution_count": 7,
   "id": "33764e26",
   "metadata": {},
   "outputs": [],
   "source": [
    "fc.store_attr??"
   ]
  },
  {
   "cell_type": "code",
   "execution_count": 6,
   "id": "965143b9",
   "metadata": {},
   "outputs": [],
   "source": [
    "def whoami():\n",
    "    import sys\n",
    "    return sys._getframe(0).f_code.co_name"
   ]
  },
  {
   "cell_type": "code",
   "execution_count": 7,
   "id": "c8f5295d",
   "metadata": {},
   "outputs": [],
   "source": [
    "me = whoami()"
   ]
  },
  {
   "cell_type": "code",
   "execution_count": 8,
   "id": "2774fe6c",
   "metadata": {},
   "outputs": [
    {
     "data": {
      "text/plain": [
       "'whoami'"
      ]
     },
     "execution_count": 8,
     "metadata": {},
     "output_type": "execute_result"
    }
   ],
   "source": [
    "me"
   ]
  },
  {
   "cell_type": "code",
   "execution_count": 9,
   "id": "066bb25d",
   "metadata": {},
   "outputs": [
    {
     "name": "stdout",
     "output_type": "stream",
     "text": [
      "<frame at 0x55e09203d980, file '/tmp/ipykernel_107/1935095476.py', line 3, code __init__>\n"
     ]
    }
   ],
   "source": [
    "class Test():\n",
    "    def __init__(self):\n",
    "        print(self.whoami())\n",
    "        self.ok = self.whoami()\n",
    "        \n",
    "    @classmethod\n",
    "    def whoami(self):\n",
    "        import sys\n",
    "        return sys._getframe(1)#.f_code.co_name\n",
    "\n",
    "me  = Test()"
   ]
  },
  {
   "cell_type": "code",
   "execution_count": 10,
   "id": "0ef54f5c",
   "metadata": {},
   "outputs": [
    {
     "data": {
      "text/plain": [
       "('self',)"
      ]
     },
     "execution_count": 10,
     "metadata": {},
     "output_type": "execute_result"
    }
   ],
   "source": [
    "me.ok.f_code.co_varnames"
   ]
  },
  {
   "cell_type": "code",
   "execution_count": 11,
   "id": "06e3b2cf",
   "metadata": {},
   "outputs": [
    {
     "data": {
      "text/plain": [
       "<code object __init__ at 0x7f09d7cda810, file \"/tmp/ipykernel_107/1935095476.py\", line 2>"
      ]
     },
     "execution_count": 11,
     "metadata": {},
     "output_type": "execute_result"
    }
   ],
   "source": [
    "getattr(me.ok, 'f_code')"
   ]
  },
  {
   "cell_type": "code",
   "execution_count": 12,
   "id": "fa13eb99",
   "metadata": {
    "scrolled": true
   },
   "outputs": [
    {
     "data": {
      "text/plain": [
       "{'self': <__main__.Test at 0x7f09d7c2b070>}"
      ]
     },
     "execution_count": 12,
     "metadata": {},
     "output_type": "execute_result"
    }
   ],
   "source": [
    "me.ok.f_locals"
   ]
  },
  {
   "cell_type": "markdown",
   "id": "338d9b1b",
   "metadata": {},
   "source": [
    "##### Details in DataLoaders and collate_dict"
   ]
  },
  {
   "cell_type": "code",
   "execution_count": 13,
   "id": "77cfbefb",
   "metadata": {},
   "outputs": [],
   "source": [
    "#|export\n",
    "class DataLoaders:\n",
    "    def __init__(self, *dls): self.train, self.valid = dls[:2]\n",
    "        \n",
    "    @classmethod\n",
    "    def from_dd(cls, dd, batch_size, as_tuple=True):\n",
    "        return cls(*[DataLoader(ds, batch_size, num_workers=4, collate_fn=collate_dict(ds)) for ds in dd.values()])"
   ]
  },
  {
   "cell_type": "code",
   "execution_count": 16,
   "id": "64044473",
   "metadata": {},
   "outputs": [],
   "source": [
    "collate_dict??"
   ]
  },
  {
   "cell_type": "code",
   "execution_count": 14,
   "id": "103f7a33",
   "metadata": {},
   "outputs": [],
   "source": [
    "from operator import itemgetter"
   ]
  },
  {
   "cell_type": "code",
   "execution_count": 15,
   "id": "0376c29f",
   "metadata": {},
   "outputs": [],
   "source": [
    "d = {'a':1, 'b':2, 'c':3, 'g':10, 'u':-1}"
   ]
  },
  {
   "cell_type": "code",
   "execution_count": 16,
   "id": "1478cfd2",
   "metadata": {},
   "outputs": [],
   "source": [
    "feat = list(d.keys())[2:5]"
   ]
  },
  {
   "cell_type": "code",
   "execution_count": 17,
   "id": "c905c666",
   "metadata": {},
   "outputs": [
    {
     "data": {
      "text/plain": [
       "(3, 10, -1)"
      ]
     },
     "execution_count": 17,
     "metadata": {},
     "output_type": "execute_result"
    }
   ],
   "source": [
    "get = itemgetter(*feat)\n",
    "get(d)"
   ]
  },
  {
   "cell_type": "markdown",
   "id": "559a11f7",
   "metadata": {},
   "source": [
    "#### Learner"
   ]
  },
  {
   "cell_type": "code",
   "execution_count": 18,
   "id": "0fa5a0ef",
   "metadata": {},
   "outputs": [
    {
     "data": {
      "application/vnd.jupyter.widget-view+json": {
       "model_id": "2badd68ff37c4c0887630a7fc9e970be",
       "version_major": 2,
       "version_minor": 0
      },
      "text/plain": [
       "  0%|          | 0/2 [00:00<?, ?it/s]"
      ]
     },
     "metadata": {},
     "output_type": "display_data"
    }
   ],
   "source": [
    "x, y = 'image', 'label'\n",
    "name = 'fashion_mnist'\n",
    "dsd = load_dataset(name) # dataset dict"
   ]
  },
  {
   "cell_type": "code",
   "execution_count": 19,
   "id": "17b3cc8c",
   "metadata": {},
   "outputs": [],
   "source": [
    "@inplace\n",
    "def transformi(b): b[x] = [torch.flatten(TF.to_tensor(o)) for o in b[x]]"
   ]
  },
  {
   "cell_type": "code",
   "execution_count": 20,
   "id": "ba2d00c9",
   "metadata": {},
   "outputs": [
    {
     "data": {
      "text/plain": [
       "torch.Size([784])"
      ]
     },
     "execution_count": 20,
     "metadata": {},
     "output_type": "execute_result"
    }
   ],
   "source": [
    "torch.flatten(TF.to_tensor(dsd['train'][0][x])).shape"
   ]
  },
  {
   "cell_type": "code",
   "execution_count": 21,
   "id": "4d54106c",
   "metadata": {},
   "outputs": [],
   "source": [
    "bs = 1024\n",
    "tds = dsd.with_transform(transformi) # transformed dataset"
   ]
  },
  {
   "cell_type": "code",
   "execution_count": 22,
   "id": "adb0da58",
   "metadata": {},
   "outputs": [
    {
     "data": {
      "text/plain": [
       "(torch.Size([1024, 784]), tensor([9, 0, 0, 3, 0]))"
      ]
     },
     "execution_count": 22,
     "metadata": {},
     "output_type": "execute_result"
    }
   ],
   "source": [
    "dls = DataLoaders.from_dd(tds, bs) # dataloaders\n",
    "dt = dls.train\n",
    "xb, yb = next(iter(dt))\n",
    "xb.shape, yb[:5]"
   ]
  },
  {
   "cell_type": "code",
   "execution_count": null,
   "id": "7604179d",
   "metadata": {},
   "outputs": [],
   "source": []
  },
  {
   "cell_type": "code",
   "execution_count": 23,
   "id": "f0db5e2d",
   "metadata": {},
   "outputs": [],
   "source": [
    "#|export\n",
    "class Learner:\n",
    "    def __init__(self, model, dls, loss_func, lr, opt_func=optim.SGD): fc.store_attr()\n",
    "    \n",
    "    def one_batch(self):\n",
    "        self.xb,self.yb = to_device(self.batch)\n",
    "        self.preds = model(self.xb)\n",
    "        self.loss = self.loss_func(self.preds, self.yb)\n",
    "        if self.model.training:\n",
    "            self.loss.backward()\n",
    "            self.opt.step()\n",
    "            self.opt.zero_grad()\n",
    "        with torch.no_grad(): self.calc_stats()\n",
    "                            \n",
    "    def calc_stats(self):\n",
    "        acc = (self.preds.argmax(dim=1)==self.yb).float().sum()\n",
    "        self.accs.append(acc)\n",
    "        n = len(self.xb)\n",
    "        self.losses.append(self.loss*n)\n",
    "        self.ns.append(n)\n",
    "        \n",
    "    def one_epoch(self, train):\n",
    "        self.model.training = train\n",
    "        dl = self.dls.train if train else self.dls.valid\n",
    "        for self.num, self.batch in enumerate(dl): self.one_batch()\n",
    "        n = sum(self.ns)\n",
    "        print(self.epoch, self.model.training, sum(self.losses).item()/n, sum(self.accs).item()/n)\n",
    "\n",
    "    def fit(self, n_epochs):\n",
    "        self.accs, self.losses, self.ns = [], [], []\n",
    "        self.model.to(def_device)\n",
    "        self.opt = self.opt_func(self.model.parameters(), self.lr)\n",
    "        self.n_epoch = n_epochs\n",
    "        for self.epoch in range(n_epochs):\n",
    "            self.one_epoch(True)\n",
    "            self.one_epoch(False)    "
   ]
  },
  {
   "cell_type": "code",
   "execution_count": 24,
   "id": "73c56420",
   "metadata": {},
   "outputs": [],
   "source": [
    "m, nh = 28*28, 50\n",
    "model = nn.Sequential(nn.Linear(m,nh), nn.ReLU(), nn.Linear(nh, 10))"
   ]
  },
  {
   "cell_type": "code",
   "execution_count": 26,
   "id": "e5dd8da6",
   "metadata": {},
   "outputs": [
    {
     "name": "stdout",
     "output_type": "stream",
     "text": [
      "0 True 0.7292391276041666 0.73845\n",
      "0 False 0.7194779575892857 0.7408\n"
     ]
    }
   ],
   "source": [
    "learn = Learner(model, dls, F.cross_entropy, lr=0.2)\n",
    "learn.fit(1)"
   ]
  },
  {
   "cell_type": "code",
   "execution_count": 27,
   "id": "1c0fd4c6",
   "metadata": {},
   "outputs": [
    {
     "data": {
      "text/plain": [
       "True"
      ]
     },
     "execution_count": 27,
     "metadata": {},
     "output_type": "execute_result"
    }
   ],
   "source": [
    "torch.cuda.is_available()"
   ]
  },
  {
   "cell_type": "markdown",
   "id": "c6049f78",
   "metadata": {},
   "source": [
    "### Metrics"
   ]
  },
  {
   "cell_type": "code",
   "execution_count": 28,
   "id": "4afa3070",
   "metadata": {},
   "outputs": [],
   "source": [
    "class Metric():\n",
    "    def __init__(self): \n",
    "        self.reset()\n",
    "        \n",
    "    def reset(self): \n",
    "        self.vals = []\n",
    "        self.ns = []\n",
    "        \n",
    "    def add(self, inp, targ=None, n=1):\n",
    "        self.last = self.calc(inp, targ)\n",
    "        self.vals.append(self.last)\n",
    "        self.ns.append(n)\n",
    "    \n",
    "    @property\n",
    "    def value(self):\n",
    "        ns = tensor(self.ns)\n",
    "        return (tensor(self.vals)*ns).sum()/ns.sum()\n",
    "    \n",
    "    def calc(self, inps, targs):\n",
    "        return inps"
   ]
  },
  {
   "cell_type": "code",
   "execution_count": 29,
   "id": "2cb62af4",
   "metadata": {},
   "outputs": [],
   "source": [
    "class Accuracy(Metric):\n",
    "    def calc(self, inps, targs): return (inps==targs).float().mean()"
   ]
  },
  {
   "cell_type": "code",
   "execution_count": 30,
   "id": "99d43bcc",
   "metadata": {},
   "outputs": [],
   "source": [
    "class EvenCount(Metric):\n",
    "    def calc(self, inp, targ=None): return 1 if inp%2==0 else 0"
   ]
  },
  {
   "cell_type": "code",
   "execution_count": 31,
   "id": "25ee3558",
   "metadata": {},
   "outputs": [],
   "source": [
    "seq = [5,1,2,4,6,7,8,4,5,1,3,5,9,8,7,7,4,5,1,3,2,1,3,5,6,8,4,5,4,63,2,1,85,4,8,5,4,65,2,1,5,6,5,1,5]\n",
    "\n",
    "counter = EvenCount()\n",
    "\n",
    "def run(seq, metr):\n",
    "    for i in seq:\n",
    "        metr.add(i)"
   ]
  },
  {
   "cell_type": "code",
   "execution_count": 32,
   "id": "7c70c5c3",
   "metadata": {},
   "outputs": [],
   "source": [
    "run(seq, counter)"
   ]
  },
  {
   "cell_type": "code",
   "execution_count": 33,
   "id": "bc1f4891",
   "metadata": {},
   "outputs": [
    {
     "data": {
      "text/plain": [
       "[0, 0, 1]"
      ]
     },
     "execution_count": 33,
     "metadata": {},
     "output_type": "execute_result"
    }
   ],
   "source": [
    "counter.vals[:3]"
   ]
  },
  {
   "cell_type": "code",
   "execution_count": 34,
   "id": "c0ec9728",
   "metadata": {},
   "outputs": [],
   "source": [
    "x, *seq[:3] = seq"
   ]
  },
  {
   "cell_type": "code",
   "execution_count": 35,
   "id": "5d5258cc",
   "metadata": {},
   "outputs": [
    {
     "data": {
      "text/plain": [
       "(5, 1, 2, 4)"
      ]
     },
     "execution_count": 35,
     "metadata": {},
     "output_type": "execute_result"
    }
   ],
   "source": [
    "x, *seq[:3]"
   ]
  },
  {
   "cell_type": "code",
   "execution_count": 36,
   "id": "5b97a381",
   "metadata": {},
   "outputs": [
    {
     "data": {
      "text/plain": [
       "86"
      ]
     },
     "execution_count": 36,
     "metadata": {},
     "output_type": "execute_result"
    }
   ],
   "source": [
    "len(seq)"
   ]
  },
  {
   "cell_type": "code",
   "execution_count": 139,
   "id": "3096d3fb",
   "metadata": {},
   "outputs": [],
   "source": [
    "class Capsule():\n",
    "    def __init__(self, name): \n",
    "        self.name = name\n",
    "        \n",
    "    def __call__(self, f):\n",
    "        def _f(u,x): \n",
    "            print('This is the key:')\n",
    "            print(u._key)\n",
    "            r = f(u,x)\n",
    "            print('I am inside the method')\n",
    "            return r\n",
    "        return _f"
   ]
  },
  {
   "cell_type": "code",
   "execution_count": 146,
   "id": "373833f3",
   "metadata": {},
   "outputs": [],
   "source": [
    "class Builder():\n",
    "    def __init__(self, seq, key):\n",
    "        self.seq = seq\n",
    "        self._key = key\n",
    "    \n",
    "    @Capsule('keygen_')\n",
    "    def _decode(self, x):\n",
    "#         import pdb; pdb.set_trace()\n",
    "        self.val = (self.seq*self._key/x).sum()\n",
    "        return (self.seq*self._key/x).sum()\n",
    "    \n",
    "    def status(self, x):\n",
    "        print(self._decode(x))\n",
    "        print(self.val)"
   ]
  },
  {
   "cell_type": "code",
   "execution_count": 147,
   "id": "33cb2067",
   "metadata": {},
   "outputs": [],
   "source": [
    "build = Builder(tensor(seq), 3)"
   ]
  },
  {
   "cell_type": "code",
   "execution_count": 150,
   "id": "042a70b0",
   "metadata": {},
   "outputs": [
    {
     "name": "stdout",
     "output_type": "stream",
     "text": [
      "This is the key:\n",
      "3\n",
      "I am inside the method\n",
      "tensor(15.54)\n",
      "tensor(15.54)\n"
     ]
    }
   ],
   "source": [
    "build.status(150)"
   ]
  },
  {
   "cell_type": "code",
   "execution_count": null,
   "id": "7af775f8",
   "metadata": {},
   "outputs": [],
   "source": []
  }
 ],
 "metadata": {
  "kernelspec": {
   "display_name": "Python 3 (ipykernel)",
   "language": "python",
   "name": "python3"
  },
  "language_info": {
   "codemirror_mode": {
    "name": "ipython",
    "version": 3
   },
   "file_extension": ".py",
   "mimetype": "text/x-python",
   "name": "python",
   "nbconvert_exporter": "python",
   "pygments_lexer": "ipython3",
   "version": "3.10.8"
  }
 },
 "nbformat": 4,
 "nbformat_minor": 5
}
